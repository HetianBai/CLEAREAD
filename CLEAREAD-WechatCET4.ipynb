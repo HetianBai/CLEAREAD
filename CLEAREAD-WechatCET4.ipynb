{
 "cells": [
  {
   "cell_type": "code",
   "execution_count": 1,
   "metadata": {
    "ExecuteTime": {
     "end_time": "2020-07-10T06:18:31.321561Z",
     "start_time": "2020-07-10T06:18:27.754069Z"
    }
   },
   "outputs": [],
   "source": [
    "from wechatpy.client import WeChatClient\n",
    "import time"
   ]
  },
  {
   "cell_type": "code",
   "execution_count": 2,
   "metadata": {
    "ExecuteTime": {
     "end_time": "2020-07-10T06:18:31.330506Z",
     "start_time": "2020-07-10T06:18:31.324521Z"
    }
   },
   "outputs": [],
   "source": [
    "app = {\n",
    "    \"appid\": \"wx72b0cc170a66fe7b\",\n",
    "    \"appsecret\": \"9e9ef69b54fd1688376dc82b130f4bf9\"\n",
    "}\n",
    "wx = WeChatClient(app.get(\"appid\"), app.get(\"appsecret\"))"
   ]
  },
  {
   "cell_type": "code",
   "execution_count": 4,
   "metadata": {
    "ExecuteTime": {
     "end_time": "2020-07-10T06:21:13.010796Z",
     "start_time": "2020-07-10T06:21:03.704049Z"
    }
   },
   "outputs": [
    {
     "name": "stdout",
     "output_type": "stream",
     "text": [
      "please enter the name of the FC fileFC-A-1\n",
      "please enter the counts of the images100\n"
     ]
    }
   ],
   "source": [
    "filename = input('please enter the name of the FC file')\n",
    "counts = input(\"please enter the counts of the images\")"
   ]
  },
  {
   "cell_type": "code",
   "execution_count": 5,
   "metadata": {
    "ExecuteTime": {
     "end_time": "2020-07-10T06:25:12.720072Z",
     "start_time": "2020-07-10T06:21:13.890443Z"
    },
    "scrolled": false
   },
   "outputs": [
    {
     "ename": "NameError",
     "evalue": "name 'pic_bottom_url' is not defined",
     "output_type": "error",
     "traceback": [
      "\u001b[1;31m---------------------------------------------------------------------------\u001b[0m",
      "\u001b[1;31mNameError\u001b[0m                                 Traceback (most recent call last)",
      "\u001b[1;32m<ipython-input-5-71c057e21d79>\u001b[0m in \u001b[0;36m<module>\u001b[1;34m\u001b[0m\n\u001b[0;32m     41\u001b[0m     \u001b[0mpic_html\u001b[0m\u001b[1;33m.\u001b[0m\u001b[0mappend\u001b[0m\u001b[1;33m(\u001b[0m\u001b[0mcss\u001b[0m\u001b[1;33m)\u001b[0m\u001b[1;33m\u001b[0m\u001b[1;33m\u001b[0m\u001b[0m\n\u001b[0;32m     42\u001b[0m \u001b[1;33m\u001b[0m\u001b[0m\n\u001b[1;32m---> 43\u001b[1;33m \u001b[0mpic_html\u001b[0m\u001b[1;33m.\u001b[0m\u001b[0mappend\u001b[0m\u001b[1;33m(\u001b[0m\u001b[1;34m\"<img src=\"\u001b[0m \u001b[1;33m+\u001b[0m \u001b[0mpic_bottom_url\u001b[0m \u001b[1;33m+\u001b[0m \u001b[1;34m\"\"\"data-type=\"jpg\" >\"\"\"\u001b[0m\u001b[1;33m)\u001b[0m\u001b[1;33m\u001b[0m\u001b[1;33m\u001b[0m\u001b[0m\n\u001b[0m\u001b[0;32m     44\u001b[0m \u001b[1;33m\u001b[0m\u001b[0m\n\u001b[0;32m     45\u001b[0m \u001b[1;33m\u001b[0m\u001b[0m\n",
      "\u001b[1;31mNameError\u001b[0m: name 'pic_bottom_url' is not defined"
     ]
    }
   ],
   "source": [
    "pic_word_link = []\n",
    "pic_defin_link = []\n",
    "for i in range (1,int(counts)+1):\n",
    "    if i % 2 != 0:\n",
    "        pic = \"D://\" + filename + \"/幻灯片\" + str(i) + \".JPG\"\n",
    "        pic_word_link.append(pic)\n",
    "    else:\n",
    "        pic = \"D://\" + filename + \"/幻灯片\" + str(i) + \".JPG\"\n",
    "        pic_defin_link.append(pic)\n",
    "\n",
    "\n",
    "pic_word_url = []\n",
    "pic_defin_url = []\n",
    "\n",
    "for i in pic_word_link:\n",
    "    resp = wx.material.add(\"image\",open(i,\"rb\"))\n",
    "    pic_word_url.append(resp['url'])\n",
    "    time.sleep(2)\n",
    "\n",
    "\n",
    "for i in pic_defin_link:\n",
    "    resp = wx.material.add(\"image\",open(i,\"rb\"))\n",
    "    pic_defin_url.append(resp['url'])\n",
    "    time.sleep(2)\n",
    "    \n",
    "pic_html = []\n",
    "\n",
    "\n",
    "#Format HTML language\n",
    "for i in range(0,(int(counts)//2)):\n",
    "    css = \"\"\"<section data-width=\"100%\" style=\"display: inline-block; width: 100%; font-size: 0px; background-image: url(&quot;\"\"\" + pic_defin_url[i] + \"\"\"&quot;); background-size: cover; vertical-align: top; background-attachment: scroll; box-sizing: border-box; text-align: center; background-position: 0% 0%; background-repeat: no-repeat; max-width: 100% !important;\">\n",
    "<svg data-width=\"100%\" enable-background=\"new 0 0 1067 96\" space=\"preserve\" style=\"display: inline-block;outline: none;width: 100%;margin-top: -1px;border-width: initial;border-style: none;border-color: initial;vertical-align: top;background-position: 0% 0%;background-repeat: no-repeat;background-size: 100%;background-attachment: scroll;background-image: url(&quot;\"\"\" + pic_word_url[i] + \"\"\"&quot;);-webkit-tap-highlight-color: transparent;\" viewBox=\"0 0 1066 96\" x=\"0px\" xml=\"\" y=\"0px\">\n",
    "<set attributeName=\"visibility\" from=\"visible\" to=\"hidden\" begin=\"click+0.3\"></set>\n",
    "<animate attributeName=\"opacity\" begin=\"click\" dur=\"0.2s\" values=\"1;0\" restart=\"never\" fill=\"freeze\">\n",
    "</animate>\n",
    "<set attributeName=\"visibility\" from=\"hidden\" to=\"visible\" begin=\"click+4\"></set>\n",
    "<animate attributeName=\"opacity\" begin=\"click+4\" dur=\"0.2s\" values=\"0;1\" restart=\"never\" fill=\"freeze\">\n",
    "</animate>\n",
    "</svg>\n",
    "</section>\"\"\" \n",
    "    pic_html.append(css)\n",
    "    \n",
    "\n",
    "\n",
    "#Output\n",
    "fileObject = open('Wechat HTML.txt', 'w',encoding='utf-8')\n",
    "fileObject.write(\"\"\"<p style=\"text-align: center;\"><img class=\"rich_pages __bg_gif\" data-cropselx1=\"0\" data-cropselx2=\"578\" data-cropsely1=\"0\" data-cropsely2=\"94\" data-ratio=\"0.16300940438871472\" data-s=\"300,640\" src=\"https://mmbiz.qpic.cn/mmbiz_gif/B0OT7bl3qeG68IvzLJWKglDFJxVibSULhxdK2JdtaGdjuiayKfx4NqZFHeDlk5qRdflN1rY4MuQOuUC3DibS2UfAg/640?wx_fmt=gif\" data-type=\"gif\" data-w=\"638\" style=\"margin-top: 15px;margin-bottom: 18px;width: 578px !important;height: auto !important;visibility: visible !important;\" width=\"578px\"></p>\"\"\")\n",
    "fileObject.write('\\n')\n",
    "for i in pic_html:\n",
    "    fileObject.write(i)\n",
    "    fileObject.write('\\n')\n",
    "fileObject.close()\n"
   ]
  },
  {
   "cell_type": "code",
   "execution_count": null,
   "metadata": {},
   "outputs": [],
   "source": []
  }
 ],
 "metadata": {
  "kernelspec": {
   "display_name": "Python 3",
   "language": "python",
   "name": "python3"
  },
  "language_info": {
   "codemirror_mode": {
    "name": "ipython",
    "version": 3
   },
   "file_extension": ".py",
   "mimetype": "text/x-python",
   "name": "python",
   "nbconvert_exporter": "python",
   "pygments_lexer": "ipython3",
   "version": "3.7.3"
  },
  "toc": {
   "base_numbering": 1,
   "nav_menu": {},
   "number_sections": true,
   "sideBar": true,
   "skip_h1_title": false,
   "title_cell": "Table of Contents",
   "title_sidebar": "Contents",
   "toc_cell": false,
   "toc_position": {},
   "toc_section_display": true,
   "toc_window_display": false
  }
 },
 "nbformat": 4,
 "nbformat_minor": 4
}
