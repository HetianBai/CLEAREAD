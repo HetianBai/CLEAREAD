{
 "cells": [
  {
   "cell_type": "code",
   "execution_count": 16,
   "metadata": {
    "ExecuteTime": {
     "end_time": "2020-07-29T07:30:30.399307Z",
     "start_time": "2020-07-29T07:30:30.357420Z"
    }
   },
   "outputs": [],
   "source": [
    "from wechatpy.client import WeChatClient\n",
    "import time"
   ]
  },
  {
   "cell_type": "code",
   "execution_count": 17,
   "metadata": {
    "ExecuteTime": {
     "end_time": "2020-07-29T07:30:30.599770Z",
     "start_time": "2020-07-29T07:30:30.577833Z"
    }
   },
   "outputs": [],
   "source": [
    "app = {\n",
    "    \"appid\": \"wx72b0cc170a66fe7b\",\n",
    "    \"appsecret\": \"9e9ef69b54fd1688376dc82b130f4bf9\"\n",
    "}\n",
    "wx = WeChatClient(app.get(\"appid\"), app.get(\"appsecret\"))"
   ]
  },
  {
   "cell_type": "code",
   "execution_count": 25,
   "metadata": {
    "ExecuteTime": {
     "end_time": "2020-07-29T08:10:45.844255Z",
     "start_time": "2020-07-29T08:10:29.417747Z"
    }
   },
   "outputs": [
    {
     "name": "stdout",
     "output_type": "stream",
     "text": [
      "please enter the name of the FC fileCET-45\n",
      "please enter the number of imgs100\n",
      "please enter the start number1\n"
     ]
    }
   ],
   "source": [
    "filename = input('please enter the name of the FC file')\n",
    "counts = input('please enter the number of imgs')\n",
    "start = input('please enter the start number')"
   ]
  },
  {
   "cell_type": "code",
   "execution_count": 26,
   "metadata": {
    "ExecuteTime": {
     "end_time": "2020-07-29T08:14:48.573509Z",
     "start_time": "2020-07-29T08:10:46.429134Z"
    },
    "scrolled": false
   },
   "outputs": [],
   "source": [
    "pic_word_link = []\n",
    "pic_defin_link = []\n",
    "for i in range (int(start),int(start)+int(counts)):\n",
    "    if i % 2 != 0:\n",
    "        pic = \"D://\" + filename + \"/幻灯片\" + str(i) + \".JPG\"\n",
    "        pic_word_link.append(pic)\n",
    "    else:\n",
    "        pic = \"D://\" + filename + \"/幻灯片\" + str(i) + \".JPG\"\n",
    "        pic_defin_link.append(pic)\n",
    "\n",
    "\n",
    "pic_word_url = []\n",
    "pic_defin_url = []\n",
    "\n",
    "for i in pic_word_link:\n",
    "    resp = wx.material.add(\"image\",open(i,\"rb\"))\n",
    "    pic_word_url.append(resp['url'])\n",
    "    time.sleep(2)\n",
    "\n",
    "\n",
    "for i in pic_defin_link:\n",
    "    resp = wx.material.add(\"image\",open(i,\"rb\"))\n",
    "    pic_defin_url.append(resp['url'])\n",
    "    time.sleep(2)\n",
    "    \n",
    "pic_html = []\n",
    "\n",
    "\n",
    "#Format HTML language\n",
    "for i in range(0,(int(counts)//2)):\n",
    "    css = \"\"\"<section data-width=\"100%\" style=\"display: inline-block; width: 100%; font-size: 0px; background-image: url(&quot;\"\"\" + pic_defin_url[i] + \"\"\"&quot;); background-size: cover; vertical-align: top; background-attachment: scroll; box-sizing: border-box; text-align: center; background-position: 0% 0%; background-repeat: no-repeat; max-width: 100% !important;\">\n",
    "<svg data-width=\"100%\" enable-background=\"new 0 0 1067 96\" space=\"preserve\" style=\"display: inline-block;outline: none;width: 100%;margin-top: -1px;border-width: initial;border-style: none;border-color: initial;vertical-align: top;background-position: 0% 0%;background-repeat: no-repeat;background-size: 100%;background-attachment: scroll;background-image: url(&quot;\"\"\" + pic_word_url[i] + \"\"\"&quot;);-webkit-tap-highlight-color: transparent;\" viewBox=\"0 0 1066 96\" x=\"0px\" xml=\"\" y=\"0px\">\n",
    "<set attributeName=\"visibility\" from=\"visible\" to=\"hidden\" begin=\"click+0.3\"></set>\n",
    "<animate attributeName=\"opacity\" begin=\"click\" dur=\"0.2s\" values=\"1;0\" restart=\"never\" fill=\"freeze\">\n",
    "</animate>\n",
    "<set attributeName=\"visibility\" from=\"hidden\" to=\"visible\" begin=\"click+4\"></set>\n",
    "<animate attributeName=\"opacity\" begin=\"click+4\" dur=\"0.2s\" values=\"0;1\" restart=\"never\" fill=\"freeze\">\n",
    "</animate>\n",
    "</svg>\n",
    "</section>\"\"\" \n",
    "    pic_html.append(css)\n",
    "    \n",
    "\n",
    "\n",
    "#Output\n",
    "fileObject = open('WechatCET4HTML.txt', 'w',encoding='utf-8')\n",
    "fileObject.write(\"\"\"<p style=\"text-align: center;\"><img class=\"rich_pages __bg_gif\" data-cropselx1=\"0\" data-cropselx2=\"578\" data-cropsely1=\"0\" data-cropsely2=\"94\" data-ratio=\"0.16300940438871472\" data-s=\"300,640\" src=\"https://mmbiz.qpic.cn/mmbiz_gif/B0OT7bl3qeG68IvzLJWKglDFJxVibSULhxdK2JdtaGdjuiayKfx4NqZFHeDlk5qRdflN1rY4MuQOuUC3DibS2UfAg/640?wx_fmt=gif\" data-type=\"gif\" data-w=\"638\" style=\"margin-top: 15px;margin-bottom: 18px;width: 578px !important;height: auto !important;visibility: visible !important;\" width=\"578px\"></p>\n",
    "<section style=\"margin-bottom: 0px; margin-top: 15px; max-width: 100%; min-height: 1em; font-family: -apple-system-font, BlinkMacSystemFont, &quot;Helvetica Neue&quot;, &quot;PingFang SC&quot;, &quot;Hiragino Sans GB&quot;, &quot;Microsoft YaHei UI&quot;, &quot;Microsoft YaHei&quot;, Arial, sans-serif; white-space: normal; background-color: rgb(255, 255, 255); text-align: center; letter-spacing: 0.54px; line-height: normal; box-sizing: border-box !important; overflow-wrap: break-word !important;\"><text><em><span style=\"max-width: 100%;color: rgb(136, 136, 136);letter-spacing: 0.54px;font-family: Optima-Regular, PingFangTC-light;font-size: 12px;overflow-wrap: break-word;box-sizing: border-box !important;word-wrap: break-word !important;\">Flashcard-单词卡&nbsp;用于单词记忆和单词自测<mpchecktext contenteditable=\"false\" id=\"1594443403911_0.011743322415164625\"></mpchecktext></span></em></text></section>\n",
    "<section style=\"margin: 0px; max-width: 100%; min-height: 1em; font-family: -apple-system-font, BlinkMacSystemFont, &quot;Helvetica Neue&quot;, &quot;PingFang SC&quot;, &quot;Hiragino Sans GB&quot;, &quot;Microsoft YaHei UI&quot;, &quot;Microsoft YaHei&quot;, Arial, sans-serif; white-space: normal; background-color: rgb(255, 255, 255); text-align: center; letter-spacing: 0.54px; line-height: normal; box-sizing: border-box !important; overflow-wrap: break-word !important;\"><em><span style=\"max-width: 100%;color: rgb(136, 136, 136);letter-spacing: 0.54px;font-family: Optima-Regular, PingFangTC-light;font-size: 12px;overflow-wrap: break-word;box-sizing: border-box !important;word-wrap: break-word !important;\">点击单词图片 单词释义会短暂显示 可反复点击<mpchecktext contenteditable=\"false\" id=\"1594443403912_0.23759243427959098\"></mpchecktext></span></em></section>\n",
    "<section style=\"margin: 0px; max-width: 100%; min-height: 1em; font-family: -apple-system-font, BlinkMacSystemFont, &quot;Helvetica Neue&quot;, &quot;PingFang SC&quot;, &quot;Hiragino Sans GB&quot;, &quot;Microsoft YaHei UI&quot;, &quot;Microsoft YaHei&quot;, Arial, sans-serif; white-space: normal; background-color: rgb(255, 255, 255); text-align: center; letter-spacing: 0.54px; line-height: normal; color: rgb(136, 136, 136); box-sizing: border-box !important; overflow-wrap: break-word !important;\"><span style=\"font-size: 12px;\">▼<mpchecktext contenteditable=\"false\" id=\"1594443403913_0.9069075398007242\"></mpchecktext></span></section>\n",
    "\"\"\")\n",
    "fileObject.write('\\n')\n",
    "for i in pic_html:\n",
    "    fileObject.write(i)\n",
    "    fileObject.write('\\n')\n",
    "                \n",
    "fileObject.write(\"\"\"\n",
    "<p><span style=\"color: rgb(136, 136, 136);font-family: -apple-system-font, BlinkMacSystemFont, &quot;Helvetica Neue&quot;, &quot;PingFang SC&quot;, &quot;Hiragino Sans GB&quot;, &quot;Microsoft YaHei UI&quot;, &quot;Microsoft YaHei&quot;, Arial, sans-serif;font-size: 12px;letter-spacing: 0.54px;text-align: center;background-color: rgb(255, 255, 255);\">▼ 阅读原文 回到<span style=\"font-family: &quot;Microsoft YaHei&quot;, Arial, sans-serif;font-size: 13px;text-align: start;background-color: rgb(255, 255, 255);\">「自习室」</span>查看其他四级单词卡</span></p>\n",
    "\"\"\")\n",
    "fileObject.close()\n"
   ]
  },
  {
   "cell_type": "code",
   "execution_count": null,
   "metadata": {},
   "outputs": [],
   "source": []
  }
 ],
 "metadata": {
  "kernelspec": {
   "display_name": "Python 3",
   "language": "python",
   "name": "python3"
  },
  "language_info": {
   "codemirror_mode": {
    "name": "ipython",
    "version": 3
   },
   "file_extension": ".py",
   "mimetype": "text/x-python",
   "name": "python",
   "nbconvert_exporter": "python",
   "pygments_lexer": "ipython3",
   "version": "3.7.3"
  },
  "toc": {
   "base_numbering": 1,
   "nav_menu": {},
   "number_sections": true,
   "sideBar": true,
   "skip_h1_title": false,
   "title_cell": "Table of Contents",
   "title_sidebar": "Contents",
   "toc_cell": false,
   "toc_position": {},
   "toc_section_display": true,
   "toc_window_display": false
  }
 },
 "nbformat": 4,
 "nbformat_minor": 4
}
