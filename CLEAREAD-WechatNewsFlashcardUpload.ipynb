{
 "cells": [
  {
   "cell_type": "code",
   "execution_count": 23,
   "metadata": {
    "ExecuteTime": {
     "end_time": "2020-07-16T09:53:16.459063Z",
     "start_time": "2020-07-16T09:53:16.391185Z"
    }
   },
   "outputs": [],
   "source": [
    "from wechatpy.client import WeChatClient\n",
    "import time"
   ]
  },
  {
   "cell_type": "code",
   "execution_count": 24,
   "metadata": {
    "ExecuteTime": {
     "end_time": "2020-07-16T09:53:16.686745Z",
     "start_time": "2020-07-16T09:53:16.660814Z"
    }
   },
   "outputs": [],
   "source": [
    "app = {\n",
    "    \"appid\": \"wx72b0cc170a66fe7b\",\n",
    "    \"appsecret\": \"9e9ef69b54fd1688376dc82b130f4bf9\"\n",
    "}\n",
    "wx = WeChatClient(app.get(\"appid\"), app.get(\"appsecret\"))"
   ]
  },
  {
   "cell_type": "code",
   "execution_count": 27,
   "metadata": {
    "ExecuteTime": {
     "end_time": "2020-07-16T10:03:16.518838Z",
     "start_time": "2020-07-16T10:03:07.536226Z"
    }
   },
   "outputs": [
    {
     "name": "stdout",
     "output_type": "stream",
     "text": [
      "please enter the name of the FC fileFC-报刊亭\n",
      "please enter the counts of the images30\n"
     ]
    }
   ],
   "source": [
    "filename = input('please enter the name of the FC file')\n",
    "counts = input(\"please enter the counts of the images\")"
   ]
  },
  {
   "cell_type": "code",
   "execution_count": 28,
   "metadata": {
    "ExecuteTime": {
     "end_time": "2020-07-16T10:04:32.508529Z",
     "start_time": "2020-07-16T10:03:18.099429Z"
    }
   },
   "outputs": [],
   "source": [
    "notebook_link = \"D://Newsletter.JPG\"\n",
    "notebook_url =  wx.material.add(\"image\",open(notebook_link,\"rb\"))['url']\n",
    "\n",
    "notebook_html = \"\"\"<p style=\"text-align: center;\"><img class=\"rich_pages\" data-cropselx1=\"0\" data-cropselx2=\"578\" data-cropsely1=\"0\" data-cropsely2=\"94\" data-ratio=\"0.16300940438871472\" data-s=\"300,640\" src=\"https://mmbiz.qpic.cn/mmbiz_gif/B0OT7bl3qeG68IvzLJWKglDFJxVibSULhxdK2JdtaGdjuiayKfx4NqZFHeDlk5qRdflN1rY4MuQOuUC3DibS2UfAg/640?wx_fmt=gif\" data-type=\"gif\" data-w=\"638\" style=\"margin-top: 15px;width: 578px;height: 94px;margin-bottom: 18px;\"></p>\n",
    "<section style=\"margin: 0px; max-width: 100%; min-height: 1em; font-family: -apple-system-font, BlinkMacSystemFont, &quot;Helvetica Neue&quot;, &quot;PingFang SC&quot;, &quot;Hiragino Sans GB&quot;, &quot;Microsoft YaHei UI&quot;, &quot;Microsoft YaHei&quot;, Arial, sans-serif; white-space: normal; background-color: rgb(255, 255, 255); text-align: center; letter-spacing: 0.54px; line-height: normal; box-sizing: border-box !important; overflow-wrap: break-word !important;\"><em><span style=\"max-width: 100%;color: rgb(136, 136, 136);letter-spacing: 0.54px;font-family: Optima-Regular, PingFangTC-light;font-size: 12px;overflow-wrap: break-word;box-sizing: border-box !important;word-wrap: break-word !important;\">长按下方 保存长图<mpchecktext contenteditable=\"false\" id=\"1594544517496_0.593643842873824\"></mpchecktext></span></em></section>\n",
    "<section style=\"margin: 0px; max-width: 100%; min-height: 1em; font-family: -apple-system-font, BlinkMacSystemFont, &quot;Helvetica Neue&quot;, &quot;PingFang SC&quot;, &quot;Hiragino Sans GB&quot;, &quot;Microsoft YaHei UI&quot;, &quot;Microsoft YaHei&quot;, Arial, sans-serif; white-space: normal; background-color: rgb(255, 255, 255); text-align: center; letter-spacing: 0.54px; line-height: normal; box-sizing: border-box !important; overflow-wrap: break-word !important;\"><em><span style=\"max-width: 100%;color: rgb(136, 136, 136);letter-spacing: 0.54px;font-family: Optima-Regular, PingFangTC-light;font-size: 12px;overflow-wrap: break-word;box-sizing: border-box !important;word-wrap: break-word !important;\">红色字体为四级单词以外词汇<mpchecktext contenteditable=\"false\" id=\"1594544517497_0.5774177888103855\"></mpchecktext></span></em></section>\n",
    "<section style=\"margin: 0px; max-width: 100%; min-height: 1em; font-family: -apple-system-font, BlinkMacSystemFont, &quot;Helvetica Neue&quot;, &quot;PingFang SC&quot;, &quot;Hiragino Sans GB&quot;, &quot;Microsoft YaHei UI&quot;, &quot;Microsoft YaHei&quot;, Arial, sans-serif; white-space: normal; background-color: rgb(255, 255, 255); text-align: center; letter-spacing: 0.54px; line-height: normal; color: rgb(136, 136, 136); box-sizing: border-box !important; overflow-wrap: break-word !important;\"><span style=\"font-size: 12px;\">▼<mpchecktext contenteditable=\"false\" id=\"1594544517555_0.21834433547457954\"></mpchecktext></span></section>\n",
    "<p><img data-cropselx1=\"0\" data-cropselx2=\"578\" data-cropsely1=\"0\" data-cropsely2=\"578\" data-ratio=\"3.6841611996251173\" src=\"\n",
    "\"\"\" + notebook_url + \"\"\"\n",
    "\" data-type=\"jpeg\" data-w=\"1067\" style=\"width: 578px;height: 2129px;\"></p>\n",
    "\"\"\"\n",
    "\n",
    "#Get the images url\n",
    "pic_word_link = []\n",
    "pic_defin_link = []\n",
    "\n",
    "for i in range (1,int(counts)+1):\n",
    "    if i % 2 != 0:\n",
    "        pic = \"D://\" + filename + \"/幻灯片\" + str(i) + \".JPG\"\n",
    "        pic_word_link.append(pic)\n",
    "    else:\n",
    "        pic = \"D://\" + filename + \"/幻灯片\" + str(i) + \".JPG\"\n",
    "        pic_defin_link.append(pic)\n",
    "\n",
    "\n",
    "pic_word_url = []\n",
    "pic_defin_url = []\n",
    "\n",
    "for i in pic_word_link:\n",
    "    resp = wx.material.add(\"image\",open(i,\"rb\"))\n",
    "    pic_word_url.append(resp['url'])\n",
    "    time.sleep(2)\n",
    "\n",
    "\n",
    "for i in pic_defin_link:\n",
    "    resp = wx.material.add(\"image\",open(i,\"rb\"))\n",
    "    pic_defin_url.append(resp['url'])\n",
    "    time.sleep(2)\n",
    "    \n",
    "pic_html = []\n",
    "\n",
    "flashcard_title = \"\"\"\n",
    "<section style=\"margin-bottom: 0px; margin-top: 15px; max-width: 100%; min-height: 1em; font-family: -apple-system-font, BlinkMacSystemFont, &quot;Helvetica Neue&quot;, &quot;PingFang SC&quot;, &quot;Hiragino Sans GB&quot;, &quot;Microsoft YaHei UI&quot;, &quot;Microsoft YaHei&quot;, Arial, sans-serif; white-space: normal; background-color: rgb(255, 255, 255); text-align: center; letter-spacing: 0.54px; line-height: normal; box-sizing: border-box !important; overflow-wrap: break-word !important;\"><text><em><span style=\"max-width: 100%;color: rgb(136, 136, 136);letter-spacing: 0.54px;font-family: Optima-Regular, PingFangTC-light;font-size: 12px;overflow-wrap: break-word;box-sizing: border-box !important;word-wrap: break-word !important;\">Flashcard-单词卡&nbsp;用于单词记忆和单词自测<mpchecktext contenteditable=\"false\" id=\"1594544517514_0.2900551122864068\"></mpchecktext></span></em></text></section>\n",
    "<section style=\"margin: 0px; max-width: 100%; min-height: 1em; font-family: -apple-system-font, BlinkMacSystemFont, &quot;Helvetica Neue&quot;, &quot;PingFang SC&quot;, &quot;Hiragino Sans GB&quot;, &quot;Microsoft YaHei UI&quot;, &quot;Microsoft YaHei&quot;, Arial, sans-serif; white-space: normal; background-color: rgb(255, 255, 255); text-align: center; letter-spacing: 0.54px; line-height: normal; box-sizing: border-box !important; overflow-wrap: break-word !important;\"><em><span style=\"max-width: 100%;color: rgb(136, 136, 136);letter-spacing: 0.54px;font-family: Optima-Regular, PingFangTC-light;font-size: 12px;overflow-wrap: break-word;box-sizing: border-box !important;word-wrap: break-word !important;\">点击单词图片 单词释义会短暂显示 可反复点击<mpchecktext contenteditable=\"false\" id=\"1594544517515_0.2919099365865767\"></mpchecktext></span></em></section>\n",
    "<section style=\"margin: 0px; max-width: 100%; min-height: 1em; font-family: -apple-system-font, BlinkMacSystemFont, &quot;Helvetica Neue&quot;, &quot;PingFang SC&quot;, &quot;Hiragino Sans GB&quot;, &quot;Microsoft YaHei UI&quot;, &quot;Microsoft YaHei&quot;, Arial, sans-serif; white-space: normal; background-color: rgb(255, 255, 255); text-align: center; letter-spacing: 0.54px; line-height: normal; color: rgb(136, 136, 136); box-sizing: border-box !important; overflow-wrap: break-word !important;\"><span style=\"font-size: 12px;\">▼<mpchecktext contenteditable=\"false\" id=\"1594544517516_0.7571419184962211\"></mpchecktext></span></section>\n",
    "\"\"\"\n",
    "fairuse = \"\"\"\n",
    "<section style=\"margin-top: 14px; box-sizing: border-box; font-size: 13px; font-family: georgia, -apple-system-font, BlinkMacSystemFont, &quot;Helvetica Neue&quot;, &quot;PingFang SC&quot;, &quot;Hiragino Sans GB&quot;, &quot;Microsoft YaHei UI&quot;, &quot;Microsoft YaHei&quot;, Arial, sans-serif;\"><section style=\"transform: translate3d(0px, 0px, 0px); text-align: left; box-sizing: border-box;\" powered-by=\"xiumi.us\"><section style=\"display: inline-block; width: 100%; height: 120px; vertical-align: top; overflow-y: auto; padding: 10px; background-color: rgba(222, 237, 242, 0); box-sizing: border-box;\"><section style=\"overflow-x: hidden; transform: rotate(0deg); box-sizing: border-box;\"><p>Fair Use Statement<mpchecktext contenteditable=\"false\" id=\"1594544517517_0.7407902734316449\"></mpchecktext></p><p>&nbsp;<mpchecktext contenteditable=\"false\" id=\"1594544517518_0.09002356765919584\"></mpchecktext></p><p>This website may contain copyrighted material, the use ofwhich may not have been specifically authorized by the copyright owner. Thismaterial is available in an effort to facilitate foreign language education.The material contained in this website is distributed without profit foreducational purposes. Only small portions of the original work are being usedand we believe this should constitute a ‘fair use’ of any such copyrightedmaterial (referenced and provided for in section 107 of the Copyright Act of1976).<mpchecktext contenteditable=\"false\" id=\"1594544517519_0.3616161300982128\"></mpchecktext></p><p>&nbsp;<mpchecktext contenteditable=\"false\" id=\"1594544517520_0.4628396322470578\"></mpchecktext></p><p>If you wish to use any copyrighted material from this sitefor purposes of your own that go beyond ‘fair use’, you must obtain expressedpermission from the copyright owner.<mpchecktext contenteditable=\"false\" id=\"1594544517521_0.249362836228761\"></mpchecktext></p><p>&nbsp;<mpchecktext contenteditable=\"false\" id=\"1594544517522_0.6665774449036468\"></mpchecktext></p><p>&nbsp;<mpchecktext contenteditable=\"false\" id=\"1594544517523_0.03546328675061439\"></mpchecktext></p><p>合理使用声明<mpchecktext contenteditable=\"false\" id=\"1594544517524_0.8598259089868907\"></mpchecktext></p><p>&nbsp;<mpchecktext contenteditable=\"false\" id=\"1594544517525_0.8875539555433896\"></mpchecktext></p><p>本公众号可能包含受版权保护的材料，版权所有者未明确授权使用这些材料。<mpchecktext contenteditable=\"false\" id=\"1594544517526_0.7843266687751709\"></mpchecktext>提供这些材料是为了促进外语教学。<mpchecktext contenteditable=\"false\" id=\"1594544517527_0.2164671554154185\"></mpchecktext>本公众号所包含的材料出于教育目的而被无偿分发。<mpchecktext contenteditable=\"false\" id=\"1594544517528_0.7148489098252397\"></mpchecktext>仅使用了原始作品的一小部分，我们认为这应构成对任何此类受版权保护的材料的“合理使用”（由美国1976年版权法第107条所提述及规定）。<mpchecktext contenteditable=\"false\" id=\"1594544517529_0.8358433645110359\"></mpchecktext></p><p>&nbsp;<mpchecktext contenteditable=\"false\" id=\"1594544517530_0.6613330597550435\"></mpchecktext></p><p>如果您出于个人及并非合理使用的目的使用本公众号上的任何受版权保护的材料，则必须获得版权所有者的明示许可。<mpchecktext contenteditable=\"false\" id=\"1594544517531_0.8144769278396358\"></mpchecktext></p><section style=\"margin-right: 0%; margin-bottom: 5px; margin-left: 0%; box-sizing: border-box;\" powered-by=\"xiumi.us\"><section style=\"font-size: 14px; color: rgb(160, 160, 160); line-height: 1.8; box-sizing: border-box;\"><p style=\"box-sizing: border-box;\"><br></p></section></section><section style=\"text-align: justify; box-sizing: border-box;\" powered-by=\"xiumi.us\"><p style=\"white-space: normal; box-sizing: border-box;\"><br style=\"box-sizing: border-box;\"></p></section></section></section></section></section>\n",
    "\"\"\"\n",
    "ending = \"\"\"\n",
    "<section style=\"line-height: 1.75em; margin-top: 14px;\"><span style=\"color: rgb(136, 136, 136);font-family: -apple-system-font, BlinkMacSystemFont, &quot;Helvetica Neue&quot;, &quot;PingFang SC&quot;, &quot;Hiragino Sans GB&quot;, &quot;Microsoft YaHei UI&quot;, &quot;Microsoft YaHei&quot;, Arial, sans-serif;font-size: 12px;letter-spacing: 0.54px;text-align: center;background-color: rgb(255, 255, 255);\">▼ 阅读原文 查看报纸全文</span></section>\n",
    "\"\"\"\n",
    "\n",
    "#Format HTML language\n",
    "for i in range(0,(int(counts)//2)):\n",
    "    css =  \"\"\"<section data-width=\"100%\" style=\"display: inline-block; width: 100%; font-size: 0px; background-image: url(&quot;\"\"\" + pic_defin_url[i] + \"\"\"&quot;); background-size: cover; vertical-align: top; background-attachment: scroll; box-sizing: border-box; text-align: center; background-position: 0% 0%; background-repeat: no-repeat; max-width: 100% !important;\">\n",
    "<svg data-width=\"100%\" enable-background=\"new 0 0 1067 96\" space=\"preserve\" style=\"display: inline-block;outline: none;width: 100%;margin-top: -1px;border-width: initial;border-style: none;border-color: initial;vertical-align: top;background-position: 0% 0%;background-repeat: no-repeat;background-size: 100%;background-attachment: scroll;background-image: url(&quot;\"\"\" + pic_word_url[i] + \"\"\"&quot;);-webkit-tap-highlight-color: transparent;\" viewBox=\"0 0 1066 96\" x=\"0px\" xml=\"\" y=\"0px\">\n",
    "<set attributeName=\"visibility\" from=\"visible\" to=\"hidden\" begin=\"click+0.3\"></set>\n",
    "<animate attributeName=\"opacity\" begin=\"click\" dur=\"0.2s\" values=\"1;0\" restart=\"never\" fill=\"freeze\">\n",
    "</animate>\n",
    "<set attributeName=\"visibility\" from=\"hidden\" to=\"visible\" begin=\"click+4\"></set>\n",
    "<animate attributeName=\"opacity\" begin=\"click+4\" dur=\"0.2s\" values=\"0;1\" restart=\"never\" fill=\"freeze\">\n",
    "</animate>\n",
    "</svg>\n",
    "</section>\"\"\"\n",
    "    pic_html.append(css)\n",
    "    \n",
    "#Output\n",
    "fileObject = open('WechatNewspaperHTML.txt', 'w',encoding='utf-8')\n",
    "fileObject.write(notebook_html)\n",
    "fileObject.write('\\n')\n",
    "fileObject.write(flashcard_title)\n",
    "for i in pic_html:\n",
    "    fileObject.write(i)\n",
    "    fileObject.write('\\n')\n",
    "fileObject.write(fairuse)\n",
    "fileObject.write(ending)\n",
    "fileObject.close()"
   ]
  },
  {
   "cell_type": "code",
   "execution_count": null,
   "metadata": {},
   "outputs": [],
   "source": []
  }
 ],
 "metadata": {
  "kernelspec": {
   "display_name": "Python 3",
   "language": "python",
   "name": "python3"
  },
  "language_info": {
   "codemirror_mode": {
    "name": "ipython",
    "version": 3
   },
   "file_extension": ".py",
   "mimetype": "text/x-python",
   "name": "python",
   "nbconvert_exporter": "python",
   "pygments_lexer": "ipython3",
   "version": "3.7.3"
  },
  "toc": {
   "base_numbering": 1,
   "nav_menu": {},
   "number_sections": true,
   "sideBar": true,
   "skip_h1_title": false,
   "title_cell": "Table of Contents",
   "title_sidebar": "Contents",
   "toc_cell": false,
   "toc_position": {},
   "toc_section_display": true,
   "toc_window_display": false
  }
 },
 "nbformat": 4,
 "nbformat_minor": 4
}
