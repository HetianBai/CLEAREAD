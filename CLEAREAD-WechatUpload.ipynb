{
 "cells": [
  {
   "cell_type": "code",
   "execution_count": 24,
   "metadata": {
    "ExecuteTime": {
     "end_time": "2020-06-29T05:23:30.731836Z",
     "start_time": "2020-06-29T05:23:30.725852Z"
    }
   },
   "outputs": [],
   "source": [
    "from wechatpy.client import WeChatClient\n",
    "import time"
   ]
  },
  {
   "cell_type": "code",
   "execution_count": 30,
   "metadata": {
    "ExecuteTime": {
     "end_time": "2020-06-29T05:56:29.970323Z",
     "start_time": "2020-06-29T05:56:20.314242Z"
    }
   },
   "outputs": [
    {
     "name": "stdout",
     "output_type": "stream",
     "text": [
      "please enter the name of the FC fileFC\n",
      "please enter the counts of the images84\n"
     ]
    }
   ],
   "source": [
    "filename = input('please enter the name of the FC file')\n",
    "counts = input(\"please enter the counts of the images\")"
   ]
  },
  {
   "cell_type": "code",
   "execution_count": 31,
   "metadata": {
    "ExecuteTime": {
     "end_time": "2020-06-29T05:58:31.919090Z",
     "start_time": "2020-06-29T05:56:31.669770Z"
    },
    "collapsed": true
   },
   "outputs": [
    {
     "ename": "APILimitedException",
     "evalue": "Error code: 45009, message: reach max api daily quota limit hints: [5goCr6qNe-VODXPA!]",
     "output_type": "error",
     "traceback": [
      "\u001b[1;31m---------------------------------------------------------------------------\u001b[0m",
      "\u001b[1;31mAPILimitedException\u001b[0m                       Traceback (most recent call last)",
      "\u001b[1;32m<ipython-input-31-380bc7b18437>\u001b[0m in \u001b[0;36m<module>\u001b[1;34m\u001b[0m\n\u001b[0;32m     35\u001b[0m \u001b[1;33m\u001b[0m\u001b[0m\n\u001b[0;32m     36\u001b[0m \u001b[1;32mfor\u001b[0m \u001b[0mi\u001b[0m \u001b[1;32min\u001b[0m \u001b[0mpic_defin_link\u001b[0m\u001b[1;33m:\u001b[0m\u001b[1;33m\u001b[0m\u001b[1;33m\u001b[0m\u001b[0m\n\u001b[1;32m---> 37\u001b[1;33m     \u001b[0mresp\u001b[0m \u001b[1;33m=\u001b[0m \u001b[0mwx\u001b[0m\u001b[1;33m.\u001b[0m\u001b[0mmaterial\u001b[0m\u001b[1;33m.\u001b[0m\u001b[0madd\u001b[0m\u001b[1;33m(\u001b[0m\u001b[1;34m\"image\"\u001b[0m\u001b[1;33m,\u001b[0m\u001b[0mopen\u001b[0m\u001b[1;33m(\u001b[0m\u001b[0mi\u001b[0m\u001b[1;33m,\u001b[0m\u001b[1;34m\"rb\"\u001b[0m\u001b[1;33m)\u001b[0m\u001b[1;33m)\u001b[0m\u001b[1;33m\u001b[0m\u001b[1;33m\u001b[0m\u001b[0m\n\u001b[0m\u001b[0;32m     38\u001b[0m     \u001b[0mpic_defin_url\u001b[0m\u001b[1;33m.\u001b[0m\u001b[0mappend\u001b[0m\u001b[1;33m(\u001b[0m\u001b[0mresp\u001b[0m\u001b[1;33m[\u001b[0m\u001b[1;34m'url'\u001b[0m\u001b[1;33m]\u001b[0m\u001b[1;33m)\u001b[0m\u001b[1;33m\u001b[0m\u001b[1;33m\u001b[0m\u001b[0m\n\u001b[0;32m     39\u001b[0m     \u001b[0mtime\u001b[0m\u001b[1;33m.\u001b[0m\u001b[0msleep\u001b[0m\u001b[1;33m(\u001b[0m\u001b[1;36m2\u001b[0m\u001b[1;33m)\u001b[0m\u001b[1;33m\u001b[0m\u001b[1;33m\u001b[0m\u001b[0m\n",
      "\u001b[1;32mD:\\apps\\Anaconda\\lib\\site-packages\\wechatpy\\client\\api\\material.py\u001b[0m in \u001b[0;36madd\u001b[1;34m(self, media_type, media_file, title, introduction)\u001b[0m\n\u001b[0;32m     66\u001b[0m             \u001b[0mparams\u001b[0m\u001b[1;33m=\u001b[0m\u001b[0mparams\u001b[0m\u001b[1;33m,\u001b[0m\u001b[1;33m\u001b[0m\u001b[1;33m\u001b[0m\u001b[0m\n\u001b[0;32m     67\u001b[0m             files={\n\u001b[1;32m---> 68\u001b[1;33m                 \u001b[1;34m'media'\u001b[0m\u001b[1;33m:\u001b[0m \u001b[0mmedia_file\u001b[0m\u001b[1;33m\u001b[0m\u001b[1;33m\u001b[0m\u001b[0m\n\u001b[0m\u001b[0;32m     69\u001b[0m             }\n\u001b[0;32m     70\u001b[0m         )\n",
      "\u001b[1;32mD:\\apps\\Anaconda\\lib\\site-packages\\wechatpy\\client\\api\\base.py\u001b[0m in \u001b[0;36m_post\u001b[1;34m(self, url, **kwargs)\u001b[0m\n\u001b[0;32m     17\u001b[0m         \u001b[1;32mif\u001b[0m \u001b[0mgetattr\u001b[0m\u001b[1;33m(\u001b[0m\u001b[0mself\u001b[0m\u001b[1;33m,\u001b[0m \u001b[1;34m'API_BASE_URL'\u001b[0m\u001b[1;33m,\u001b[0m \u001b[1;32mNone\u001b[0m\u001b[1;33m)\u001b[0m\u001b[1;33m:\u001b[0m\u001b[1;33m\u001b[0m\u001b[1;33m\u001b[0m\u001b[0m\n\u001b[0;32m     18\u001b[0m             \u001b[0mkwargs\u001b[0m\u001b[1;33m[\u001b[0m\u001b[1;34m'api_base_url'\u001b[0m\u001b[1;33m]\u001b[0m \u001b[1;33m=\u001b[0m \u001b[0mself\u001b[0m\u001b[1;33m.\u001b[0m\u001b[0mAPI_BASE_URL\u001b[0m\u001b[1;33m\u001b[0m\u001b[1;33m\u001b[0m\u001b[0m\n\u001b[1;32m---> 19\u001b[1;33m         \u001b[1;32mreturn\u001b[0m \u001b[0mself\u001b[0m\u001b[1;33m.\u001b[0m\u001b[0m_client\u001b[0m\u001b[1;33m.\u001b[0m\u001b[0mpost\u001b[0m\u001b[1;33m(\u001b[0m\u001b[0murl\u001b[0m\u001b[1;33m,\u001b[0m \u001b[1;33m**\u001b[0m\u001b[0mkwargs\u001b[0m\u001b[1;33m)\u001b[0m\u001b[1;33m\u001b[0m\u001b[1;33m\u001b[0m\u001b[0m\n\u001b[0m\u001b[0;32m     20\u001b[0m \u001b[1;33m\u001b[0m\u001b[0m\n\u001b[0;32m     21\u001b[0m     \u001b[1;33m@\u001b[0m\u001b[0mproperty\u001b[0m\u001b[1;33m\u001b[0m\u001b[1;33m\u001b[0m\u001b[0m\n",
      "\u001b[1;32mD:\\apps\\Anaconda\\lib\\site-packages\\wechatpy\\client\\base.py\u001b[0m in \u001b[0;36mpost\u001b[1;34m(self, url, **kwargs)\u001b[0m\n\u001b[0;32m    183\u001b[0m             \u001b[0mmethod\u001b[0m\u001b[1;33m=\u001b[0m\u001b[1;34m'post'\u001b[0m\u001b[1;33m,\u001b[0m\u001b[1;33m\u001b[0m\u001b[1;33m\u001b[0m\u001b[0m\n\u001b[0;32m    184\u001b[0m             \u001b[0murl_or_endpoint\u001b[0m\u001b[1;33m=\u001b[0m\u001b[0murl\u001b[0m\u001b[1;33m,\u001b[0m\u001b[1;33m\u001b[0m\u001b[1;33m\u001b[0m\u001b[0m\n\u001b[1;32m--> 185\u001b[1;33m             \u001b[1;33m**\u001b[0m\u001b[0mkwargs\u001b[0m\u001b[1;33m\u001b[0m\u001b[1;33m\u001b[0m\u001b[0m\n\u001b[0m\u001b[0;32m    186\u001b[0m         )\n\u001b[0;32m    187\u001b[0m \u001b[1;33m\u001b[0m\u001b[0m\n",
      "\u001b[1;32mD:\\apps\\Anaconda\\lib\\site-packages\\wechatpy\\client\\base.py\u001b[0m in \u001b[0;36m_request\u001b[1;34m(self, method, url_or_endpoint, **kwargs)\u001b[0m\n\u001b[0;32m    100\u001b[0m \u001b[1;33m\u001b[0m\u001b[0m\n\u001b[0;32m    101\u001b[0m         return self._handle_result(\n\u001b[1;32m--> 102\u001b[1;33m             \u001b[0mres\u001b[0m\u001b[1;33m,\u001b[0m \u001b[0mmethod\u001b[0m\u001b[1;33m,\u001b[0m \u001b[0murl\u001b[0m\u001b[1;33m,\u001b[0m \u001b[0mresult_processor\u001b[0m\u001b[1;33m,\u001b[0m \u001b[1;33m**\u001b[0m\u001b[0mkwargs\u001b[0m\u001b[1;33m\u001b[0m\u001b[1;33m\u001b[0m\u001b[0m\n\u001b[0m\u001b[0;32m    103\u001b[0m         )\n\u001b[0;32m    104\u001b[0m \u001b[1;33m\u001b[0m\u001b[0m\n",
      "\u001b[1;32mD:\\apps\\Anaconda\\lib\\site-packages\\wechatpy\\client\\base.py\u001b[0m in \u001b[0;36m_handle_result\u001b[1;34m(self, res, method, url, result_processor, **kwargs)\u001b[0m\n\u001b[0;32m    153\u001b[0m                     \u001b[0mclient\u001b[0m\u001b[1;33m=\u001b[0m\u001b[0mself\u001b[0m\u001b[1;33m,\u001b[0m\u001b[1;33m\u001b[0m\u001b[1;33m\u001b[0m\u001b[0m\n\u001b[0;32m    154\u001b[0m                     \u001b[0mrequest\u001b[0m\u001b[1;33m=\u001b[0m\u001b[0mres\u001b[0m\u001b[1;33m.\u001b[0m\u001b[0mrequest\u001b[0m\u001b[1;33m,\u001b[0m\u001b[1;33m\u001b[0m\u001b[1;33m\u001b[0m\u001b[0m\n\u001b[1;32m--> 155\u001b[1;33m                     \u001b[0mresponse\u001b[0m\u001b[1;33m=\u001b[0m\u001b[0mres\u001b[0m\u001b[1;33m\u001b[0m\u001b[1;33m\u001b[0m\u001b[0m\n\u001b[0m\u001b[0;32m    156\u001b[0m                 )\n\u001b[0;32m    157\u001b[0m             \u001b[1;32melse\u001b[0m\u001b[1;33m:\u001b[0m\u001b[1;33m\u001b[0m\u001b[1;33m\u001b[0m\u001b[0m\n",
      "\u001b[1;31mAPILimitedException\u001b[0m: Error code: 45009, message: reach max api daily quota limit hints: [5goCr6qNe-VODXPA!]"
     ]
    }
   ],
   "source": [
    "app = {\n",
    "    \"appid\": \"wx72b0cc170a66fe7b\",\n",
    "    \"appsecret\": \"9e9ef69b54fd1688376dc82b130f4bf9\"\n",
    "}\n",
    "wx = WeChatClient(app.get(\"appid\"), app.get(\"appsecret\"))\n",
    "\n",
    "#Get the title and bottom url\n",
    "pic_title_link = \"D://\" + filename + \"/Title.JPG\"\n",
    "pic_bottom_link = \"D://\" + filename + \"/Bottom.JPG\"\n",
    "pic_title_url =  wx.material.add(\"image\",open(pic_title_link,\"rb\"))['url']\n",
    "pic_bottom_url =  wx.material.add(\"image\",open(pic_bottom_link,\"rb\"))['url']\n",
    "\n",
    "\n",
    "#Get the images url\n",
    "pic_word_link = []\n",
    "pic_defin_link = []\n",
    "\n",
    "for i in range (1,int(counts)+1):\n",
    "    if i % 2 != 0:\n",
    "        pic = \"D://\" + filename + \"/幻灯片\" + str(i) + \".JPG\"\n",
    "        pic_word_link.append(pic)\n",
    "    else:\n",
    "        pic = \"D://\" + filename + \"/幻灯片\" + str(i) + \".JPG\"\n",
    "        pic_defin_link.append(pic)\n",
    "\n",
    "\n",
    "pic_word_url = []\n",
    "pic_defin_url = []\n",
    "\n",
    "for i in pic_word_link:\n",
    "    resp = wx.material.add(\"image\",open(i,\"rb\"))\n",
    "    pic_word_url.append(resp['url'])\n",
    "    time.sleep(2)\n",
    "\n",
    "\n",
    "for i in pic_defin_link:\n",
    "    resp = wx.material.add(\"image\",open(i,\"rb\"))\n",
    "    pic_defin_url.append(resp['url'])\n",
    "    time.sleep(2)\n",
    "    \n",
    "pic_html = []\n",
    "\n",
    "\n",
    "#Add Wechat Title\n",
    "wechat_title=\"\"\"<p style=\"text-align: center;\"><img class=\"rich_pages\" data-cropselx1=\"0\" data-cropselx2=\"578\" data-cropsely1=\"0\" data-cropsely2=\"94\" data-s=\"300,640\" src=\"https://mmbiz.qpic.cn/mmbiz_gif/B0OT7bl3qeFIHoj3NHq1ZCxuxzs0tKEu9RdPoBFpGvEeBibaGoaBgUCHNVPeiaxSw6MXqVF1qibhfU9scVJ6m2Tww/640?wx_fmt=gif\" data-type=\"gif\" style=\"margin-top: 26px;width: 578px;height: 94px;\" data-ratio=\"0.16300940438871472\" data-w=\"638\"></p>\n",
    "<blockquote style=\"margin-top: 39px; margin-bottom: 50px; color: rgba(0, 0, 0, 0.5); max-width: 100%; font-family: -apple-system-font, BlinkMacSystemFont, &quot;Helvetica Neue&quot;, &quot;PingFang SC&quot;, &quot;Hiragino Sans GB&quot;, &quot;Microsoft YaHei UI&quot;, &quot;Microsoft YaHei&quot;, Arial, sans-serif; white-space: normal; background-color: rgb(255, 255, 255); line-height: 235px; letter-spacing: 0.54px; box-sizing: border-box !important; overflow-wrap: break-word !important;\"><section data-role=\"outer\" label=\"Powered by 135editor.com\" style=\"max-width: 100%;line-height: 27.2px;letter-spacing: 0.54px;box-sizing: border-box !important;word-wrap: break-word !important;\"><section style=\"max-width: 100%;box-sizing: border-box !important;word-wrap: break-word !important;\"><section data-id=\"86005\" data-tools=\"135编辑器\" style=\"max-width: 100%;box-sizing: border-box !important;word-wrap: break-word !important;\"><section style=\"max-width: 100%;box-sizing: border-box !important;word-wrap: break-word !important;\"><p style=\"margin-right: 8px;margin-bottom: 5px;margin-left: 8px;max-width: 100%;min-height: 1em;font-family: &quot;Helvetica Neue&quot;, Helvetica, &quot;Hiragino Sans GB&quot;, &quot;Microsoft YaHei&quot;, Arial, sans-serif;letter-spacing: 1px;box-sizing: border-box !important;word-wrap: break-word !important;\"><span style=\"max-width: 100%;text-align: center;color: rgb(136, 136, 136);text-indent: 32px;letter-spacing: 0.54px;font-family: 微软雅黑;font-size: 14px;box-sizing: border-box !important;word-wrap: break-word !important;\">这本是七部曲中最令人绝望的一本，其他的不论如何结局都还会留下希望，可是随着邓布利多的死去和斯内普令人绝望的背叛，都在结局画上了一个巨大的问号，面对强大的伏地魔，连七年级都没读完的哈利如何在没有父辈们的支持下去和他对抗呢？<mpchecktext contenteditable=\"false\" id=\"1593440406336_0.3420682345878705\"></mpchecktext>当时心中的忧虑很是折磨。<mpchecktext contenteditable=\"false\" id=\"1593440406337_0.8072448643041885\"></mpchecktext>&nbsp;<mpchecktext contenteditable=\"false\" id=\"1593440406338_0.2436462291688981\"></mpchecktext></span></p><p style=\"margin: 8px 8px 5px;max-width: 100%;min-height: 1em;font-family: &quot;Helvetica Neue&quot;, Helvetica, &quot;Hiragino Sans GB&quot;, &quot;Microsoft YaHei&quot;, Arial, sans-serif;letter-spacing: 1px;text-align: left;box-sizing: border-box !important;overflow-wrap: break-word !important;\"><span style=\"margin-top: 8px;max-width: 100%;text-align: center;color: rgb(136, 136, 136);text-indent: 32px;letter-spacing: 0.54px;font-family: 微软雅黑;font-size: 14px;box-sizing: border-box !important;word-wrap: break-word !important;\">豆瓣网友 新西兰孙小社 于2012年1月11日<mpchecktext contenteditable=\"false\" id=\"1593440406339_0.873307727003295\"></mpchecktext></span></p></section></section></section></section></blockquote>\n",
    "<section style=\"margin-bottom: 0px; margin-top: 15px; max-width: 100%; min-height: 1em; font-family: -apple-system-font, BlinkMacSystemFont, &quot;Helvetica Neue&quot;, &quot;PingFang SC&quot;, &quot;Hiragino Sans GB&quot;, &quot;Microsoft YaHei UI&quot;, &quot;Microsoft YaHei&quot;, Arial, sans-serif; white-space: normal; background-color: rgb(255, 255, 255); text-align: center; letter-spacing: 0.54px; line-height: normal; box-sizing: border-box !important; overflow-wrap: break-word !important;\"><text></text><text><em><span style=\"max-width: 100%;color: rgb(136, 136, 136);letter-spacing: 0.54px;font-family: Optima-Regular, PingFangTC-light;font-size: 12px;overflow-wrap: break-word;box-sizing: border-box !important;word-wrap: break-word !important;\">Flashcard-单词卡&nbsp;用于单词记忆和单词自测<mpchecktext contenteditable=\"false\" id=\"1593440406340_0.7150797055829179\"></mpchecktext></span></em></text></section>\n",
    "<section style=\"margin: 0px; max-width: 100%; min-height: 1em; font-family: -apple-system-font, BlinkMacSystemFont, &quot;Helvetica Neue&quot;, &quot;PingFang SC&quot;, &quot;Hiragino Sans GB&quot;, &quot;Microsoft YaHei UI&quot;, &quot;Microsoft YaHei&quot;, Arial, sans-serif; white-space: normal; background-color: rgb(255, 255, 255); text-align: center; letter-spacing: 0.54px; line-height: normal; box-sizing: border-box !important; overflow-wrap: break-word !important;\"><em><span style=\"max-width: 100%;color: rgb(136, 136, 136);letter-spacing: 0.54px;font-family: Optima-Regular, PingFangTC-light;font-size: 12px;overflow-wrap: break-word;box-sizing: border-box !important;word-wrap: break-word !important;\">点击单词图片 单词释义会短暂显示 可反复点击<mpchecktext contenteditable=\"false\" id=\"1593440406341_0.7507166455919627\"></mpchecktext></span></em><span style=\"max-width: 100%;color: rgb(136, 136, 136);letter-spacing: 0.54px;font-family: Optima-Regular, PingFangTC-light;font-size: 12px;overflow-wrap: break-word;box-sizing: border-box !important;word-wrap: break-word !important;\"></span></section>\"\"\"\n",
    "\n",
    "\n",
    "pic_html.appned(wechat_title)\n",
    "pic_html.append(\"<img src=\" + pic_title_url + \"\"\"data-type=\"jpg\" style=\"float: left;\">\"\"\")\n",
    "\n",
    "\n",
    "#Format HTML language\n",
    "for i in range(0,(int(counts)//2)):\n",
    "    css = \"\"\"<section data-width=\"100%\" style=\"display: inline-block; width: 100%; font-size: 0px; background-image: url(&quot;\"\"\" + pic_defin_url[i] + \"\"\"&quot;); background-size: cover; vertical-align: top; background-attachment: scroll; box-sizing: border-box; text-align: center; background-position: 0% 0%; background-repeat: no-repeat; max-width: 100% !important;\">\n",
    "<svg data-width=\"100%\" enable-background=\"new 0 0 1067 212\" space=\"preserve\" style=\"display: inline-block;outline: none;width: 100%;margin-top: -1px;border-width: initial;border-style: none;border-color: initial;vertical-align: top;background-position: 0% 0%;background-repeat: no-repeat;background-size: 100%;background-attachment: scroll;background-image: url(&quot;\"\"\" + pic_word_url[i] + \"\"\"&quot;);-webkit-tap-highlight-color: transparent;\" viewBox=\"0 0 1067 212\" x=\"0px\" xml=\"\" y=\"0px\">\n",
    "<set attributeName=\"visibility\" from=\"visible\" to=\"hidden\" begin=\"click+0.3\"></set>\n",
    "<animate attributeName=\"opacity\" begin=\"click\" dur=\"0.2s\" values=\"1;0\" restart=\"never\" fill=\"freeze\">\n",
    "</animate>\n",
    "<set attributeName=\"visibility\" from=\"hidden\" to=\"visible\" begin=\"click+3\"></set>\n",
    "<animate attributeName=\"opacity\" begin=\"click+3\" dur=\"0.2s\" values=\"0;1\" restart=\"never\" fill=\"freeze\">\n",
    "</animate>\n",
    "</svg>\n",
    "</section>\"\"\" \n",
    "    pic_html.append(css)\n",
    "    \n",
    "pic_html.append(\"<img src=\" + pic_bottom_url + \"\"\"data-type=\"jpg\" >\"\"\")\n",
    "\n",
    "\n",
    "#Add Wechat Bottom\n",
    "wechat_bottom = \"\"\"<p style=\"margin-right: 8px; margin-bottom: 0px; margin-left: 8px; max-width: 100%; min-height: 1em; font-family: -apple-system-font, BlinkMacSystemFont, &quot;Helvetica Neue&quot;, &quot;PingFang SC&quot;, &quot;Hiragino Sans GB&quot;, &quot;Microsoft YaHei UI&quot;, &quot;Microsoft YaHei&quot;, Arial, sans-serif; white-space: normal; background-color: rgb(255, 255, 255); text-align: center; line-height: 27.2px; letter-spacing: 0.54px; box-sizing: border-box !important; overflow-wrap: break-word !important;\"><span style=\"max-width: 100%;color: rgb(136, 136, 136);letter-spacing: 0.54px;font-family: Optima-Regular, PingFangTC-light;font-size: 12px;overflow-wrap: break-word;box-sizing: border-box !important;word-wrap: break-word !important;\">长按上方 ▲ 关注我们<mpchecktext contenteditable=\"false\" id=\"1593440406382_0.5761719519849655\"></mpchecktext></span><br style=\"max-width: 100%;box-sizing: border-box !important;word-wrap: break-word !important;\"></p>\n",
    "<section><p style=\"white-space: nowrap; overflow-x: scroll;\"><text></text><text></text><text><span style=\"color: rgb(255, 255, 255);font-size: 12px;\">读原版书，是每个通过英语四级水平考试的人都应该拥有的能力：\n",
    "\n",
    " 1. 很多好书根本没有中文版。\n",
    " 2. 往往中文版要晚于原版发行且间隔时间较长。\n",
    " 3. 翻译中的错误与删改比比皆是。\n",
    "\n",
    "但是在看原版书前，你是否会害怕：\n",
    "\n",
    " 1. 不知道词汇难度如何，想在读原版书前预习一下高频词？\n",
    " 2. 同样都是生词，不知道哪些更重要需要记下来，哪些可以不细究具体意思？ \n",
    " 3. 不知道高频词是不是英语考试必备的单词？ \n",
    "\n",
    "CLEAREAD轻读的每期推送会通过大数据梳理当期原版书中四级单词以外的高频词和高频短语。你可以在Flashcard栏目里预习和背诵词汇，同时在Notebook栏目里将高频词长图保存到手机中方便随时查阅。\n",
    "\n",
    "欢迎留言告知你想读的书名，我们会尽快更新其高频词。如果有任何意见，也请告诉我们。希望CLEAREAD轻读可以和每一位爱读书的你一起进步！</span></text></p></section>\"\"\"\n",
    "pic_html.append(wechat_bottom)\n",
    "#Output\n",
    "fileObject = open('Wechat HTML.txt', 'w',encoding='utf-8')\n",
    "for i in pic_html:\n",
    "    fileObject.write(i)\n",
    "    fileObject.write('\\n')\n",
    "fileObject.close()\n"
   ]
  },
  {
   "cell_type": "code",
   "execution_count": null,
   "metadata": {},
   "outputs": [],
   "source": []
  }
 ],
 "metadata": {
  "kernelspec": {
   "display_name": "Python 3",
   "language": "python",
   "name": "python3"
  },
  "language_info": {
   "codemirror_mode": {
    "name": "ipython",
    "version": 3
   },
   "file_extension": ".py",
   "mimetype": "text/x-python",
   "name": "python",
   "nbconvert_exporter": "python",
   "pygments_lexer": "ipython3",
   "version": "3.7.3"
  },
  "toc": {
   "base_numbering": 1,
   "nav_menu": {},
   "number_sections": true,
   "sideBar": true,
   "skip_h1_title": false,
   "title_cell": "Table of Contents",
   "title_sidebar": "Contents",
   "toc_cell": false,
   "toc_position": {},
   "toc_section_display": true,
   "toc_window_display": false
  }
 },
 "nbformat": 4,
 "nbformat_minor": 4
}
