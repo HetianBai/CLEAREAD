{
 "cells": [
  {
   "cell_type": "code",
   "execution_count": 32,
   "metadata": {
    "ExecuteTime": {
     "end_time": "2020-06-29T05:05:15.294582Z",
     "start_time": "2020-06-29T05:05:15.290591Z"
    }
   },
   "outputs": [],
   "source": [
    "from wechatpy.client import WeChatClient"
   ]
  },
  {
   "cell_type": "code",
   "execution_count": 33,
   "metadata": {
    "ExecuteTime": {
     "end_time": "2020-06-29T05:05:16.758332Z",
     "start_time": "2020-06-29T05:05:16.752380Z"
    }
   },
   "outputs": [],
   "source": [
    "app = {\n",
    "    \"appid\": \"wx72b0cc170a66fe7b\",\n",
    "    \"appsecret\": \"9e9ef69b54fd1688376dc82b130f4bf9\"\n",
    "}\n",
    "wx = WeChatClient(app.get(\"appid\"), app.get(\"appsecret\"))"
   ]
  },
  {
   "cell_type": "markdown",
   "metadata": {},
   "source": [
    "# Wechat material delete"
   ]
  },
  {
   "cell_type": "code",
   "execution_count": 34,
   "metadata": {
    "ExecuteTime": {
     "end_time": "2020-06-29T05:05:20.382552Z",
     "start_time": "2020-06-29T05:05:18.879579Z"
    }
   },
   "outputs": [
    {
     "name": "stdout",
     "output_type": "stream",
     "text": [
      "how many images need to delete311\n"
     ]
    }
   ],
   "source": [
    "a = input('how many images need to delete')"
   ]
  },
  {
   "cell_type": "code",
   "execution_count": 35,
   "metadata": {
    "ExecuteTime": {
     "end_time": "2020-06-29T05:06:38.449845Z",
     "start_time": "2020-06-29T05:05:21.028459Z"
    },
    "scrolled": true
   },
   "outputs": [],
   "source": [
    "i = 1\n",
    "while i < (int(a)//20)+1:\n",
    "    media_id_list = []\n",
    "    resp = wx.material.batchget(media_type=\"image\",offset=0,count=20)\n",
    "    for j in resp['item']:\n",
    "        media_id_list.append(j['media_id'])\n",
    "    for j in media_id_list:\n",
    "        wx.material.delete(j)\n",
    "    i = i + 1\n",
    "\n",
    "#delete the rest\n",
    "resp = wx.material.batchget(media_type=\"image\",offset=0,count=20)\n",
    "for j in resp['item']:\n",
    "        media_id_list.append(j['media_id'])\n",
    "    for j in media_id_list:\n",
    "        wx.material.delete(j)"
   ]
  },
  {
   "cell_type": "code",
   "execution_count": null,
   "metadata": {},
   "outputs": [],
   "source": []
  }
 ],
 "metadata": {
  "kernelspec": {
   "display_name": "Python 3",
   "language": "python",
   "name": "python3"
  },
  "language_info": {
   "codemirror_mode": {
    "name": "ipython",
    "version": 3
   },
   "file_extension": ".py",
   "mimetype": "text/x-python",
   "name": "python",
   "nbconvert_exporter": "python",
   "pygments_lexer": "ipython3",
   "version": "3.7.3"
  },
  "toc": {
   "base_numbering": 1,
   "nav_menu": {},
   "number_sections": true,
   "sideBar": true,
   "skip_h1_title": false,
   "title_cell": "Table of Contents",
   "title_sidebar": "Contents",
   "toc_cell": false,
   "toc_position": {},
   "toc_section_display": true,
   "toc_window_display": false
  }
 },
 "nbformat": 4,
 "nbformat_minor": 4
}
