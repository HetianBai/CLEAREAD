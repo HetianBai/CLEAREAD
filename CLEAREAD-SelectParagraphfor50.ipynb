{
 "cells": [
  {
   "cell_type": "code",
   "execution_count": 57,
   "metadata": {
    "ExecuteTime": {
     "end_time": "2020-07-10T11:06:32.952990Z",
     "start_time": "2020-07-10T11:06:31.382190Z"
    }
   },
   "outputs": [],
   "source": [
    "import re\n",
    "import csv\n",
    "from stardict import LemmaDB\n",
    "lemma = LemmaDB()\n",
    "lemma.load('lemma.en.txt')\n",
    "import pandas as pd"
   ]
  },
  {
   "cell_type": "code",
   "execution_count": 3,
   "metadata": {
    "ExecuteTime": {
     "end_time": "2020-07-10T10:11:42.438731Z",
     "start_time": "2020-07-10T10:11:34.336356Z"
    }
   },
   "outputs": [
    {
     "name": "stdout",
     "output_type": "stream",
     "text": [
      "please enter the name of the bookGreat Expectations\n"
     ]
    }
   ],
   "source": [
    "bookname = input('please enter the name of the book')"
   ]
  },
  {
   "cell_type": "code",
   "execution_count": 35,
   "metadata": {
    "ExecuteTime": {
     "end_time": "2020-07-10T10:51:07.612297Z",
     "start_time": "2020-07-10T10:51:07.280154Z"
    }
   },
   "outputs": [],
   "source": [
    "with open(bookname + \".txt\", 'r',encoding='utf-8') as file:\n",
    "    text = file.read().rstrip().lower()\n",
    "# remove puntuation\n",
    "word_list = re.findall(\"[a-z]+\\'?\\-?\\'?[a-z]+\", text)\n",
    "\n",
    "lemma_word_list = []\n",
    "\n",
    "for i in range(0,len(word_list)):\n",
    "    lemma_word = lemma.get(word_list[i], reverse = True)\n",
    "    if lemma_word == None:\n",
    "        lemma_word_list.append(word_list[i])\n",
    "    else:\n",
    "        lemma_word_list.append(lemma_word[0])"
   ]
  },
  {
   "cell_type": "code",
   "execution_count": 36,
   "metadata": {
    "ExecuteTime": {
     "end_time": "2020-07-10T10:51:10.619227Z",
     "start_time": "2020-07-10T10:51:10.564373Z"
    }
   },
   "outputs": [],
   "source": [
    "book_word_final = []\n",
    "csvFile = open(bookname + \"vocabularycounts_v2.5.csv\", \"r\")\n",
    "reader = csv.reader(csvFile)\n",
    "for i in reader:\n",
    "    book_word_final.append(i[0])\n",
    "csvFile.close()\n",
    "\n",
    "\n",
    "CET4_list = []\n",
    "with open('CET-4_Vocab_v2.txt','r',encoding='utf-8') as fhandle:\n",
    "    for line in fhandle:\n",
    "        line=line.lower()\n",
    "        if line.startswith(('a','b','c','d','e','f','g','h','i','j','k','l','m','n','o','p','q','r','s','t','u','v','w','x','y','z')):\n",
    "            word = re.findall('([a-z]+)',line)\n",
    "            CET4_list.append(word[0].lower().rstrip())\n",
    "        else:\n",
    "            continue"
   ]
  },
  {
   "cell_type": "code",
   "execution_count": 55,
   "metadata": {
    "ExecuteTime": {
     "end_time": "2020-07-10T11:05:41.039018Z",
     "start_time": "2020-07-10T11:05:40.903344Z"
    }
   },
   "outputs": [],
   "source": [
    "count = 1\n",
    "count_list = []\n",
    "for i in range(0,len(lemma_word_list),520):\n",
    "    for j in lemma_word_list[i:i+520]:\n",
    "        if j in book_word_final:\n",
    "            count += 1\n",
    "    count_list.append([i,count])\n",
    "    count = 0"
   ]
  },
  {
   "cell_type": "code",
   "execution_count": 62,
   "metadata": {
    "ExecuteTime": {
     "end_time": "2020-07-10T11:11:29.598047Z",
     "start_time": "2020-07-10T11:11:29.591033Z"
    }
   },
   "outputs": [],
   "source": [
    "with open(bookname+'50appearcounts.csv', 'w', newline='') as csvfile:\n",
    "    spamwriter = csv.writer(csvfile)\n",
    "    for i in count_list:\n",
    "        spamwriter.writerow(i)\n"
   ]
  },
  {
   "cell_type": "code",
   "execution_count": 64,
   "metadata": {
    "ExecuteTime": {
     "end_time": "2020-07-10T11:19:18.934163Z",
     "start_time": "2020-07-10T11:19:18.926217Z"
    }
   },
   "outputs": [
    {
     "name": "stdout",
     "output_type": "stream",
     "text": [
      "15\n"
     ]
    }
   ],
   "source": [
    "temp = 0\n",
    "for i in count_list:\n",
    "    if i[1] >= temp:\n",
    "        temp = i[1]\n",
    "    else:\n",
    "        continue\n",
    "print(temp)    \n",
    "    "
   ]
  },
  {
   "cell_type": "code",
   "execution_count": null,
   "metadata": {},
   "outputs": [],
   "source": []
  }
 ],
 "metadata": {
  "kernelspec": {
   "display_name": "Python 3",
   "language": "python",
   "name": "python3"
  },
  "language_info": {
   "codemirror_mode": {
    "name": "ipython",
    "version": 3
   },
   "file_extension": ".py",
   "mimetype": "text/x-python",
   "name": "python",
   "nbconvert_exporter": "python",
   "pygments_lexer": "ipython3",
   "version": "3.7.3"
  },
  "toc": {
   "base_numbering": 1,
   "nav_menu": {},
   "number_sections": true,
   "sideBar": true,
   "skip_h1_title": false,
   "title_cell": "Table of Contents",
   "title_sidebar": "Contents",
   "toc_cell": false,
   "toc_position": {},
   "toc_section_display": true,
   "toc_window_display": false
  }
 },
 "nbformat": 4,
 "nbformat_minor": 4
}
