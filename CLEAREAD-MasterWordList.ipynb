{
 "cells": [
  {
   "cell_type": "code",
   "execution_count": 24,
   "metadata": {
    "ExecuteTime": {
     "end_time": "2020-07-09T13:37:04.427602Z",
     "start_time": "2020-07-09T13:37:04.383689Z"
    }
   },
   "outputs": [],
   "source": [
    "import json\n",
    "import csv"
   ]
  },
  {
   "cell_type": "code",
   "execution_count": 25,
   "metadata": {
    "ExecuteTime": {
     "end_time": "2020-07-09T13:37:17.830744Z",
     "start_time": "2020-07-09T13:37:04.678900Z"
    }
   },
   "outputs": [
    {
     "name": "stdout",
     "output_type": "stream",
     "text": [
      "book need to includeLittle Women- LOUISA MAY ALCOTT\n"
     ]
    }
   ],
   "source": [
    "bookname = input('book need to include')"
   ]
  },
  {
   "cell_type": "code",
   "execution_count": 26,
   "metadata": {
    "ExecuteTime": {
     "end_time": "2020-07-09T13:37:19.515270Z",
     "start_time": "2020-07-09T13:37:19.470356Z"
    }
   },
   "outputs": [],
   "source": [
    "book_word_final = []\n",
    "csvFile = open(bookname + \"vocabularycounts_v2.5.csv\", \"r\")\n",
    "reader = csv.reader(csvFile)\n",
    "for i in reader:\n",
    "    book_word_final.append(i[0])\n",
    "csvFile.close()\n",
    "\n",
    "with open(\"master_word_list.json\",'r') as load_f:\n",
    "    load_dict = json.load(load_f)\n",
    "    \n",
    "load_dict[bookname] = book_word_final\n",
    "\n",
    "with open(\"master_word_list.json\",\"w\") as f:\n",
    "    json.dump(load_dict,f)"
   ]
  }
 ],
 "metadata": {
  "kernelspec": {
   "display_name": "Python 3",
   "language": "python",
   "name": "python3"
  },
  "language_info": {
   "codemirror_mode": {
    "name": "ipython",
    "version": 3
   },
   "file_extension": ".py",
   "mimetype": "text/x-python",
   "name": "python",
   "nbconvert_exporter": "python",
   "pygments_lexer": "ipython3",
   "version": "3.7.3"
  },
  "toc": {
   "base_numbering": 1,
   "nav_menu": {},
   "number_sections": true,
   "sideBar": true,
   "skip_h1_title": false,
   "title_cell": "Table of Contents",
   "title_sidebar": "Contents",
   "toc_cell": false,
   "toc_position": {},
   "toc_section_display": true,
   "toc_window_display": false
  }
 },
 "nbformat": 4,
 "nbformat_minor": 4
}
