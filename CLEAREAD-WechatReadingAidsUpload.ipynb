{
 "cells": [
  {
   "cell_type": "code",
   "execution_count": 1,
   "metadata": {
    "ExecuteTime": {
     "end_time": "2020-06-30T04:20:41.709784Z",
     "start_time": "2020-06-30T04:20:41.704798Z"
    }
   },
   "outputs": [],
   "source": [
    "from wechatpy.client import WeChatClient"
   ]
  },
  {
   "cell_type": "code",
   "execution_count": 2,
   "metadata": {
    "ExecuteTime": {
     "end_time": "2020-06-30T04:20:42.888731Z",
     "start_time": "2020-06-30T04:20:42.883734Z"
    }
   },
   "outputs": [],
   "source": [
    "app = {\n",
    "    \"appid\": \"wx72b0cc170a66fe7b\",\n",
    "    \"appsecret\": \"9e9ef69b54fd1688376dc82b130f4bf9\"\n",
    "}\n",
    "wx = WeChatClient(app.get(\"appid\"), app.get(\"appsecret\"))"
   ]
  },
  {
   "cell_type": "code",
   "execution_count": 3,
   "metadata": {
    "ExecuteTime": {
     "end_time": "2020-06-30T04:20:47.809094Z",
     "start_time": "2020-06-30T04:20:45.751019Z"
    }
   },
   "outputs": [],
   "source": [
    "reading_aids_link = \"D://Reading Aids.JPG\"\n",
    "reading_aids_url =  wx.material.add(\"image\",open(reading_aids_link,\"rb\"))['url']"
   ]
  },
  {
   "cell_type": "code",
   "execution_count": 4,
   "metadata": {
    "ExecuteTime": {
     "end_time": "2020-06-30T04:21:00.094028Z",
     "start_time": "2020-06-30T04:21:00.089042Z"
    }
   },
   "outputs": [],
   "source": [
    "reading_aids_html = \"\"\"<p style=\"text-align: center;\"><img class=\"rich_pages\" data-cropselx1=\"0\" data-cropselx2=\"578\" data-cropsely1=\"0\" data-cropsely2=\"94\" data-ratio=\"0.16300940438871472\" data-s=\"300,640\" src=\"https://mmbiz.qpic.cn/mmbiz_gif/B0OT7bl3qeG68IvzLJWKglDFJxVibSULhxdK2JdtaGdjuiayKfx4NqZFHeDlk5qRdflN1rY4MuQOuUC3DibS2UfAg/640?wx_fmt=gif\" data-type=\"gif\" data-w=\"638\" style=\"margin-top: 15px;width: 578px;height: 94px;margin-bottom: 18px;\"></p>\n",
    "<p style=\"text-align: left; margin-left: 20px; margin-top: 15px; margin-bottom: 15px;\"><span style=\"letter-spacing: 2px;\"><strong><span style=\"color: rgb(107, 46, 15);\">&#8203;▍内容简介<mpchecktext contenteditable=\"false\" id=\"1593610357970_0.39864090596811796\"></mpchecktext></span></strong></span><strong><span style=\"color: rgb(107, 46, 15);letter-spacing: 2px;\"><strong style=\"text-align: left;white-space: normal;\"><span style=\"color: rgb(107, 46, 15);\"></span></strong></span></strong><span style=\"color: rgb(107, 46, 15);\"><br></span></p>\n",
    "<p style=\"line-height: 1.75em; margin-left: 20px; margin-right: 20px; text-indent: 0em; text-align: justify; margin-bottom: 5px;\"><span style=\"letter-spacing: 2px;\"><span style=\"font-size: 13px;font-family: STZhongsong;color: rgb(17, 17, 17);\">一岁的哈利</span><span style=\"font-size: 13px;font-family: 微软雅黑, sans-serif;color: rgb(17, 17, 17);\">・</span><span style=\"font-size: 13px;font-family: STZhongsong;color: rgb(17, 17, 17);\">波特失去父母后，神秘地出现在姨父姨妈家的门前，度过了寄人篱下、极其痛苦的十年。<mpchecktext contenteditable=\"false\" id=\"1593610357971_0.9702775024198502\"></mpchecktext></span></span></p>\n",
    "<p style=\"line-height: 1.75em; margin-left: 20px; margin-right: 20px; text-indent: 0em; text-align: justify; margin-bottom: 5px;\"><span style=\"letter-spacing: 2px;\"><span style=\"font-size: 13px;font-family: STZhongsong;color: rgb(17, 17, 17);\">生活</span></span><span style=\"color: rgb(17, 17, 17);font-family: STZhongsong;font-size: 13px;letter-spacing: 2px;text-indent: 0em;\">在</span><span style=\"color: rgb(17, 17, 17);font-family: STZhongsong;font-size: 13px;letter-spacing: 2px;text-indent: 0em;\">他十一岁生日那天发生了变化，信使猫头鹰带来了一封神秘的信：<mpchecktext contenteditable=\"false\" id=\"1593610357972_0.554743536010708\"></mpchecktext></span><span style=\"color: rgb(17, 17, 17);font-family: STZhongsong;font-size: 13px;letter-spacing: 2px;text-indent: 0em;\">邀请哈利去一个会使他永远难忘、不可思议的地方——霍格沃茨魔法学校。<mpchecktext contenteditable=\"false\" id=\"1593610357973_0.2932260322692204\"></mpchecktext></span></p>\n",
    "<section style=\"text-align: left; margin-left: 20px; margin-top: 15px; margin-bottom: 15px;\"><span style=\"letter-spacing: 2px;\"><strong><span style=\"color: rgb(107, 46, 15);\">▍作者简介<mpchecktext contenteditable=\"false\" id=\"1593610357975_0.2730164792206966\"></mpchecktext></span></strong></span><span style=\"color: rgb(107, 46, 15);\"></span></section>\n",
    "<section style=\"text-align: justify; line-height: 1.75em; margin-left: 20px; margin-right: 20px; text-indent: 0em;\"><span style=\"letter-spacing: 2px;font-size: 13px;font-family: STZhongsong;color: rgb(17, 17, 17);\">J. K. 罗琳（<span style=\"font-size: 13px;font-family: STZhongsong;color: rgb(17, 17, 17);letter-spacing: 0.5px;\">J. K. Rowling,1965- </span>），英国作家。<mpchecktext contenteditable=\"false\" id=\"1593610357976_0.12094276265280746\"></mpchecktext>福布斯2017年度全球百位名人榜第三位；<mpchecktext contenteditable=\"false\" id=\"1593610357978_0.03949907050363244\"></mpchecktext>2020胡润全球白手起家女富豪榜第87位。<mpchecktext contenteditable=\"false\" id=\"1593610357977_0.17550783976238749\"></mpchecktext></span></section>\n",
    "<section style=\"margin-bottom: 0px; margin-top: 15px; max-width: 100%; min-height: 1em; font-family: -apple-system-font, BlinkMacSystemFont, &quot;Helvetica Neue&quot;, &quot;PingFang SC&quot;, &quot;Hiragino Sans GB&quot;, &quot;Microsoft YaHei UI&quot;, &quot;Microsoft YaHei&quot;, Arial, sans-serif; white-space: normal; background-color: rgb(255, 255, 255); text-align: center; letter-spacing: 0.54px; line-height: normal; box-sizing: border-box !important; overflow-wrap: break-word !important;\"><text><em><span style=\"max-width: 100%;color: rgb(136, 136, 136);letter-spacing: 0.54px;font-family: Optima-Regular, PingFangTC-light;font-size: 12px;overflow-wrap: break-word;box-sizing: border-box !important;word-wrap: break-word !important;\">Notebook-单词本&nbsp;方便随时查阅<mpchecktext contenteditable=\"false\" id=\"1593610357979_0.8147345736523024\"></mpchecktext></span></em></text></section>\n",
    "<section style=\"margin: 0px; max-width: 100%; min-height: 1em; font-family: -apple-system-font, BlinkMacSystemFont, &quot;Helvetica Neue&quot;, &quot;PingFang SC&quot;, &quot;Hiragino Sans GB&quot;, &quot;Microsoft YaHei UI&quot;, &quot;Microsoft YaHei&quot;, Arial, sans-serif; white-space: normal; background-color: rgb(255, 255, 255); text-align: center; letter-spacing: 0.54px; line-height: normal; box-sizing: border-box !important; overflow-wrap: break-word !important;\"><em><span style=\"max-width: 100%;color: rgb(136, 136, 136);letter-spacing: 0.54px;font-family: Optima-Regular, PingFangTC-light;font-size: 12px;overflow-wrap: break-word;box-sizing: border-box !important;word-wrap: break-word !important;\">长按下方 保存长图<mpchecktext contenteditable=\"false\" id=\"1593610357980_0.887330320501097\"></mpchecktext></span></em></section>\n",
    "<section style=\"margin: 0px; max-width: 100%; min-height: 1em; font-family: -apple-system-font, BlinkMacSystemFont, &quot;Helvetica Neue&quot;, &quot;PingFang SC&quot;, &quot;Hiragino Sans GB&quot;, &quot;Microsoft YaHei UI&quot;, &quot;Microsoft YaHei&quot;, Arial, sans-serif; white-space: normal; background-color: rgb(255, 255, 255); color: rgb(136, 136, 136);text-align: center; letter-spacing: 0.54px; line-height: normal; box-sizing: border-box !important; overflow-wrap: break-word !important;\"><span style=\"font-size: 12px;color: rgb(136, 136, 136);\">▼<mpchecktext contenteditable=\"false\" id=\"1593610357981_0.29943269450065557\"></mpchecktext></span></section>\n",
    "<img src=\"\"\" + + reading_aids_url + + \"\"\" data-type=\"jpeg\">\n",
    "<p style=\"margin-right: 8px; margin-bottom: 0px; margin-left: 8px; max-width: 100%; min-height: 1em; font-family: -apple-system-font, BlinkMacSystemFont, &quot;Helvetica Neue&quot;, &quot;PingFang SC&quot;, &quot;Hiragino Sans GB&quot;, &quot;Microsoft YaHei UI&quot;, &quot;Microsoft YaHei&quot;, Arial, sans-serif; white-space: normal; background-color: rgb(255, 255, 255); text-align: center; line-height: 27.2px; letter-spacing: 0.54px; box-sizing: border-box !important; overflow-wrap: break-word !important;\"><span style=\"max-width: 100%;color: rgb(136, 136, 136);letter-spacing: 0.54px;font-family: Optima-Regular, PingFangTC-light;font-size: 12px;overflow-wrap: break-word;box-sizing: border-box !important;word-wrap: break-word !important;\">长按上方 ▲ 关注我们<mpchecktext contenteditable=\"false\" id=\"1593610357982_0.8391312925934049\"></mpchecktext></span><br style=\"max-width: 100%;box-sizing: border-box !important;word-wrap: break-word !important;\"></p>\n",
    "<blockquote style=\"margin-top: 15px; margin-bottom: 15px; color: rgba(0, 0, 0, 0.5); max-width: 100%; font-family: -apple-system-font, BlinkMacSystemFont, &quot;Helvetica Neue&quot;, &quot;PingFang SC&quot;, &quot;Hiragino Sans GB&quot;, &quot;Microsoft YaHei UI&quot;, &quot;Microsoft YaHei&quot;, Arial, sans-serif; white-space: normal; background-color: rgb(255, 255, 255); line-height: 235px; letter-spacing: 0.54px; box-sizing: border-box !important; overflow-wrap: break-word !important;\"><section data-role=\"outer\" label=\"Powered by 135editor.com\" style=\"max-width: 100%;line-height: 27.2px;letter-spacing: 0.54px;box-sizing: border-box !important;word-wrap: break-word !important;\"><section style=\"max-width: 100%;box-sizing: border-box !important;word-wrap: break-word !important;\"><section data-id=\"86005\" data-tools=\"135编辑器\" style=\"max-width: 100%;box-sizing: border-box !important;word-wrap: break-word !important;\"><section style=\"max-width: 100%;box-sizing: border-box !important;word-wrap: break-word !important;\"><p style=\"margin-right: 8px;margin-bottom: 5px;margin-left: 8px;max-width: 100%;min-height: 1em;font-family: &quot;Helvetica Neue&quot;, Helvetica, &quot;Hiragino Sans GB&quot;, &quot;Microsoft YaHei&quot;, Arial, sans-serif;letter-spacing: 1px;box-sizing: border-box !important;word-wrap: break-word !important;\"><span style=\"color: rgb(136, 136, 136);font-family: 微软雅黑;font-size: 14px;letter-spacing: 0.54px;text-align: center;text-indent: 32px;\">是</span><span style=\"color: rgb(136, 136, 136);font-family: 微软雅黑;font-size: 14px;letter-spacing: 0.54px;text-align: center;text-indent: 32px;\">它</span><span style=\"color: rgb(136, 136, 136);font-family: 微软雅黑;font-size: 14px;letter-spacing: 0.54px;text-align: center;text-indent: 32px;\">，让我进入了一个神奇的世界……<mpchecktext contenteditable=\"false\" id=\"1593610357983_0.1728900327363505\"></mpchecktext></span></p><p style=\"margin-right: 8px;margin-bottom: 5px;margin-left: 8px;max-width: 100%;min-height: 1em;font-family: &quot;Helvetica Neue&quot;, Helvetica, &quot;Hiragino Sans GB&quot;, &quot;Microsoft YaHei&quot;, Arial, sans-serif;letter-spacing: 1px;box-sizing: border-box !important;word-wrap: break-word !important;\"><span style=\"color: rgb(136, 136, 136);font-family: 微软雅黑;font-size: 14px;letter-spacing: 0.54px;text-align: center;text-indent: 32px;\">豆瓣网友</span><span style=\"color: rgb(136, 136, 136);font-family: 微软雅黑;font-size: 14px;letter-spacing: 0.54px;text-align: center;text-indent: 32px;\"> 放开那个浪味仙&nbsp;</span><span style=\"color: rgb(136, 136, 136);font-family: 微软雅黑;font-size: 14px;letter-spacing: 0.54px;text-align: center;text-indent: 32px;\">2008-02-23</span></p></section></section></section></section></blockquote><p style=\"margin-top: 20px; text-align: center;\"><span style=\"color: rgb(136, 136, 136);font-family: -apple-system-font, BlinkMacSystemFont, &quot;Helvetica Neue&quot;, &quot;PingFang SC&quot;, &quot;Hiragino Sans GB&quot;, &quot;Microsoft YaHei UI&quot;, &quot;Microsoft YaHei&quot;, Arial, sans-serif;font-size: 12px;letter-spacing: 0.54px;text-align: center;background-color: rgb(255, 255, 255);\">点击下方图片 ▼ 查阅过往书单<mpchecktext contenteditable=\"false\" id=\"1593881567624_0.7655843026292393\"></mpchecktext></span></p>\n",
    "<p style=\"text-align: center;\"><a target=\"_blank\" href=\"https://mp.weixin.qq.com/s/TxwKn_ItbFfoBMIRxzFD9A\" textvalue=\"你已选中了添加链接的内容\" tab=\"innerlink\"><span class=\"js_jump_icon h5_image_link\" data-positionback=\"static\" style=\"top: auto; left: auto; margin: 0px; right: auto; bottom: auto;\"><img class=\"rich_pages\" data-s=\"300,640\" src=\"https://mmbiz.qpic.cn/mmbiz_jpg/B0OT7bl3qeEGzEiaf0FkmAWBIhKnmYODgbaJicS5UhcJfCDtIQhsNeibBWnNLEGrRsU3fmpjVGgXDjWHzgl8HRAmQ/640?wx_fmt=jpeg\" data-type=\"jpeg\" style=\"margin: 0px; position: static;\" data-ratio=\"0.21274601686972822\" data-w=\"1067\"></span></a>&#8203;</p>\n",
    "\n",
    "\"\"\""
   ]
  },
  {
   "cell_type": "code",
   "execution_count": 5,
   "metadata": {
    "ExecuteTime": {
     "end_time": "2020-06-30T04:21:04.348002Z",
     "start_time": "2020-06-30T04:21:04.337999Z"
    },
    "collapsed": true
   },
   "outputs": [
    {
     "data": {
      "text/plain": [
       "'<body class=\"view\" lang=\"en\" contenteditable=\"true\" spellcheck=\"false\" style=\"overflow-y: hidden; cursor: text; height: 2791px;\"><p style=\"text-align: center;\">&#8203;<img class=\"rich_pages\" data-cropselx1=\"0\" data-cropselx2=\"578\" data-cropsely1=\"0\" data-cropsely2=\"94\" data-s=\"300,640\" src=\"https://mmbiz.qpic.cn/mmbiz_gif/B0OT7bl3qeFIHoj3NHq1ZCxuxzs0tKEuG5Ld12ojhUnUicqdLvWFHY3mpjX9Hmc40a6zt1Atcyib1BdJ9F2PjjZQ/0?wx_fmt=gif\" data-type=\"gif\" style=\"margin-top: 26px;width: 578px;height: 94px;\" data-ratio=\"0.16300940438871472\" data-w=\"638\"></p>\\n<blockquote style=\"margin-top: 39px; margin-bottom: 50px; color: rgba(0, 0, 0, 0.5); max-width: 100%; font-family: -apple-system-font, BlinkMacSystemFont, &quot;Helvetica Neue&quot;, &quot;PingFang SC&quot;, &quot;Hiragino Sans GB&quot;, &quot;Microsoft YaHei UI&quot;, &quot;Microsoft YaHei&quot;, Arial, sans-serif; white-space: normal; background-color: rgb(255, 255, 255); line-height: 235px; letter-spacing: 0.54px; box-sizing: border-box !important; overflow-wrap: break-word !important;\"><section data-role=\"outer\" label=\"Powered by 135editor.com\" style=\"max-width: 100%;line-height: 27.2px;letter-spacing: 0.54px;box-sizing: border-box !important;word-wrap: break-word !important;\"><section style=\"max-width: 100%;box-sizing: border-box !important;word-wrap: break-word !important;\"><section data-id=\"86005\" data-tools=\"135编辑器\" style=\"max-width: 100%;box-sizing: border-box !important;word-wrap: break-word !important;\"><section style=\"max-width: 100%;box-sizing: border-box !important;word-wrap: break-word !important;\"><p style=\"margin-right: 8px;margin-bottom: 5px;margin-left: 8px;max-width: 100%;min-height: 1em;font-family: &quot;Helvetica Neue&quot;, Helvetica, &quot;Hiragino Sans GB&quot;, &quot;Microsoft YaHei&quot;, Arial, sans-serif;letter-spacing: 1px;box-sizing: border-box !important;word-wrap: break-word !important;\"><span style=\"max-width: 100%;text-align: center;color: rgb(136, 136, 136);text-indent: 32px;letter-spacing: 0.54px;font-family: 微软雅黑;font-size: 14px;box-sizing: border-box !important;word-wrap: break-word !important;\">这本是七部曲中最令人绝望的一本，其他的不论如何结局都还会留下希望，可是随着邓布利多的死去和斯内普令人绝望的背叛，都在结局画上了一个巨大的问号，面对强大的伏地魔，连七年级都没读完的哈利如何在没有父辈们的支持下去和他对抗呢？<mpchecktext contenteditable=\"false\" id=\"1593440406336_0.3420682345878705\"></mpchecktext>当时心中的忧虑很是折磨。<mpchecktext contenteditable=\"false\" id=\"1593440406337_0.8072448643041885\"></mpchecktext>&nbsp;<mpchecktext contenteditable=\"false\" id=\"1593440406338_0.2436462291688981\"></mpchecktext></span></p><p style=\"margin: 8px 8px 5px;max-width: 100%;min-height: 1em;font-family: &quot;Helvetica Neue&quot;, Helvetica, &quot;Hiragino Sans GB&quot;, &quot;Microsoft YaHei&quot;, Arial, sans-serif;letter-spacing: 1px;text-align: left;box-sizing: border-box !important;overflow-wrap: break-word !important;\"><span style=\"margin-top: 8px;max-width: 100%;text-align: center;color: rgb(136, 136, 136);text-indent: 32px;letter-spacing: 0.54px;font-family: 微软雅黑;font-size: 14px;box-sizing: border-box !important;word-wrap: break-word !important;\">豆瓣网友 新西兰孙小社 于2012年1月11日<mpchecktext contenteditable=\"false\" id=\"1593440406339_0.873307727003295\"></mpchecktext></span></p></section></section></section></section></blockquote>\\n<section style=\"margin-bottom: 0px; margin-top: 15px; max-width: 100%; min-height: 1em; font-family: -apple-system-font, BlinkMacSystemFont, &quot;Helvetica Neue&quot;, &quot;PingFang SC&quot;, &quot;Hiragino Sans GB&quot;, &quot;Microsoft YaHei UI&quot;, &quot;Microsoft YaHei&quot;, Arial, sans-serif; white-space: normal; background-color: rgb(255, 255, 255); text-align: center; letter-spacing: 0.54px; line-height: normal; box-sizing: border-box !important; overflow-wrap: break-word !important;\"><text></text><text><em><span style=\"max-width: 100%;color: rgb(136, 136, 136);letter-spacing: 0.54px;font-family: Optima-Regular, PingFangTC-light;font-size: 12px;overflow-wrap: break-word;box-sizing: border-box !important;word-wrap: break-word !important;\">Notebook-单词本&nbsp;方便随时查阅<mpchecktext contenteditable=\"false\" id=\"1593440406340_0.7150797055829179\"></mpchecktext></span></em></text></section>\\n<section style=\"margin: 0px; max-width: 100%; min-height: 1em; font-family: -apple-system-font, BlinkMacSystemFont, &quot;Helvetica Neue&quot;, &quot;PingFang SC&quot;, &quot;Hiragino Sans GB&quot;, &quot;Microsoft YaHei UI&quot;, &quot;Microsoft YaHei&quot;, Arial, sans-serif; white-space: normal; background-color: rgb(255, 255, 255); text-align: center; letter-spacing: 0.54px; line-height: normal; box-sizing: border-box !important; overflow-wrap: break-word !important;\"><em><span style=\"max-width: 100%;color: rgb(136, 136, 136);letter-spacing: 0.54px;font-family: Optima-Regular, PingFangTC-light;font-size: 12px;overflow-wrap: break-word;box-sizing: border-box !important;word-wrap: break-word !important;\">长按下方 保存长图<mpchecktext contenteditable=\"false\" id=\"1593440406341_0.7507166455919627\"></mpchecktext></span></em><span style=\"max-width: 100%;color: rgb(136, 136, 136);letter-spacing: 0.54px;font-family: Optima-Regular, PingFangTC-light;font-size: 12px;overflow-wrap: break-word;box-sizing: border-box !important;word-wrap: break-word !important;\"></span></section>\\n<img src=http://mmbiz.qpic.cn/mmbiz_jpg/B0OT7bl3qeG68IvzLJWKglDFJxVibSULhhEe3cWOibtEngPXwAdLygfoOSv0c047ckYlMLIXRk2ribt5TeEYl7EnA/0?wx_fmt=jpeg data-type=\"jpeg\">\\n<p style=\"margin-right: 8px; margin-bottom: 0px; margin-left: 8px; max-width: 100%; min-height: 1em; font-family: -apple-system-font, BlinkMacSystemFont, &quot;Helvetica Neue&quot;, &quot;PingFang SC&quot;, &quot;Hiragino Sans GB&quot;, &quot;Microsoft YaHei UI&quot;, &quot;Microsoft YaHei&quot;, Arial, sans-serif; white-space: normal; background-color: rgb(255, 255, 255); text-align: center; line-height: 27.2px; letter-spacing: 0.54px; box-sizing: border-box !important; overflow-wrap: break-word !important;\"><span style=\"max-width: 100%;color: rgb(136, 136, 136);letter-spacing: 0.54px;font-family: Optima-Regular, PingFangTC-light;font-size: 12px;overflow-wrap: break-word;box-sizing: border-box !important;word-wrap: break-word !important;\">长按上方 ▲ 关注我们<mpchecktext contenteditable=\"false\" id=\"1593440406382_0.5761719519849655\"></mpchecktext></span><br style=\"max-width: 100%;box-sizing: border-box !important;word-wrap: break-word !important;\"></p>\\n<section><p style=\"white-space: nowrap; overflow-x: scroll;\"><text></text><text></text><text><span style=\"color: rgb(255, 255, 255);font-size: 12px;\">读原版书，是每个通过英语四级水平考试的人都应该拥有的能力：\\n\\n 1. 很多好书根本没有中文版。\\n 2. 往往中文版要晚于原版发行且间隔时间较长。\\n 3. 翻译中的错误与删改比比皆是。\\n\\n但是在看原版书前，你是否会害怕：\\n\\n 1. 不知道词汇难度如何，想在读原版书前预习一下高频词？\\n 2. 同样都是生词，不知道哪些更重要需要记下来，哪些可以不细究具体意思？ \\n 3. 不知道高频词是不是英语考试必备的单词？ \\n\\nCLEAREAD轻读的每期推送会通过大数据梳理当期原版书中四级单词以外的高频词和高频短语。你可以在Flashcard栏目里预习和背诵词汇，同时在Notebook栏目里将高频词长图保存到手机中方便随时查阅。\\n\\n欢迎留言告知你想读的书名，我们会尽快更新其高频词。如果有任何意见，也请告诉我们。希望CLEAREAD轻读可以和每一位爱读书的你一起进步！</span></text></p></section></body>'"
      ]
     },
     "execution_count": 5,
     "metadata": {},
     "output_type": "execute_result"
    }
   ],
   "source": [
    "fileObject = open('WechatReadingAdisHTML.txt', 'w',encoding='utf-8')\n",
    "fileObject.write(reading_aids_html)\n",
    "fileObject.close()"
   ]
  },
  {
   "cell_type": "code",
   "execution_count": null,
   "metadata": {},
   "outputs": [],
   "source": []
  }
 ],
 "metadata": {
  "kernelspec": {
   "display_name": "Python 3",
   "language": "python",
   "name": "python3"
  },
  "language_info": {
   "codemirror_mode": {
    "name": "ipython",
    "version": 3
   },
   "file_extension": ".py",
   "mimetype": "text/x-python",
   "name": "python",
   "nbconvert_exporter": "python",
   "pygments_lexer": "ipython3",
   "version": "3.7.3"
  },
  "toc": {
   "base_numbering": 1,
   "nav_menu": {},
   "number_sections": true,
   "sideBar": true,
   "skip_h1_title": false,
   "title_cell": "Table of Contents",
   "title_sidebar": "Contents",
   "toc_cell": false,
   "toc_position": {},
   "toc_section_display": true,
   "toc_window_display": false
  }
 },
 "nbformat": 4,
 "nbformat_minor": 4
}
