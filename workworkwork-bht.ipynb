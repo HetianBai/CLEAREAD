{
 "cells": [
  {
   "cell_type": "code",
   "execution_count": 2,
   "metadata": {},
   "outputs": [],
   "source": [
    "import numpy as np\n",
    "import re\n",
    "import string\n",
    "import pandas as pd\n",
    "import nltk\n",
    "from nltk.collocations import *\n",
    "from pattern.en import lemma\n",
    "import requests\n",
    "import json\n",
    "import time\n",
    "import hashlib\n",
    "import uuid\n",
    "import csv\n",
    "import phrasemachine\n",
    "import time\n",
    "from urllib.request import urlopen\n",
    "from bs4 import BeautifulSoup\n",
    "from urllib.request import Request\n",
    "import difflib\n",
    "from nltk.stem import WordNetLemmatizer \n",
    "from wechatpy.client import WeChatClient\n",
    "import random\n",
    "import http.client\n",
    "import stardict\n",
    "from stardict import LemmaDB\n",
    "import urllib"
   ]
  },
  {
   "cell_type": "code",
   "execution_count": 3,
   "metadata": {},
   "outputs": [],
   "source": [
    "master_word_dict = {}\n",
    "\n",
    "HP1_word_final = []\n",
    "csvFile = open(\"HP1vocabularycounts_v2.5.csv\", \"r\")\n",
    "reader = csv.reader(csvFile)\n",
    "for i in reader:\n",
    "    HP1_word_final.append(i[0])\n",
    "master_word_dict['HP1'] = HP1_word_final\n",
    "\n",
    "HP2_word_final = []\n",
    "csvFile = open(\"HP2vocabularycounts_v2.5.csv\", \"r\")\n",
    "reader = csv.reader(csvFile)\n",
    "for i in reader:\n",
    "    HP2_word_final.append(i[0])\n",
    "master_word_dict['HP2'] = HP2_word_final\n",
    "\n",
    "HP3_word_final = []\n",
    "csvFile = open(\"HP3vocabularycounts_v2.csv\", \"r\")\n",
    "reader = csv.reader(csvFile)\n",
    "for i in reader:\n",
    "    HP3_word_final.append(i[0])\n",
    "master_word_dict['HP3'] = HP3_word_final\n",
    "\n",
    "HP4_word_final = []\n",
    "csvFile = open(\"HP4vocabularycounts_v2.csv\", \"r\")\n",
    "reader = csv.reader(csvFile)\n",
    "for i in reader:\n",
    "    HP4_word_final.append(i[0])\n",
    "master_word_dict['HP4'] = HP4_word_final\n",
    "\n",
    "HP5_word_final = []\n",
    "csvFile = open(\"HP5vocabularycounts_v2.csv\", \"r\")\n",
    "reader = csv.reader(csvFile)\n",
    "for i in reader:\n",
    "    HP5_word_final.append(i[0])\n",
    "master_word_dict['HP5'] = HP5_word_final\n",
    "\n",
    "HP6_word_final = []\n",
    "csvFile = open(\"HP6vocabularycounts_v2.csv\", \"r\")\n",
    "reader = csv.reader(csvFile)\n",
    "for i in reader:\n",
    "    HP6_word_final.append(i[0])\n",
    "master_word_dict['HP6'] = HP6_word_final\n",
    "\n",
    "HP7_word_final = []\n",
    "csvFile = open(\"HP7vocabularycounts_v2.csv\", \"r\")\n",
    "reader = csv.reader(csvFile)\n",
    "for i in reader:\n",
    "    HP7_word_final.append(i[0])\n",
    "master_word_dict['HP7'] = HP7_word_final\n",
    "\n",
    "Heartisthelonelyhunter_word_final = []\n",
    "csvFile = open(\"The Heart is a Lonely Hunter_VocabCount_v4.csv\", \"r\")\n",
    "reader = csv.reader(csvFile)\n",
    "for i in reader:\n",
    "    Heartisthelonelyhunter_word_final.append(i[0])\n",
    "master_word_dict['Heart is the Lonely Hunter'] = Heartisthelonelyhunter_word_final\n",
    "\n",
    "Theroomwhereithappens_word_final = []\n",
    "csvFile = open(\"Theroomwhereithappensvocabularycounts_v2.5.csv\", \"r\")\n",
    "reader = csv.reader(csvFile)\n",
    "for i in reader:\n",
    "    Theroomwhereithappens_word_final.append(i[0])\n",
    "master_word_dict['The Room Where It Happends'] = Theroomwhereithappens_word_final"
   ]
  },
  {
   "cell_type": "markdown",
   "metadata": {},
   "source": [
    "#### What I should do next? \n",
    "#### Consider what is a better way of lemma (Now I have to lemma the replicate list to get a better result and it should be fixed)***\n",
    "#### Consider how to build a database or container\n"
   ]
  },
  {
   "cell_type": "markdown",
   "metadata": {},
   "source": [
    "# 1.Clean the text, lemma words"
   ]
  },
  {
   "cell_type": "code",
   "execution_count": null,
   "metadata": {},
   "outputs": [],
   "source": [
    "with open(\"TheHeartisthelonelyhuntervocabularycounts_v2.5.txt\", 'r',encoding='utf-8') as file:\n",
    "    text = file.read().rstrip().lower()"
   ]
  },
  {
   "cell_type": "code",
   "execution_count": 142,
   "metadata": {
    "scrolled": true
   },
   "outputs": [],
   "source": [
    "# remove puntuation\n",
    "word_list = re.findall(\"[a-z]+\\-?[a-z]+\", text)"
   ]
  },
  {
   "cell_type": "code",
   "execution_count": 143,
   "metadata": {},
   "outputs": [],
   "source": [
    "#Lemmatization\n",
    "#LemmaDB can't lemma didn't or wouldn't, etc.\n",
    "lemma_word_list = []\n",
    "lemma = LemmaDB()\n",
    "lemma.load('lemma.en.txt')\n",
    "\n",
    "for i in range(0,len(word_list)):\n",
    "    lemma_word = lemma.get(word_list[i], reverse = True)\n",
    "    if lemma_word == None:\n",
    "        lemma_word_list.append(word_list[i])\n",
    "    else:\n",
    "        lemma_word_list.append(lemma_word[0])"
   ]
  },
  {
   "cell_type": "code",
   "execution_count": 144,
   "metadata": {},
   "outputs": [],
   "source": [
    "CET4_list = []\n",
    "\n",
    "with open('CET-4_Vocab.txt','r',encoding='utf-8') as fhandle:\n",
    "    for line in fhandle:\n",
    "        if line.startswith(('a','b','c','d','e','f','g','h','i','j','k','l','m','n','o','p','q','r','s','t','u','v','w','x','y','z')):\n",
    "            word = re.findall('([a-z]+)',line)\n",
    "            CET4_list.append(word[0])\n",
    "        else:\n",
    "            continue"
   ]
  },
  {
   "cell_type": "code",
   "execution_count": 146,
   "metadata": {},
   "outputs": [],
   "source": [
    "highschool_list = []\n",
    "\n",
    "with open('Highschool_Vocab.txt','r',encoding='utf-8') as fhandle:\n",
    "    for line in fhandle:\n",
    "        highschool_list.append(line.lower().rstrip())    "
   ]
  },
  {
   "cell_type": "code",
   "execution_count": 147,
   "metadata": {},
   "outputs": [],
   "source": [
    "elementary_list = []\n",
    "\n",
    "with open('Elementary_Vocab.txt','r',encoding='utf-8') as fhandle:\n",
    "    for line in fhandle:\n",
    "        elementary_list.append(line.lower().rstrip())"
   ]
  },
  {
   "cell_type": "code",
   "execution_count": 149,
   "metadata": {},
   "outputs": [],
   "source": [
    "easy_word_list = set(CET4_list) | set(highschool_list) | set(elementary_list)\n",
    "easy_word_list = list(easy_word_list)\n"
   ]
  },
  {
   "cell_type": "code",
   "execution_count": 150,
   "metadata": {
    "scrolled": true
   },
   "outputs": [],
   "source": [
    "#select unfamiliar words\n",
    "raw_word_list = []\n",
    "for word in lemma_word_list:\n",
    "    if word not in lemma_easy_word_list:\n",
    "        raw_word_list.append(word)\n",
    "    else:\n",
    "        continue    "
   ]
  },
  {
   "cell_type": "code",
   "execution_count": 152,
   "metadata": {},
   "outputs": [],
   "source": [
    "#count the word\n",
    "word_count = pd.value_counts(raw_word_clean_list)\n",
    "data = pd.DataFrame({'Vocabulary':word_count.index, 'counts':word_count.values})"
   ]
  },
  {
   "cell_type": "code",
   "execution_count": 153,
   "metadata": {},
   "outputs": [],
   "source": [
    "# point out where the replicate comes from\n",
    "def get_key (dict, value):\n",
    "    return [k for k, v in dict.items() if v == value]"
   ]
  },
  {
   "cell_type": "code",
   "execution_count": 154,
   "metadata": {},
   "outputs": [],
   "source": [
    "for i in range(0,len(word_count.index)):\n",
    "    for j in list(master_word_dict.values()):\n",
    "        if data.loc[i,'Vocabulary'] in j:\n",
    "            data.loc[i,'Replicate'] = get_key(master_word_dict,j)\n",
    "        else:\n",
    "            pass\n",
    "            \n",
    "data.to_csv(\"Heartisthelonelyhuntervocabularycounts_v0.csv\",index=False,header=True)            "
   ]
  },
  {
   "cell_type": "markdown",
   "metadata": {},
   "source": [
    "# 2. Translation & Phonetics & Characteristic & Category"
   ]
  },
  {
   "cell_type": "markdown",
   "metadata": {},
   "source": [
    "#### 2.1 test"
   ]
  },
  {
   "cell_type": "code",
   "execution_count": null,
   "metadata": {
    "scrolled": true
   },
   "outputs": [],
   "source": [
    "app_id = '761150e6'\n",
    "app_key = '9c547ac3ff97fad8a7e366f8129d6a2c'\n",
    "\n",
    "word_id = 'better'\n",
    "strictMatch = 'false'\n",
    "\n",
    "url = 'https://od-api.oxforddictionaries.com:443/api/v2/entries/en-gb/' + word_id.lower() + '?strictMatch=' + strictMatch;\n",
    "\n",
    "r = requests.get(url, headers = {'app_id': app_id, 'app_key': app_key})\n",
    "pron = r.json()[\"results\"][0]['lexicalEntries'][0]['entries'][0]['pronunciations'][0]['phoneticSpelling']\n",
    "cate = r.json()[\"results\"][0]['lexicalEntries'][0]['lexicalCategory']['text']\n",
    "defin = r.json()[\"results\"][0]['lexicalEntries'][0]['entries'][0]['senses'][0]['definitions'][0]\n",
    "print(pron,cate,defin)"
   ]
  },
  {
   "cell_type": "code",
   "execution_count": null,
   "metadata": {},
   "outputs": [],
   "source": [
    "a = r.json()\n",
    "b = a[\"results\"][0]['lexicalEntries'][0]['entries'][0]['pronunciations'][0]['phoneticSpelling']\n"
   ]
  },
  {
   "cell_type": "code",
   "execution_count": null,
   "metadata": {},
   "outputs": [],
   "source": [
    "app_id = '5c864748'\n",
    "app_key = '11013df45a50b3d7960bdcb4fe77af01'\n",
    "\n",
    "language = 'en'\n",
    "word_id = 'better'\n",
    "strictMatch = 'false'\n",
    "\n",
    "url = 'https://od-api.oxforddictionaries.com:443/api/v2/entries/' + language + '/' + word_id.lower() + '?fields=' + fields + '&strictMatch=' + strictMatch;\n",
    "\n",
    "r = requests.get(url, headers = {'app_id': app_id, 'app_key': app_key})\n",
    "pron = r.json()\n",
    "pron"
   ]
  },
  {
   "cell_type": "code",
   "execution_count": null,
   "metadata": {},
   "outputs": [],
   "source": [
    "c = r.json()\n",
    "d = c[\"results\"][0]['lexicalEntries'][0]['lexicalCategory']['text']\n",
    "d"
   ]
  },
  {
   "cell_type": "code",
   "execution_count": null,
   "metadata": {},
   "outputs": [],
   "source": [
    "# Youdao translation for plan B\n",
    "youdao_url = 'https://openapi.youdao.com/api'  \n",
    "\n",
    "input_text = \"better\"\n",
    "translate_text = \"dream\"\n",
    "time_curtime = int(time.time())   # 秒级时间戳获取\n",
    "app_id = \"15a1da979e8d68c0\"   # 应用id\n",
    "uu_id = uuid.uuid4()   # 随机生成的uuid数，为了每次都生成一个不重复的数。\n",
    "app_key = \"SSfsA7MhSvqvG79kKVzGx875O2ukapUW\"   # 应用密钥\n",
    "\n",
    "sign = hashlib.sha256((app_id + input_text + str(uu_id) + str(time_curtime) + app_key).encode('utf-8')).hexdigest()   # sign生成\n",
    "\n",
    "\n",
    "data = {\n",
    "    'q':translate_text,   # 翻译文本\n",
    "    'from':\"en\",   # 源语言\n",
    "    'to':\"zh-CHS\",   # 翻译语言\n",
    "    'appKey':app_id,   # 应用id\n",
    "    'salt':uu_id,   # 随机生产的uuid码\n",
    "    'sign':sign,   # 签名\n",
    "    'signType':\"v3\",   # 签名类型，固定值\n",
    "    'curtime':time_curtime,   # 秒级时间戳\n",
    "}\n",
    "\n",
    "\n",
    "\n",
    "r = requests.get(youdao_url, params = data).json()\n",
    "r"
   ]
  },
  {
   "cell_type": "markdown",
   "metadata": {},
   "source": [
    "#### 2.2 the full version"
   ]
  },
  {
   "cell_type": "code",
   "execution_count": 73,
   "metadata": {},
   "outputs": [],
   "source": [
    "csvFile = open(\"Theroomwhereithappenedvocabularycounts_v2.csv\", \"r\",encoding = 'utf-8')\n",
    "reader = csv.reader(csvFile)"
   ]
  },
  {
   "cell_type": "code",
   "execution_count": 76,
   "metadata": {},
   "outputs": [],
   "source": [
    "# API id and key\n",
    "app_id = '05d6c109'\n",
    "app_key = '63bda9528e24dff26ca5dd695b008acf'"
   ]
  },
  {
   "cell_type": "code",
   "execution_count": 77,
   "metadata": {},
   "outputs": [],
   "source": [
    "GMAT_list = []\n",
    "\n",
    "with open('GMAT_edited.txt','r',encoding='utf-8') as fhandle:\n",
    "    for line in fhandle:\n",
    "        GMAT_list.append(line.lower().rstrip())"
   ]
  },
  {
   "cell_type": "code",
   "execution_count": 22,
   "metadata": {},
   "outputs": [
    {
     "name": "stderr",
     "output_type": "stream",
     "text": [
      "D:\\apps\\Anaconda\\lib\\site-packages\\IPython\\core\\interactiveshell.py:3063: DtypeWarning: Columns (11) have mixed types.Specify dtype option on import or set low_memory=False.\n",
      "  interactivity=interactivity, compiler=compiler, result=result)\n"
     ]
    }
   ],
   "source": [
    "word_pron_char_defin_cate = []   \n",
    "df = pd.read_csv(\"stardict.csv\",encoding = 'utf-8')"
   ]
  },
  {
   "cell_type": "code",
   "execution_count": 78,
   "metadata": {
    "collapsed": true
   },
   "outputs": [
    {
     "ename": "IndexError",
     "evalue": "list index out of range",
     "output_type": "error",
     "traceback": [
      "\u001b[1;31m---------------------------------------------------------------------------\u001b[0m",
      "\u001b[1;31mIndexError\u001b[0m                                Traceback (most recent call last)",
      "\u001b[1;32m<ipython-input-78-f1394505321a>\u001b[0m in \u001b[0;36m<module>\u001b[1;34m\u001b[0m\n\u001b[0;32m      1\u001b[0m \u001b[1;32mfor\u001b[0m \u001b[0mi\u001b[0m \u001b[1;32min\u001b[0m \u001b[0mreader\u001b[0m\u001b[1;33m:\u001b[0m\u001b[1;33m\u001b[0m\u001b[1;33m\u001b[0m\u001b[0m\n\u001b[1;32m----> 2\u001b[1;33m     \u001b[0mcategory\u001b[0m \u001b[1;33m=\u001b[0m \u001b[0mre\u001b[0m\u001b[1;33m.\u001b[0m\u001b[0mfindall\u001b[0m\u001b[1;33m(\u001b[0m\u001b[1;34m\"[a-z]+\\-?[a-z]+\"\u001b[0m\u001b[1;33m,\u001b[0m \u001b[0mdf\u001b[0m\u001b[1;33m.\u001b[0m\u001b[0mloc\u001b[0m\u001b[1;33m[\u001b[0m\u001b[0mdf\u001b[0m\u001b[1;33m[\u001b[0m\u001b[1;34m'word'\u001b[0m\u001b[1;33m]\u001b[0m\u001b[1;33m==\u001b[0m \u001b[0mi\u001b[0m\u001b[1;33m[\u001b[0m\u001b[1;36m0\u001b[0m\u001b[1;33m]\u001b[0m \u001b[1;33m,\u001b[0m\u001b[1;34m'tag'\u001b[0m\u001b[1;33m]\u001b[0m\u001b[1;33m.\u001b[0m\u001b[0mto_string\u001b[0m\u001b[1;33m(\u001b[0m\u001b[1;33m)\u001b[0m\u001b[1;33m)\u001b[0m\u001b[1;33m\u001b[0m\u001b[1;33m\u001b[0m\u001b[0m\n\u001b[0m\u001b[0;32m      3\u001b[0m     \u001b[1;32mif\u001b[0m \u001b[0mi\u001b[0m\u001b[1;33m[\u001b[0m\u001b[1;36m0\u001b[0m\u001b[1;33m]\u001b[0m \u001b[1;32min\u001b[0m \u001b[0mGMAT_list\u001b[0m\u001b[1;33m:\u001b[0m\u001b[1;33m\u001b[0m\u001b[1;33m\u001b[0m\u001b[0m\n\u001b[0;32m      4\u001b[0m         \u001b[0mcategory\u001b[0m\u001b[1;33m.\u001b[0m\u001b[0mappend\u001b[0m\u001b[1;33m(\u001b[0m\u001b[1;34m'gmat'\u001b[0m\u001b[1;33m)\u001b[0m\u001b[1;33m\u001b[0m\u001b[1;33m\u001b[0m\u001b[0m\n\u001b[0;32m      5\u001b[0m     \u001b[0mcate\u001b[0m \u001b[1;33m=\u001b[0m \u001b[1;34m\",\"\u001b[0m\u001b[1;33m.\u001b[0m\u001b[0mjoin\u001b[0m\u001b[1;33m(\u001b[0m\u001b[0mcategory\u001b[0m\u001b[1;33m)\u001b[0m\u001b[1;33m\u001b[0m\u001b[1;33m\u001b[0m\u001b[0m\n",
      "\u001b[1;31mIndexError\u001b[0m: list index out of range"
     ]
    }
   ],
   "source": [
    "for i in reader:\n",
    "    try:\n",
    "        category = re.findall(\"[a-z]+\\-?[a-z]+\", df.loc[df['word']== i[0] ,'tag'].to_string())\n",
    "        if i[0] in GMAT_list:\n",
    "            category.append('gmat')\n",
    "        cate = \",\".join(category)\n",
    "    \n",
    "        try:\n",
    "    \n",
    "            word_id = i[0]\n",
    "            strictMatch = 'false'\n",
    "\n",
    "            url = 'https://od-api.oxforddictionaries.com:443/api/v2/entries/en-gb/' + word_id.lower() + '?strictMatch=' + strictMatch;\n",
    "\n",
    "            r = requests.get(url, headers = {'app_id': app_id, 'app_key': app_key})\n",
    "            pron = r.json()[\"results\"][0]['lexicalEntries'][0]['entries'][0]['pronunciations'][0]['phoneticSpelling']\n",
    "            char = r.json()[\"results\"][0]['lexicalEntries'][0]['lexicalCategory']['text']\n",
    "            defin = r.json()[\"results\"][0]['lexicalEntries'][0]['entries'][0]['senses'][0]['definitions'][0]\n",
    "            word_pron_char_defin_cate.append([i[0],'/'+pron+'/',char,defin,cate])\n",
    "            time.sleep(10)\n",
    "        except KeyError :\n",
    "            pass\n",
    "        continue\n",
    "    except IndexError:\n",
    "        pass"
   ]
  },
  {
   "cell_type": "code",
   "execution_count": 81,
   "metadata": {
    "collapsed": true
   },
   "outputs": [
    {
     "data": {
      "text/plain": [
       "[['sanction',\n",
       "  '/ˈsaŋ(k)ʃ(ə)n/',\n",
       "  'Noun',\n",
       "  'a threatened penalty for disobeying a law or rule',\n",
       "  'cet,ky,toefl,ielts,gre,gmat'],\n",
       " ['regime',\n",
       "  '/reɪˈʒiːm/',\n",
       "  'Noun',\n",
       "  'a government, especially an authoritarian one',\n",
       "  'cet,ky,toefl,ielts,gre,gmat'],\n",
       " ['treasury',\n",
       "  '/ˈtrɛʒ(ə)ri/',\n",
       "  'Noun',\n",
       "  'the funds or revenue of a state, institution, or society',\n",
       "  'gmat'],\n",
       " ['bilateral',\n",
       "  '/bʌɪˈlat(ə)r(ə)l/',\n",
       "  'Adjective',\n",
       "  'having or relating to two sides; affecting both sides',\n",
       "  'toefl,ielts,gmat'],\n",
       " ['capability',\n",
       "  '/keɪpəˈbɪlɪti/',\n",
       "  'Noun',\n",
       "  'the power or ability to do something',\n",
       "  'cet,toefl'],\n",
       " ['impeachment',\n",
       "  '/ɪmˈpiːtʃmənt/',\n",
       "  'Noun',\n",
       "  '(especially in the US) a charge of misconduct made against the holder of a public office',\n",
       "  ''],\n",
       " ['tariff',\n",
       "  '/ˈtarɪf/',\n",
       "  'Noun',\n",
       "  'a tax or duty to be paid on a particular class of imports or exports',\n",
       "  'cet,ky,toefl,ielts,gre,gmat'],\n",
       " ['concession',\n",
       "  '/kənˈsɛʃ(ə)n/',\n",
       "  'Noun',\n",
       "  'a thing that is granted, especially in response to demands',\n",
       "  'cet,ky,toefl,ielts,gre'],\n",
       " ['tanker',\n",
       "  '/ˈtaŋkə/',\n",
       "  'Noun',\n",
       "  'a ship, road vehicle, or aircraft for carrying liquids, especially mineral oils, in bulk',\n",
       "  'gk,cet,ky'],\n",
       " ['counterpart',\n",
       "  '/ˈkaʊntəpɑːt/',\n",
       "  'Noun',\n",
       "  'a person or thing that corresponds to or has the same function as another person or thing in a different place or situation',\n",
       "  'cet,ky,toefl,ielts,gre,gmat'],\n",
       " ['democrat',\n",
       "  '/ˈdɛməkrat/',\n",
       "  'Noun',\n",
       "  'an advocate or supporter of democracy',\n",
       "  'toefl,gmat'],\n",
       " ['syrian',\n",
       "  '/ˈsɪrɪən/',\n",
       "  'Adjective',\n",
       "  'relating to or characteristic of Syria or its people.',\n",
       "  'eries'],\n",
       " ['thereafter',\n",
       "  '/ðɛːrˈɑːftə/',\n",
       "  'Adverb',\n",
       "  'after that time',\n",
       "  'cet,ky,toefl,gmat'],\n",
       " ['bureaucracy',\n",
       "  '/ˌbjʊ(ə)ˈrɒkrəsi/',\n",
       "  'Noun',\n",
       "  'a system of government in which most of the important decisions are taken by state officials rather than by elected representatives.',\n",
       "  'cet,ky,ielts,gre'],\n",
       " ['priority',\n",
       "  '/prʌɪˈɒrɪti/',\n",
       "  'Noun',\n",
       "  'the fact or condition of being regarded or treated as more important than others',\n",
       "  'cet,cet,ky,toefl,ielts,gre,gmat'],\n",
       " ['meddle',\n",
       "  '/ˈmɛd(ə)l/',\n",
       "  'Verb',\n",
       "  \"interfere in something that is not one's concern\",\n",
       "  'toefl,ielts,gre'],\n",
       " ['coverage',\n",
       "  '/ˈkʌv(ə)rɪdʒ/',\n",
       "  'Noun',\n",
       "  'the extent to which something deals with something else',\n",
       "  'ky,toefl,ielts'],\n",
       " ['diplomatic',\n",
       "  '/dɪpləˈmatɪk/',\n",
       "  'Adjective',\n",
       "  'of or concerning diplomacy',\n",
       "  'cet,ky,toefl,ielts,gre,gmat'],\n",
       " ['attorney',\n",
       "  '/əˈtəːni/',\n",
       "  'Noun',\n",
       "  'a person, typically a lawyer, appointed to act for another in business or legal matters.',\n",
       "  'cet,ky,toefl,ielts,gre,gmat'],\n",
       " ['casualty',\n",
       "  '/ˈkaʒjʊəlti/',\n",
       "  'Noun',\n",
       "  'a person killed or injured in a war or accident',\n",
       "  'cet,ky,toefl,ielts,gre,gmat'],\n",
       " ['waiver',\n",
       "  '/ˈweɪvə/',\n",
       "  'Noun',\n",
       "  'an act or instance of waiving a right or claim',\n",
       "  ''],\n",
       " ['counsel',\n",
       "  '/ˈkaʊns(ə)l/',\n",
       "  'Noun',\n",
       "  'advice, especially that given formally',\n",
       "  'cet,ky,toefl,ielts'],\n",
       " ['congressional',\n",
       "  '/kənˈɡrɛʃ(ə)n(ə)l/',\n",
       "  'Adjective',\n",
       "  'belonging or relating to a national legislative body, especially that of the US',\n",
       "  'toefl'],\n",
       " ['hostage',\n",
       "  '/ˈhɒstɪdʒ/',\n",
       "  'Noun',\n",
       "  'a person seized or held as security for the fulfilment of a condition',\n",
       "  'cet,ky,ielts'],\n",
       " ['successor',\n",
       "  '/səkˈsɛsə/',\n",
       "  'Noun',\n",
       "  'a person or thing that succeeds another',\n",
       "  'cet,ky'],\n",
       " ['adversary',\n",
       "  '/ˈadvəs(ə)ri/',\n",
       "  'Noun',\n",
       "  \"one's opponent in a contest, conflict, or dispute\",\n",
       "  ''],\n",
       " ['nomination',\n",
       "  '/nɒmɪˈneɪʃ(ə)n/',\n",
       "  'Noun',\n",
       "  'the action of nominating or state of being nominated',\n",
       "  ''],\n",
       " ['clearance',\n",
       "  '/ˈklɪər(ə)ns/',\n",
       "  'Noun',\n",
       "  'the action or process of clearing or of being dispersed',\n",
       "  'ielts'],\n",
       " ['legitimate',\n",
       "  '/lɪˈdʒɪtɪmət/',\n",
       "  'Adjective',\n",
       "  'conforming to the law or to rules',\n",
       "  'cet,ky,ielts,gre,gmat'],\n",
       " ['retaliation',\n",
       "  '/rɪˌtalɪˈeɪʃn/',\n",
       "  'Noun',\n",
       "  'the action of returning a military attack; counter-attack',\n",
       "  'gre,gmat'],\n",
       " ['deterrence',\n",
       "  '/dɪˈtɛr(ə)ns/',\n",
       "  'Noun',\n",
       "  'the action of discouraging an action or event through instilling doubt or fear of the consequences',\n",
       "  ''],\n",
       " ['arabia',\n",
       "  '/əˈreɪbɪə/',\n",
       "  'Noun',\n",
       "  'a peninsula of south-western Asia, largely desert, lying between the Red Sea and the Persian Gulf and bounded on the north by Jordan and Iraq. The original homeland of the Arabs and the historic centre of Islam, it comprises the states of Saudi Arabia, Yemen, Oman, Bahrain, Kuwait, Qatar, and the United Arab Emirates.',\n",
       "  'eries'],\n",
       " ['tenure',\n",
       "  '/ˈtɛnjə/',\n",
       "  'Noun',\n",
       "  'the conditions under which land or buildings are held or occupied.',\n",
       "  'gre,gmat'],\n",
       " ['communiqué',\n",
       "  '/kəˈmjuːnɪkeɪ/',\n",
       "  'Noun',\n",
       "  'an official announcement or statement, especially one made to the media',\n",
       "  'eries'],\n",
       " ['declaration',\n",
       "  '/dɛkləˈreɪʃ(ə)n/',\n",
       "  'Noun',\n",
       "  'a formal or explicit statement or announcement',\n",
       "  'cet,ky,toefl,ielts'],\n",
       " ['diplomacy',\n",
       "  '/dɪˈpləʊməsi/',\n",
       "  'Noun',\n",
       "  \"the profession, activity, or skill of managing international relations, typically by a country's representatives abroad\",\n",
       "  'toefl'],\n",
       " ['air',\n",
       "  '/ɛː/',\n",
       "  'Noun',\n",
       "  'the invisible gaseous substance surrounding the earth, a mixture mainly of oxygen and nitrogen.',\n",
       "  'zk,gk,toefl,ielts'],\n",
       " ['humanitarian',\n",
       "  '/hjʊˌmanɪˈtɛːrɪən/',\n",
       "  'Adjective',\n",
       "  'concerned with or seeking to promote human welfare',\n",
       "  'cet,toefl'],\n",
       " ['counterterrorism',\n",
       "  '/kaʊntəˈtɛrərɪz(ə)m/',\n",
       "  'Noun',\n",
       "  'political or military activities designed to prevent or thwart terrorism',\n",
       "  ''],\n",
       " ['senator', '/ˈsɛnətə/', 'Noun', 'a member of a senate', 'cet,ky,toefl'],\n",
       " ['ballistic',\n",
       "  '/bəˈlɪstɪk/',\n",
       "  'Adjective',\n",
       "  'relating to projectiles or their flight.',\n",
       "  'gmat'],\n",
       " ['enforcement',\n",
       "  '/ɪnˈfɔːsm(ə)nt/',\n",
       "  'Noun',\n",
       "  'the act of compelling observance of or compliance with a law, rule, or obligation',\n",
       "  ''],\n",
       " ['hemisphere',\n",
       "  '/ˈhɛmɪsfɪə/',\n",
       "  'Noun',\n",
       "  'a half of a sphere.',\n",
       "  'cet,ky,toefl,ielts,gre'],\n",
       " ['staffer',\n",
       "  '/ˈstɑːfə/',\n",
       "  'Noun',\n",
       "  'a member of the staff of an organization, especially of a newspaper',\n",
       "  ''],\n",
       " ['constitutional',\n",
       "  '/kɒnstɪˈtjuːʃ(ə)n(ə)l/',\n",
       "  'Adjective',\n",
       "  'relating to an established set of principles governing a state',\n",
       "  'toefl,gre'],\n",
       " ['inevitably',\n",
       "  '/ɪˈnɛvɪtəbli/',\n",
       "  'Adverb',\n",
       "  'as is certain to happen; unavoidably',\n",
       "  'cet,toefl'],\n",
       " ['dysfunctional',\n",
       "  '/dɪsˈfʌŋkʃənl/',\n",
       "  'Adjective',\n",
       "  'not operating normally or properly',\n",
       "  'gre'],\n",
       " ['rally',\n",
       "  '/ˈrali/',\n",
       "  'Verb',\n",
       "  '(of troops) come together again in order to continue fighting after a defeat or dispersion',\n",
       "  'cet,ky,toefl,ielts,gre,gmat'],\n",
       " ['discord',\n",
       "  '/ˈdɪskɔːd/',\n",
       "  'Noun',\n",
       "  'disagreement between people',\n",
       "  'toefl,ielts,gre,gmat'],\n",
       " ['substantive',\n",
       "  '/ˈsʌbst(ə)ntɪv/',\n",
       "  'Adjective',\n",
       "  'having a firm basis in reality and so important, meaningful, or considerable',\n",
       "  'toefl,gre'],\n",
       " ['sanction',\n",
       "  '/ˈsaŋ(k)ʃ(ə)n/',\n",
       "  'Noun',\n",
       "  'a threatened penalty for disobeying a law or rule',\n",
       "  'cet,ky,toefl,ielts,gre,gmat'],\n",
       " ['regime',\n",
       "  '/reɪˈʒiːm/',\n",
       "  'Noun',\n",
       "  'a government, especially an authoritarian one',\n",
       "  'cet,ky,toefl,ielts,gre,gmat'],\n",
       " ['treasury',\n",
       "  '/ˈtrɛʒ(ə)ri/',\n",
       "  'Noun',\n",
       "  'the funds or revenue of a state, institution, or society',\n",
       "  'gmat'],\n",
       " ['bilateral',\n",
       "  '/bʌɪˈlat(ə)r(ə)l/',\n",
       "  'Adjective',\n",
       "  'having or relating to two sides; affecting both sides',\n",
       "  'toefl,ielts,gmat'],\n",
       " ['capability',\n",
       "  '/keɪpəˈbɪlɪti/',\n",
       "  'Noun',\n",
       "  'the power or ability to do something',\n",
       "  'cet,toefl'],\n",
       " ['impeachment',\n",
       "  '/ɪmˈpiːtʃmənt/',\n",
       "  'Noun',\n",
       "  '(especially in the US) a charge of misconduct made against the holder of a public office',\n",
       "  ''],\n",
       " ['tariff',\n",
       "  '/ˈtarɪf/',\n",
       "  'Noun',\n",
       "  'a tax or duty to be paid on a particular class of imports or exports',\n",
       "  'cet,ky,toefl,ielts,gre,gmat'],\n",
       " ['concession',\n",
       "  '/kənˈsɛʃ(ə)n/',\n",
       "  'Noun',\n",
       "  'a thing that is granted, especially in response to demands',\n",
       "  'cet,ky,toefl,ielts,gre'],\n",
       " ['tanker',\n",
       "  '/ˈtaŋkə/',\n",
       "  'Noun',\n",
       "  'a ship, road vehicle, or aircraft for carrying liquids, especially mineral oils, in bulk',\n",
       "  'gk,cet,ky'],\n",
       " ['counterpart',\n",
       "  '/ˈkaʊntəpɑːt/',\n",
       "  'Noun',\n",
       "  'a person or thing that corresponds to or has the same function as another person or thing in a different place or situation',\n",
       "  'cet,ky,toefl,ielts,gre,gmat'],\n",
       " ['democrat',\n",
       "  '/ˈdɛməkrat/',\n",
       "  'Noun',\n",
       "  'an advocate or supporter of democracy',\n",
       "  'toefl,gmat'],\n",
       " ['syrian',\n",
       "  '/ˈsɪrɪən/',\n",
       "  'Adjective',\n",
       "  'relating to or characteristic of Syria or its people.',\n",
       "  'eries'],\n",
       " ['thereafter',\n",
       "  '/ðɛːrˈɑːftə/',\n",
       "  'Adverb',\n",
       "  'after that time',\n",
       "  'cet,ky,toefl,gmat'],\n",
       " ['bureaucracy',\n",
       "  '/ˌbjʊ(ə)ˈrɒkrəsi/',\n",
       "  'Noun',\n",
       "  'a system of government in which most of the important decisions are taken by state officials rather than by elected representatives.',\n",
       "  'cet,ky,ielts,gre'],\n",
       " ['priority',\n",
       "  '/prʌɪˈɒrɪti/',\n",
       "  'Noun',\n",
       "  'the fact or condition of being regarded or treated as more important than others',\n",
       "  'cet,cet,ky,toefl,ielts,gre,gmat'],\n",
       " ['meddle',\n",
       "  '/ˈmɛd(ə)l/',\n",
       "  'Verb',\n",
       "  \"interfere in something that is not one's concern\",\n",
       "  'toefl,ielts,gre'],\n",
       " ['coverage',\n",
       "  '/ˈkʌv(ə)rɪdʒ/',\n",
       "  'Noun',\n",
       "  'the extent to which something deals with something else',\n",
       "  'ky,toefl,ielts'],\n",
       " ['diplomatic',\n",
       "  '/dɪpləˈmatɪk/',\n",
       "  'Adjective',\n",
       "  'of or concerning diplomacy',\n",
       "  'cet,ky,toefl,ielts,gre,gmat'],\n",
       " ['attorney',\n",
       "  '/əˈtəːni/',\n",
       "  'Noun',\n",
       "  'a person, typically a lawyer, appointed to act for another in business or legal matters.',\n",
       "  'cet,ky,toefl,ielts,gre,gmat'],\n",
       " ['casualty',\n",
       "  '/ˈkaʒjʊəlti/',\n",
       "  'Noun',\n",
       "  'a person killed or injured in a war or accident',\n",
       "  'cet,ky,toefl,ielts,gre,gmat'],\n",
       " ['waiver',\n",
       "  '/ˈweɪvə/',\n",
       "  'Noun',\n",
       "  'an act or instance of waiving a right or claim',\n",
       "  ''],\n",
       " ['counsel',\n",
       "  '/ˈkaʊns(ə)l/',\n",
       "  'Noun',\n",
       "  'advice, especially that given formally',\n",
       "  'cet,ky,toefl,ielts'],\n",
       " ['congressional',\n",
       "  '/kənˈɡrɛʃ(ə)n(ə)l/',\n",
       "  'Adjective',\n",
       "  'belonging or relating to a national legislative body, especially that of the US',\n",
       "  'toefl'],\n",
       " ['hostage',\n",
       "  '/ˈhɒstɪdʒ/',\n",
       "  'Noun',\n",
       "  'a person seized or held as security for the fulfilment of a condition',\n",
       "  'cet,ky,ielts'],\n",
       " ['successor',\n",
       "  '/səkˈsɛsə/',\n",
       "  'Noun',\n",
       "  'a person or thing that succeeds another',\n",
       "  'cet,ky'],\n",
       " ['adversary',\n",
       "  '/ˈadvəs(ə)ri/',\n",
       "  'Noun',\n",
       "  \"one's opponent in a contest, conflict, or dispute\",\n",
       "  ''],\n",
       " ['nomination',\n",
       "  '/nɒmɪˈneɪʃ(ə)n/',\n",
       "  'Noun',\n",
       "  'the action of nominating or state of being nominated',\n",
       "  ''],\n",
       " ['clearance',\n",
       "  '/ˈklɪər(ə)ns/',\n",
       "  'Noun',\n",
       "  'the action or process of clearing or of being dispersed',\n",
       "  'ielts'],\n",
       " ['legitimate',\n",
       "  '/lɪˈdʒɪtɪmət/',\n",
       "  'Adjective',\n",
       "  'conforming to the law or to rules',\n",
       "  'cet,ky,ielts,gre,gmat'],\n",
       " ['retaliation',\n",
       "  '/rɪˌtalɪˈeɪʃn/',\n",
       "  'Noun',\n",
       "  'the action of returning a military attack; counter-attack',\n",
       "  'gre,gmat'],\n",
       " ['deterrence',\n",
       "  '/dɪˈtɛr(ə)ns/',\n",
       "  'Noun',\n",
       "  'the action of discouraging an action or event through instilling doubt or fear of the consequences',\n",
       "  ''],\n",
       " ['arabia',\n",
       "  '/əˈreɪbɪə/',\n",
       "  'Noun',\n",
       "  'a peninsula of south-western Asia, largely desert, lying between the Red Sea and the Persian Gulf and bounded on the north by Jordan and Iraq. The original homeland of the Arabs and the historic centre of Islam, it comprises the states of Saudi Arabia, Yemen, Oman, Bahrain, Kuwait, Qatar, and the United Arab Emirates.',\n",
       "  'eries'],\n",
       " ['tenure',\n",
       "  '/ˈtɛnjə/',\n",
       "  'Noun',\n",
       "  'the conditions under which land or buildings are held or occupied.',\n",
       "  'gre,gmat'],\n",
       " ['communiqué',\n",
       "  '/kəˈmjuːnɪkeɪ/',\n",
       "  'Noun',\n",
       "  'an official announcement or statement, especially one made to the media',\n",
       "  'eries'],\n",
       " ['declaration',\n",
       "  '/dɛkləˈreɪʃ(ə)n/',\n",
       "  'Noun',\n",
       "  'a formal or explicit statement or announcement',\n",
       "  'cet,ky,toefl,ielts'],\n",
       " ['diplomacy',\n",
       "  '/dɪˈpləʊməsi/',\n",
       "  'Noun',\n",
       "  \"the profession, activity, or skill of managing international relations, typically by a country's representatives abroad\",\n",
       "  'toefl'],\n",
       " ['air',\n",
       "  '/ɛː/',\n",
       "  'Noun',\n",
       "  'the invisible gaseous substance surrounding the earth, a mixture mainly of oxygen and nitrogen.',\n",
       "  'zk,gk,toefl,ielts'],\n",
       " ['humanitarian',\n",
       "  '/hjʊˌmanɪˈtɛːrɪən/',\n",
       "  'Adjective',\n",
       "  'concerned with or seeking to promote human welfare',\n",
       "  'cet,toefl'],\n",
       " ['counterterrorism',\n",
       "  '/kaʊntəˈtɛrərɪz(ə)m/',\n",
       "  'Noun',\n",
       "  'political or military activities designed to prevent or thwart terrorism',\n",
       "  ''],\n",
       " ['senator', '/ˈsɛnətə/', 'Noun', 'a member of a senate', 'cet,ky,toefl'],\n",
       " ['ballistic',\n",
       "  '/bəˈlɪstɪk/',\n",
       "  'Adjective',\n",
       "  'relating to projectiles or their flight.',\n",
       "  'gmat'],\n",
       " ['enforcement',\n",
       "  '/ɪnˈfɔːsm(ə)nt/',\n",
       "  'Noun',\n",
       "  'the act of compelling observance of or compliance with a law, rule, or obligation',\n",
       "  ''],\n",
       " ['hemisphere',\n",
       "  '/ˈhɛmɪsfɪə/',\n",
       "  'Noun',\n",
       "  'a half of a sphere.',\n",
       "  'cet,ky,toefl,ielts,gre'],\n",
       " ['staffer',\n",
       "  '/ˈstɑːfə/',\n",
       "  'Noun',\n",
       "  'a member of the staff of an organization, especially of a newspaper',\n",
       "  ''],\n",
       " ['constitutional',\n",
       "  '/kɒnstɪˈtjuːʃ(ə)n(ə)l/',\n",
       "  'Adjective',\n",
       "  'relating to an established set of principles governing a state',\n",
       "  'toefl,gre'],\n",
       " ['inevitably',\n",
       "  '/ɪˈnɛvɪtəbli/',\n",
       "  'Adverb',\n",
       "  'as is certain to happen; unavoidably',\n",
       "  'cet,toefl'],\n",
       " ['dysfunctional',\n",
       "  '/dɪsˈfʌŋkʃənl/',\n",
       "  'Adjective',\n",
       "  'not operating normally or properly',\n",
       "  'gre'],\n",
       " ['rally',\n",
       "  '/ˈrali/',\n",
       "  'Verb',\n",
       "  '(of troops) come together again in order to continue fighting after a defeat or dispersion',\n",
       "  'cet,ky,toefl,ielts,gre,gmat'],\n",
       " ['discord',\n",
       "  '/ˈdɪskɔːd/',\n",
       "  'Noun',\n",
       "  'disagreement between people',\n",
       "  'toefl,ielts,gre,gmat'],\n",
       " ['substantive',\n",
       "  '/ˈsʌbst(ə)ntɪv/',\n",
       "  'Adjective',\n",
       "  'having a firm basis in reality and so important, meaningful, or considerable',\n",
       "  'toefl,gre']]"
      ]
     },
     "execution_count": 81,
     "metadata": {},
     "output_type": "execute_result"
    }
   ],
   "source": [
    "word_pron_char_defin_cate"
   ]
  },
  {
   "cell_type": "code",
   "execution_count": 89,
   "metadata": {},
   "outputs": [],
   "source": [
    "for i in word_pron_char_defin_cate:\n",
    "    if i[2] == 'Noun':\n",
    "        i[2] = 'n.'\n",
    "    if i[2] == 'Adjective':\n",
    "        i[2] = 'adj.'\n",
    "    if i[2] == 'Verb':\n",
    "        i[2] = 'v.'\n",
    "    if i[2] == 'Adverb':\n",
    "        i[2] = 'adv.'\n"
   ]
  },
  {
   "cell_type": "code",
   "execution_count": 90,
   "metadata": {},
   "outputs": [],
   "source": [
    "# Baidu API for EN-CN Translate\n",
    "appid = '20200627000507736'  # 填写你的appid\n",
    "secretKey = 'G3ghonyD9dfI39NnFtGN'  # 填写你的密钥\n",
    "\n",
    "httpClient = None\n",
    "myurl = '/api/trans/vip/translate'\n",
    "\n",
    "fromLang = 'en'   #原文语种\n",
    "toLang = 'zh'   #译文语种"
   ]
  },
  {
   "cell_type": "code",
   "execution_count": 91,
   "metadata": {},
   "outputs": [
    {
     "data": {
      "text/plain": [
       "100"
      ]
     },
     "execution_count": 91,
     "metadata": {},
     "output_type": "execute_result"
    }
   ],
   "source": [
    "len(word_pron_char_defin_cate)"
   ]
  },
  {
   "cell_type": "code",
   "execution_count": 92,
   "metadata": {
    "scrolled": true
   },
   "outputs": [],
   "source": [
    "word_pron_char_defin_cate_cn = []\n",
    "for i in word_pron_char_defin_cate:\n",
    "    salt = random.randint(32768, 65536)\n",
    "    sign = appid + i[0] + str(salt) + secretKey\n",
    "    sign = hashlib.md5(sign.encode()).hexdigest()\n",
    "    myurl = myurl + '?appid=' + appid + '&q=' + urllib.parse.quote(i[0]) + '&from=' + fromLang + '&to=' + toLang + '&salt=' + str(salt) + '&sign=' + sign\n",
    "\n",
    "    try:\n",
    "        httpClient = http.client.HTTPConnection('api.fanyi.baidu.com')\n",
    "        httpClient.request('GET', myurl)\n",
    "\n",
    "        # response是HTTPResponse对象\n",
    "        response = httpClient.getresponse()\n",
    "        result_all = response.read().decode(\"utf-8\")\n",
    "        result = json.loads(result_all)['trans_result'][0]['dst']\n",
    "        i.append(result)\n",
    "        word_pron_char_defin_cate_cn.append(i)\n",
    "\n",
    "\n",
    "    except Exception as e:\n",
    "        pass\n",
    "\n"
   ]
  },
  {
   "cell_type": "code",
   "execution_count": 93,
   "metadata": {},
   "outputs": [],
   "source": [
    "fileObject = open('Theroomwhereithappensvocabularycounts_v3.txt', 'w',encoding='utf-8')\n",
    "for i in word_pron_char_defin_cate_cn:\n",
    "    for j in i:\n",
    "        fileObject.write(j)\n",
    "        fileObject.write(' ')\n",
    "    fileObject.write('\\n')\n",
    "fileObject.close()"
   ]
  },
  {
   "cell_type": "markdown",
   "metadata": {},
   "source": [
    "# 3. Find phrases in text"
   ]
  },
  {
   "cell_type": "markdown",
   "metadata": {},
   "source": [
    "#### 3.1 test"
   ]
  },
  {
   "cell_type": "code",
   "execution_count": null,
   "metadata": {},
   "outputs": [],
   "source": [
    "bigram_measures = nltk.collocations.BigramAssocMeasures()\n",
    "trigram_measures = nltk.collocations.TrigramAssocMeasures()\n",
    "finder = BigramCollocationFinder.from_words(word_list)\n",
    "scored = finder.score_ngrams(bigram_measures.raw_freq)\n",
    "sorted(bigram for bigram, score in scored)"
   ]
  },
  {
   "cell_type": "code",
   "execution_count": null,
   "metadata": {},
   "outputs": [],
   "source": [
    "text = \"The Omnibus Crime Control and Safe Streets Act of 1968 was signed into law by President Lyndon B. Johnson.so as James\"\n",
    "phrasemachine.get_phrases(text)"
   ]
  },
  {
   "cell_type": "code",
   "execution_count": null,
   "metadata": {},
   "outputs": [],
   "source": [
    "phrase_list=[['bring','out'],['look','in','the','eye'],['dream','of'],['want','to'],['had','it','in']]\n",
    "raw_phrase_list = []"
   ]
  },
  {
   "cell_type": "markdown",
   "metadata": {},
   "source": [
    "#### 3.2 full version"
   ]
  },
  {
   "cell_type": "code",
   "execution_count": 97,
   "metadata": {},
   "outputs": [],
   "source": [
    "# Pharase with space\n",
    "csvFile = open(\"Phrase Book With Space.csv\", \"r\",encoding = 'utf-8-sig')\n",
    "reader = csv.reader(csvFile)\n",
    "phrase = []\n",
    "phrase_with_space_list = []\n",
    "for i in reader:\n",
    "    phrase.append(i)\n",
    "for i in phrase:\n",
    "    i = [j for j in i if j !=  '']\n",
    "    phrase_with_space_list.append(i)"
   ]
  },
  {
   "cell_type": "code",
   "execution_count": 99,
   "metadata": {},
   "outputs": [],
   "source": [
    "# select pharses appeared with spaces\n",
    "raw_phrase_with_space_list = []\n",
    "\n",
    "for i in range(0,len(word_list)):\n",
    "    for j in phrase_with_space_list:\n",
    "        try:\n",
    "            if word_list[i] == j[0] and j[-1] in word_list[i+1:i+5]:\n",
    "                if j[-2] in word_list[i+1:i+4]:\n",
    "                    raw_phrase_with_space_list.append(j)\n",
    "                else:\n",
    "                    continue                \n",
    "            else:\n",
    "                continue\n",
    "        except IndexError:\n",
    "            pass\n",
    "        continue\n",
    "\n",
    "phrase_count = pd.value_counts(raw_phrase_with_space_list)\n",
    "data = pd.DataFrame({'Phrase':phrase_count.index, 'counts':phrase_count.values})\n",
    "data.to_csv(\"Heartisthelonelyhunter_phrase_with_space_counts.csv\",index=False,header=True)  "
   ]
  },
  {
   "cell_type": "code",
   "execution_count": 100,
   "metadata": {},
   "outputs": [],
   "source": [
    "# Pharase without space\n",
    "csvfile = open(\"Phrase Book No Space_v2.csv\", \"r\",encoding = 'utf-8-sig')\n",
    "reader = csv.reader(csvfile)\n",
    "phrase = []\n",
    "phrase_no_space_list = []\n",
    "for i in reader:\n",
    "    phrase.append(i)\n",
    "for i in phrase:\n",
    "    i = [j for j in i if j !=  '']\n",
    "    phrase_no_space_list.append(i)"
   ]
  },
  {
   "cell_type": "code",
   "execution_count": 102,
   "metadata": {},
   "outputs": [],
   "source": [
    "# select pharses appeared without spaces\n",
    "raw_phrase_no_space_list = []\n",
    "correct = 0\n",
    "for i in range(0,len(word_list)):\n",
    "    for j in phrase_no_space_list:\n",
    "        try:\n",
    "            length = len(j)\n",
    "            for h in range(0,length):\n",
    "                if word_list[i+h] == j[h]:\n",
    "                    correct += 1\n",
    "            if correct == length:\n",
    "                raw_phrase_no_space_list.append(j)\n",
    "                correct = 0\n",
    "            else:\n",
    "                correct = 0\n",
    "        except IndexError:\n",
    "            pass\n",
    "        continue\n",
    "            \n",
    "phrase_count = pd.value_counts(raw_phrase_no_space_list)\n",
    "data = pd.DataFrame({'Phrase':phrase_count.index, 'counts':phrase_count.values})\n",
    "data.to_csv(\"Heartisthelonelyhunter_phrase_no_space_counts.csv\",index=False,header=True)\n",
    "        \n",
    "            "
   ]
  },
  {
   "cell_type": "markdown",
   "metadata": {},
   "source": [
    "# 4. Scrape Booklist"
   ]
  },
  {
   "cell_type": "markdown",
   "metadata": {},
   "source": [
    "#### bookerprize"
   ]
  },
  {
   "cell_type": "code",
   "execution_count": 65,
   "metadata": {},
   "outputs": [],
   "source": [
    "for i in raw_phrase_no_space_list:\n",
    "    raw_phrase_with_space_list.append(i)"
   ]
  },
  {
   "cell_type": "code",
   "execution_count": 66,
   "metadata": {},
   "outputs": [],
   "source": [
    "phrase_count = pd.value_counts(raw_phrase_with_space_list)\n",
    "data = pd.DataFrame({'Phrase':phrase_count.index, 'counts':phrase_count.values})\n",
    "data.to_csv(\"Roomwhereithappendsphrasecounts.csv\",index=False,header=True)"
   ]
  },
  {
   "cell_type": "code",
   "execution_count": null,
   "metadata": {},
   "outputs": [],
   "source": [
    "url = []\n",
    "for i in range(2010,2020):\n",
    "    url.append('https://thebookerprizes.com/fiction/backlist/'+str(i))"
   ]
  },
  {
   "cell_type": "code",
   "execution_count": null,
   "metadata": {},
   "outputs": [],
   "source": [
    "name_author_list = []\n",
    "for i in url:\n",
    "    hdr = {'User-Agent': 'Mozilla/5.0'}\n",
    "    req = Request(i,headers=hdr)\n",
    "    html= urlopen(req)\n",
    "    soup = BeautifulSoup(html, 'html.parser')\n",
    "    shortlist = soup.find('div',class_=\"flexslider bookCarousel\")\n",
    "    name_author=shortlist.find_all('h4',class_=\"title\")\n",
    "    for k in name_author:\n",
    "        try:\n",
    "            name = k.get_text()\n",
    "            author = re.findall('\\-by\\-(\\S+)',k.a['href'])[0].replace('-',' ')\n",
    "            name_author_list.append([name,author])\n",
    "        except IndexError:\n",
    "            pass\n",
    "        continue"
   ]
  },
  {
   "cell_type": "code",
   "execution_count": null,
   "metadata": {
    "scrolled": true
   },
   "outputs": [],
   "source": [
    "name_author_list"
   ]
  },
  {
   "cell_type": "code",
   "execution_count": null,
   "metadata": {
    "scrolled": true
   },
   "outputs": [],
   "source": [
    "word = 'https://mmbiz.qpic.cn/mmbiz_jpg/B0OT7bl3qeH6X79DA4grDtmR9MYSCWzcaJnXUm70lia7Ot4h9L21OZFUzeNic40wicevPiajFuXlf3K65PNgiaPbtzg/0?wx_fmt=jpeg'\n",
    "defination = 'https://mmbiz.qpic.cn/mmbiz_jpg/B0OT7bl3qeH6X79DA4grDtmR9MYSCWzcxUoRJ1YErqXYmesqTaxPnpJ7icDbyLat6tDUlQIeHFpo0fEdOcXJtFw/0?wx_fmt=jpeg'\n",
    "css = \"\"\"<section data-width=\"100%\" style=\"display: inline-block; width: 100%; font-size: -3px; background-image: url(&quot;\"\"\" + defination + \"\"\"&quot;); background-size: cover; vertical-align: top; background-attachment: scroll; box-sizing: border-box; text-align: center; background-position: 0% 0%; background-repeat: no-repeat; max-width: 100% !important;\">\n",
    "<svg data-width=\"100%\" enable-background=\"new 0 0 1067 212\" space=\"preserve\" style=\"display: inline-block;outline: none;width: 100%;margin-top: -1px;border-width: initial;border-style: none;border-color: initial;vertical-align: top;background-position: 0% 0%;background-repeat: no-repeat;background-size: 100%;background-attachment: scroll;background-image: url(&quot;\"\"\" + word + \"\"\"&quot;);-webkit-tap-highlight-color: transparent;\" viewBox=\"0 0 1067 212\" x=\"0px\" xml=\"\" y=\"0px\">\n",
    "<set attributeName=\"visibility\" from=\"visible\" to=\"hidden\" begin=\"click+0.5\"></set>\n",
    "<animate attributeName=\"opacity\" begin=\"click\" dur=\"0.5s\" values=\"1;0\" restart=\"never\" fill=\"freeze\">\n",
    "</animate>\n",
    "<set attributeName=\"visibility\" from=\"hidden\" to=\"visible\" begin=\"click+3\"></set>\n",
    "<animate attributeName=\"opacity\" begin=\"click+3\" dur=\"0.3s\" values=\"0;1\" restart=\"never\" fill=\"freeze\">\n",
    "</animate>\n",
    "</svg></section>\"\"\"\n",
    "print(css)"
   ]
  },
  {
   "cell_type": "markdown",
   "metadata": {},
   "source": [
    "# 5. CSS editor"
   ]
  },
  {
   "cell_type": "code",
   "execution_count": 7,
   "metadata": {},
   "outputs": [],
   "source": [
    "app = {\n",
    "    \"appid\": \"wx72b0cc170a66fe7b\",\n",
    "    \"appsecret\": \"9e9ef69b54fd1688376dc82b130f4bf9\"\n",
    "}\n",
    "wx = WeChatClient(app.get(\"appid\"), app.get(\"appsecret\"))"
   ]
  },
  {
   "cell_type": "code",
   "execution_count": 36,
   "metadata": {},
   "outputs": [],
   "source": [
    "pic_title_link = \"D://FC/Title.JPG\"\n",
    "pic_bottom_link = \"D://FC/Bottom.JPG\"\n",
    "pic_title_url =  wx.material.add(\"image\",open(pic_title_link,\"rb\"))['url']\n",
    "pic_bottom_url =  wx.material.add(\"image\",open(pic_bottom_link,\"rb\"))['url']"
   ]
  },
  {
   "cell_type": "code",
   "execution_count": 35,
   "metadata": {
    "scrolled": true
   },
   "outputs": [],
   "source": [
    "pic_word_link = []\n",
    "pic_defin_link = []\n",
    "\n",
    "for i in range (1,101):\n",
    "    if i % 2 != 0:\n",
    "        pic = \"D://FC/幻灯片\" + str(i) + \".JPG\"\n",
    "        pic_word_link.append(pic)\n",
    "    else:\n",
    "        pic = \"D://FC/幻灯片\" + str(i) + \".JPG\"\n",
    "        pic_defin_link.append(pic)\n",
    "\n"
   ]
  },
  {
   "cell_type": "code",
   "execution_count": 21,
   "metadata": {},
   "outputs": [],
   "source": [
    "pic_word_url = []\n",
    "pic_defin_url = []\n",
    "\n",
    "for i in pic_word_link:\n",
    "    resp = wx.material.add(\"image\",open(i,\"rb\"))\n",
    "    pic_word_url.append(resp['url'])\n",
    "\n",
    "\n",
    "for i in pic_defin_link:\n",
    "    resp = wx.material.add(\"image\",open(i,\"rb\"))\n",
    "    pic_defin_url.append(resp['url'])\n",
    "    \n"
   ]
  },
  {
   "cell_type": "code",
   "execution_count": 29,
   "metadata": {
    "scrolled": true
   },
   "outputs": [],
   "source": [
    "pic_html = []\n",
    "\n",
    "\n",
    "pic_html.append(\"<img src=\" + pic_title_url + \"\"\"data-type=\"jpg\" style=\"float: left;\">\"\"\")\n",
    "\n",
    "\n",
    "\n",
    "for i in range(0,50):\n",
    "    css = \"\"\"<section data-width=\"100%\" style=\"display: inline-block; width: 100%; font-size: 0px; background-image: url(&quot;\"\"\" + pic_defin_url[i] + \"\"\"&quot;); background-size: cover; vertical-align: top; background-attachment: scroll; box-sizing: border-box; text-align: center; background-position: 0% 0%; background-repeat: no-repeat; max-width: 100% !important;\">\n",
    "<svg data-width=\"100%\" enable-background=\"new 0 0 1067 212\" space=\"preserve\" style=\"display: inline-block;outline: none;width: 100%;margin-top: -1px;border-width: initial;border-style: none;border-color: initial;vertical-align: top;background-position: 0% 0%;background-repeat: no-repeat;background-size: 100%;background-attachment: scroll;background-image: url(&quot;\"\"\" + pic_word_url[i] + \"\"\"&quot;);-webkit-tap-highlight-color: transparent;\" viewBox=\"0 0 1067 212\" x=\"0px\" xml=\"\" y=\"0px\">\n",
    "<set attributeName=\"visibility\" from=\"visible\" to=\"hidden\" begin=\"click+0.3\"></set>\n",
    "<animate attributeName=\"opacity\" begin=\"click\" dur=\"0.2s\" values=\"1;0\" restart=\"never\" fill=\"freeze\">\n",
    "</animate>\n",
    "<set attributeName=\"visibility\" from=\"hidden\" to=\"visible\" begin=\"click+3\"></set>\n",
    "<animate attributeName=\"opacity\" begin=\"click+3\" dur=\"0.2s\" values=\"0;1\" restart=\"never\" fill=\"freeze\">\n",
    "</animate>\n",
    "</svg>\n",
    "</section>\"\"\" \n",
    "    pic_html.append(css)\n",
    "    \n",
    "pic_html.append(\"<img src=\" + pic_bottom_url + \"\"\"data-type=\"jpg\" >\"\"\")"
   ]
  },
  {
   "cell_type": "code",
   "execution_count": 31,
   "metadata": {
    "scrolled": true
   },
   "outputs": [],
   "source": [
    "fileObject = open('Wechat HTML.txt', 'w',encoding='utf-8')\n",
    "for i in pic_html:\n",
    "    fileObject.write(i)\n",
    "    fileObject.write('\\n')\n",
    "fileObject.close()\n"
   ]
  },
  {
   "cell_type": "markdown",
   "metadata": {},
   "source": [
    "# Delete Images"
   ]
  },
  {
   "cell_type": "code",
   "execution_count": 46,
   "metadata": {},
   "outputs": [],
   "source": [
    "media_id_list = []\n",
    "resp = wx.material.batchget(media_type=\"image\",offset=0,count=20)\n",
    "for i in resp['item']:\n",
    "    media_id_list.append(i['media_id'])\n",
    "for i in media_id_list:\n",
    "    wx.material.delete(i)"
   ]
  },
  {
   "cell_type": "markdown",
   "metadata": {},
   "source": [
    "# 6. Similar words"
   ]
  },
  {
   "cell_type": "markdown",
   "metadata": {},
   "source": [
    "#### test"
   ]
  },
  {
   "cell_type": "code",
   "execution_count": 58,
   "metadata": {},
   "outputs": [
    {
     "name": "stderr",
     "output_type": "stream",
     "text": [
      "D:\\apps\\Anaconda\\lib\\site-packages\\IPython\\core\\interactiveshell.py:3063: DtypeWarning: Columns (11) have mixed types.Specify dtype option on import or set low_memory=False.\n",
      "  interactivity=interactivity, compiler=compiler, result=result)\n"
     ]
    }
   ],
   "source": [
    "df_lite = pd.read_csv(\"ecdict.csv\",encoding = 'utf-8')"
   ]
  },
  {
   "cell_type": "code",
   "execution_count": 67,
   "metadata": {},
   "outputs": [],
   "source": [
    "globe_word = []\n",
    "for i in df_lite['word']:\n",
    "    i = str(i)\n",
    "    lemma_word = lemma.get(i, reverse = True)\n",
    "    if lemma_word == None:\n",
    "        globe_word.append(i)\n",
    "    else:\n",
    "        globe_word.append(lemma_word)"
   ]
  },
  {
   "cell_type": "code",
   "execution_count": 71,
   "metadata": {
    "scrolled": false
   },
   "outputs": [
    {
     "data": {
      "text/plain": [
       "['buist',\n",
       " 'blust',\n",
       " 'baust',\n",
       " 'bst',\n",
       " 'bustin',\n",
       " 'bustee',\n",
       " 'bustad',\n",
       " 'bursty',\n",
       " 'bedust',\n",
       " 'wust',\n",
       " 'usts',\n",
       " 'ustr',\n",
       " 'ustc',\n",
       " 'usct',\n",
       " 'obst',\n",
       " 'just',\n",
       " 'iust',\n",
       " 'hust',\n",
       " 'fust',\n",
       " 'dbut']"
      ]
     },
     "execution_count": 71,
     "metadata": {},
     "output_type": "execute_result"
    }
   ],
   "source": [
    "difflib.get_close_matches('bust', globe_word,20,0.6)"
   ]
  },
  {
   "cell_type": "code",
   "execution_count": null,
   "metadata": {},
   "outputs": [],
   "source": [
    "csvFile = open(\"The Heart is a Lonely Hunter_VocabCount_v4.csv\", \"r\")\n",
    "reader = csv.reader(csvFile)\n",
    "match_word_list = []"
   ]
  },
  {
   "cell_type": "code",
   "execution_count": 34,
   "metadata": {
    "scrolled": true
   },
   "outputs": [
    {
     "data": {
      "text/plain": [
       "3402564"
      ]
     },
     "execution_count": 34,
     "metadata": {},
     "output_type": "execute_result"
    }
   ],
   "source": [
    "len(globe_word)"
   ]
  },
  {
   "cell_type": "code",
   "execution_count": null,
   "metadata": {},
   "outputs": [],
   "source": [
    "for i in reader:\n",
    "    match_word = difflib.get_close_matches(i[0], set(word_list),10,0.2)\n",
    "    match_word_list.append(match_word)   "
   ]
  },
  {
   "cell_type": "code",
   "execution_count": null,
   "metadata": {},
   "outputs": [],
   "source": [
    "with open(\"The Heart is a Lonely Hunter_VocabCount_v7.csv\",\"w\",newline = '') as csvfile:\n",
    "    writer = csv.writer(csvfile)\n",
    "    writer.writerows(match_word_list)"
   ]
  },
  {
   "cell_type": "code",
   "execution_count": 39,
   "metadata": {},
   "outputs": [
    {
     "data": {
      "text/plain": [
       "['prop', 'plop', 'pp', 'pulp', 'plup', 'happy']"
      ]
     },
     "execution_count": 39,
     "metadata": {},
     "output_type": "execute_result"
    }
   ],
   "source": [
    "difflib.get_close_matches('prop', ['plup','prop','happy','pp','plop','pulp'],10,0.2)"
   ]
  },
  {
   "cell_type": "code",
   "execution_count": 72,
   "metadata": {},
   "outputs": [
    {
     "data": {
      "text/plain": [
       "['h', 'a', 'p', 'p', 'y']"
      ]
     },
     "execution_count": 72,
     "metadata": {},
     "output_type": "execute_result"
    }
   ],
   "source": [
    "word = 'happy'\n",
    "word = list(word)\n",
    "for i in range(0,len(word)):\n",
    "    for j in df['word']:\n",
    "        for k in range(0,len(list(j))):\n",
    "            if word[i] == list(j)[k]:\n",
    "                i += 1\n",
    "                k\n",
    "                \n",
    "                      "
   ]
  },
  {
   "cell_type": "code",
   "execution_count": null,
   "metadata": {},
   "outputs": [],
   "source": []
  },
  {
   "cell_type": "markdown",
   "metadata": {},
   "source": [
    "# 8. StarDict"
   ]
  },
  {
   "cell_type": "code",
   "execution_count": null,
   "metadata": {},
   "outputs": [],
   "source": [
    "import stardict\n",
    "from stardict import LemmaDB\n",
    "lemma = LemmaDB()\n",
    "lemma.load('lemma.en.txt')"
   ]
  },
  {
   "cell_type": "code",
   "execution_count": null,
   "metadata": {},
   "outputs": [],
   "source": [
    "l = lemma.word_stem(\"hasn't\")\n",
    "print(l[0])"
   ]
  },
  {
   "cell_type": "markdown",
   "metadata": {},
   "source": [
    "# 9. wordlist 50 words"
   ]
  },
  {
   "cell_type": "code",
   "execution_count": null,
   "metadata": {},
   "outputs": [],
   "source": [
    "df = pd.read_csv(\"stardict.csv\",encoding = 'utf-8')"
   ]
  },
  {
   "cell_type": "code",
   "execution_count": null,
   "metadata": {},
   "outputs": [],
   "source": [
    "df.loc[df['word']=='abandon','tag'].to_string()"
   ]
  },
  {
   "cell_type": "code",
   "execution_count": null,
   "metadata": {},
   "outputs": [],
   "source": [
    "csvfile = open(\"The Heart is a Lonely Hunter_VocabCount_v4.csv\", \"r\")\n",
    "reader = csv.reader(csvfile)"
   ]
  },
  {
   "cell_type": "code",
   "execution_count": null,
   "metadata": {},
   "outputs": [],
   "source": [
    "word_category = []\n",
    "for i in reader:\n",
    "    category = re.findall(\"[a-z]+\\-?[a-z]+\", df.loc[df['word']== i[0] ,'tag'].to_string())\n",
    "    if i[0] in GMAT_list:\n",
    "        category.append('gmat')\n",
    "    word_category.append(category)"
   ]
  },
  {
   "cell_type": "code",
   "execution_count": null,
   "metadata": {},
   "outputs": [],
   "source": [
    "word_category"
   ]
  },
  {
   "cell_type": "code",
   "execution_count": null,
   "metadata": {},
   "outputs": [],
   "source": [
    "import json\n",
    "import pickle\n",
    "json_handle = open('PEPChuZhong7_1.json', 'rb')\n",
    "json_string = json_handle.read()\n",
    "json_dict = json.loads(json_string)\n",
    "type(json_dict)\n"
   ]
  },
  {
   "cell_type": "markdown",
   "metadata": {},
   "source": [
    "# 10. Remove Replicates"
   ]
  },
  {
   "cell_type": "code",
   "execution_count": 47,
   "metadata": {},
   "outputs": [],
   "source": [
    "master_word_list = []\n",
    "with open(\"HPmaster word list.txt\", 'r',encoding='utf-8') as file:\n",
    "    for i in file:\n",
    "        master_word_list.append(i.rstrip())\n",
    "master_word_set = set(master_word_list)\n",
    "master_word_list = list(master_word_set)"
   ]
  },
  {
   "cell_type": "code",
   "execution_count": 51,
   "metadata": {},
   "outputs": [],
   "source": [
    "HP7_word_clean = []\n",
    "\n",
    "csvFile = open(\"HP7vocabularycounts_v4.csv\", \"r\")\n",
    "reader = csv.reader(csvFile)\n",
    "for i in reader:\n",
    "    if i not in master_word_list:\n",
    "        HP7_word_clean.append(i)\n",
    "    else:\n",
    "        pass\n"
   ]
  },
  {
   "cell_type": "code",
   "execution_count": 56,
   "metadata": {},
   "outputs": [],
   "source": [
    "with open(\"HPVocabularycounts_v5.csv\",\"w\",newline = '') as csvfile:\n",
    "    writer = csv.writer(csvfile)\n",
    "    writer.writerows(HP7_word_clean)"
   ]
  },
  {
   "cell_type": "code",
   "execution_count": null,
   "metadata": {},
   "outputs": [],
   "source": []
  }
 ],
 "metadata": {
  "kernelspec": {
   "display_name": "Python 3",
   "language": "python",
   "name": "python3"
  },
  "language_info": {
   "codemirror_mode": {
    "name": "ipython",
    "version": 3
   },
   "file_extension": ".py",
   "mimetype": "text/x-python",
   "name": "python",
   "nbconvert_exporter": "python",
   "pygments_lexer": "ipython3",
   "version": "3.7.3"
  },
  "toc": {
   "base_numbering": 1,
   "nav_menu": {},
   "number_sections": true,
   "sideBar": false,
   "skip_h1_title": false,
   "title_cell": "Table of Contents",
   "title_sidebar": "Contents",
   "toc_cell": false,
   "toc_position": {
    "height": "492px",
    "left": "1560px",
    "top": "194px",
    "width": "286.99px"
   },
   "toc_section_display": true,
   "toc_window_display": true
  }
 },
 "nbformat": 4,
 "nbformat_minor": 4
}
