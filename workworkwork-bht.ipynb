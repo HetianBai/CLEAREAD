{
 "cells": [
  {
   "cell_type": "code",
   "execution_count": 1,
   "metadata": {},
   "outputs": [],
   "source": [
    "import re\n",
    "import string\n",
    "import pandas as pd\n",
    "import nltk\n",
    "from nltk.collocations import *\n",
    "from pattern.en import lemma\n",
    "import requests\n",
    "import json\n",
    "import time\n",
    "import hashlib\n",
    "import uuid\n",
    "import csv\n",
    "import phrasemachine\n",
    "import time\n",
    "from urllib.request import urlopen\n",
    "from bs4 import BeautifulSoup\n",
    "from urllib.request import Request\n",
    "import difflib\n",
    "from nltk.stem import WordNetLemmatizer "
   ]
  },
  {
   "cell_type": "markdown",
   "metadata": {},
   "source": [
    "# 1.Clean the text, lemma words"
   ]
  },
  {
   "cell_type": "code",
   "execution_count": 2,
   "metadata": {},
   "outputs": [],
   "source": [
    "with open('The Heart Is a Lonely Hunter - Carson McCullers.txt', 'r',encoding='utf-8') as file:\n",
    "    text = file.read().rstrip().lower()"
   ]
  },
  {
   "cell_type": "code",
   "execution_count": 3,
   "metadata": {
    "scrolled": true
   },
   "outputs": [],
   "source": [
    "# remove puntuation\n",
    "word_list = re.findall(\"[a-z]+\\-?\\'?[a-z]+\", text)"
   ]
  },
  {
   "cell_type": "code",
   "execution_count": null,
   "metadata": {},
   "outputs": [],
   "source": [
    "#Lemmatization\n",
    "lemma_word_list = []\n",
    "for i in range(0,len(word_list)):\n",
    "    word = lemma(word_list[i])\n",
    "    lemma_word_list.append(word)"
   ]
  },
  {
   "cell_type": "code",
   "execution_count": null,
   "metadata": {},
   "outputs": [],
   "source": [
    "CET4_list = []\n",
    "\n",
    "with open('CET-4_Vocab.txt','r',encoding='utf-8') as fhandle:\n",
    "    for line in fhandle:\n",
    "        if line.startswith(('a','b','c','d','e','f','g','h','i','j','k','l','m','n','o','p','q','r','s','t','u','v','w','x','y','z')):\n",
    "            word = re.findall('([a-z]+)',line)\n",
    "            CET4_list.append(word[0])\n",
    "        else:\n",
    "            continue"
   ]
  },
  {
   "cell_type": "code",
   "execution_count": null,
   "metadata": {},
   "outputs": [],
   "source": [
    "highschool_list = []\n",
    "\n",
    "with open('Highschool_Vocab.txt','r',encoding='utf-8') as fhandle:\n",
    "    for line in fhandle:\n",
    "        highschool_list.append(line.lower().rstrip())"
   ]
  },
  {
   "cell_type": "code",
   "execution_count": null,
   "metadata": {},
   "outputs": [],
   "source": [
    "elementary_list = []\n",
    "\n",
    "with open('Elementary_Vocab.txt','r',encoding='utf-8') as fhandle:\n",
    "    for line in fhandle:\n",
    "        highschool_list.append(line.lower().rstrip())"
   ]
  },
  {
   "cell_type": "code",
   "execution_count": null,
   "metadata": {},
   "outputs": [],
   "source": [
    "easy_word_list = set(CET4_list) | set(highschool_list) | set(elementary_list)\n",
    "easy_word_list = list(easy_word_list)\n"
   ]
  },
  {
   "cell_type": "code",
   "execution_count": null,
   "metadata": {},
   "outputs": [],
   "source": [
    "#Lemmatize easy word list\n",
    "lemma_easy_word_list = []\n",
    "for i in easy_word_list:\n",
    "    word = lemma(i)\n",
    "    lemma_easy_word_list.append(word)"
   ]
  },
  {
   "cell_type": "code",
   "execution_count": null,
   "metadata": {
    "scrolled": true
   },
   "outputs": [],
   "source": [
    "#select unfamiliar words\n",
    "raw_word_list = []\n",
    "for word in lemma_word_list:\n",
    "    if word not in lemma_easy_word_list:\n",
    "        raw_word_list.append(word)\n",
    "    else:\n",
    "        continue    "
   ]
  },
  {
   "cell_type": "code",
   "execution_count": null,
   "metadata": {},
   "outputs": [],
   "source": [
    "#clean '\n",
    "raw_word_clean_list = []\n",
    "for word in raw_word_list:\n",
    "    word_clean = re.findall(\"[a-z]+\\-?[a-z]+\", word)[0]\n",
    "    raw_word_clean_list.append(word_clean)\n",
    "\n",
    "    "
   ]
  },
  {
   "cell_type": "code",
   "execution_count": null,
   "metadata": {},
   "outputs": [],
   "source": [
    "#count the word and write a csv\n",
    "word_count = pd.value_counts(raw_word_clean_list)\n",
    "data = pd.DataFrame({'Vocabulary':word_count.index, 'counts':word_count.values})\n",
    "data.to_csv(\"vocabularycounts.csv\",index=False,header=True)"
   ]
  },
  {
   "cell_type": "code",
   "execution_count": null,
   "metadata": {},
   "outputs": [],
   "source": [
    "data"
   ]
  },
  {
   "cell_type": "markdown",
   "metadata": {},
   "source": [
    "# 2. Translation & Phonetics & Characteristic & Category"
   ]
  },
  {
   "cell_type": "markdown",
   "metadata": {},
   "source": [
    "#### 2.1 test"
   ]
  },
  {
   "cell_type": "code",
   "execution_count": null,
   "metadata": {
    "scrolled": true
   },
   "outputs": [],
   "source": [
    "app_id = '761150e6'\n",
    "app_key = '9c547ac3ff97fad8a7e366f8129d6a2c'\n",
    "\n",
    "word_id = 'better'\n",
    "strictMatch = 'false'\n",
    "\n",
    "url = 'https://od-api.oxforddictionaries.com:443/api/v2/entries/en-gb/' + word_id.lower() + '?strictMatch=' + strictMatch;\n",
    "\n",
    "r = requests.get(url, headers = {'app_id': app_id, 'app_key': app_key})\n",
    "pron = r.json()[\"results\"][0]['lexicalEntries'][0]['entries'][0]['pronunciations'][0]['phoneticSpelling']\n",
    "cate = r.json()[\"results\"][0]['lexicalEntries'][0]['lexicalCategory']['text']\n",
    "defin = r.json()[\"results\"][0]['lexicalEntries'][0]['entries'][0]['senses'][0]['definitions'][0]\n",
    "print(pron,cate,defin)"
   ]
  },
  {
   "cell_type": "code",
   "execution_count": null,
   "metadata": {},
   "outputs": [],
   "source": [
    "a = r.json()\n",
    "b = a[\"results\"][0]['lexicalEntries'][0]['entries'][0]['pronunciations'][0]['phoneticSpelling']\n"
   ]
  },
  {
   "cell_type": "code",
   "execution_count": null,
   "metadata": {},
   "outputs": [],
   "source": [
    "app_id = '5c864748'\n",
    "app_key = '11013df45a50b3d7960bdcb4fe77af01'\n",
    "\n",
    "language = 'en'\n",
    "word_id = 'better'\n",
    "strictMatch = 'false'\n",
    "\n",
    "url = 'https://od-api.oxforddictionaries.com:443/api/v2/entries/' + language + '/' + word_id.lower() + '?fields=' + fields + '&strictMatch=' + strictMatch;\n",
    "\n",
    "r = requests.get(url, headers = {'app_id': app_id, 'app_key': app_key})\n",
    "pron = r.json()\n",
    "pron"
   ]
  },
  {
   "cell_type": "code",
   "execution_count": null,
   "metadata": {},
   "outputs": [],
   "source": [
    "c = r.json()\n",
    "d = c[\"results\"][0]['lexicalEntries'][0]['lexicalCategory']['text']\n",
    "d"
   ]
  },
  {
   "cell_type": "code",
   "execution_count": null,
   "metadata": {},
   "outputs": [],
   "source": [
    "# Youdao translation for plan B\n",
    "youdao_url = 'https://openapi.youdao.com/api'  \n",
    "\n",
    "input_text = \"better\"\n",
    "translate_text = \"dream\"\n",
    "time_curtime = int(time.time())   # 秒级时间戳获取\n",
    "app_id = \"15a1da979e8d68c0\"   # 应用id\n",
    "uu_id = uuid.uuid4()   # 随机生成的uuid数，为了每次都生成一个不重复的数。\n",
    "app_key = \"SSfsA7MhSvqvG79kKVzGx875O2ukapUW\"   # 应用密钥\n",
    "\n",
    "sign = hashlib.sha256((app_id + input_text + str(uu_id) + str(time_curtime) + app_key).encode('utf-8')).hexdigest()   # sign生成\n",
    "\n",
    "\n",
    "data = {\n",
    "    'q':translate_text,   # 翻译文本\n",
    "    'from':\"en\",   # 源语言\n",
    "    'to':\"zh-CHS\",   # 翻译语言\n",
    "    'appKey':app_id,   # 应用id\n",
    "    'salt':uu_id,   # 随机生产的uuid码\n",
    "    'sign':sign,   # 签名\n",
    "    'signType':\"v3\",   # 签名类型，固定值\n",
    "    'curtime':time_curtime,   # 秒级时间戳\n",
    "}\n",
    "\n",
    "\n",
    "\n",
    "r = requests.get(youdao_url, params = data).json()\n",
    "r"
   ]
  },
  {
   "cell_type": "markdown",
   "metadata": {},
   "source": [
    "#### 2.2 the full version"
   ]
  },
  {
   "cell_type": "code",
   "execution_count": null,
   "metadata": {},
   "outputs": [],
   "source": [
    "csvFile = open(\"The Heart is a Lonely Hunter_VocabCount_v4.csv\", \"r\")\n",
    "reader = csv.reader(csvFile)"
   ]
  },
  {
   "cell_type": "code",
   "execution_count": null,
   "metadata": {},
   "outputs": [],
   "source": [
    "# API id and key\n",
    "app_id = '761150e6'\n",
    "app_key = '9c547ac3ff97fad8a7e366f8129d6a2c'"
   ]
  },
  {
   "cell_type": "code",
   "execution_count": null,
   "metadata": {},
   "outputs": [],
   "source": [
    "word_pron_char_defin_cate = []    "
   ]
  },
  {
   "cell_type": "code",
   "execution_count": null,
   "metadata": {},
   "outputs": [],
   "source": [
    "for i in reader:\n",
    "    category = re.findall(\"[a-z]+\\-?[a-z]+\", df.loc[df['word']== i[0] ,'tag'].to_string())\n",
    "    if i[0] in GMAT_list:\n",
    "        category.append('gmat')\n",
    "    cate = \",\".join(category)\n",
    "    \n",
    "    try:\n",
    "    \n",
    "        word_id = i[0]\n",
    "        strictMatch = 'false'\n",
    "\n",
    "        url = 'https://od-api.oxforddictionaries.com:443/api/v2/entries/en-gb/' + word_id.lower() + '?strictMatch=' + strictMatch;\n",
    "\n",
    "        r = requests.get(url, headers = {'app_id': app_id, 'app_key': app_key})\n",
    "        pron = r.json()[\"results\"][0]['lexicalEntries'][0]['entries'][0]['pronunciations'][0]['phoneticSpelling']\n",
    "        char = r.json()[\"results\"][0]['lexicalEntries'][0]['lexicalCategory']['text']\n",
    "        defin = r.json()[\"results\"][0]['lexicalEntries'][0]['entries'][0]['senses'][0]['definitions'][0]\n",
    "        word_pron_char_defin_cate.append([i[0],'/'+pron+'/',char,defin,cate])\n",
    "        time.sleep(30)\n",
    "    except KeyError:\n",
    "        pass\n",
    "    continue"
   ]
  },
  {
   "cell_type": "code",
   "execution_count": null,
   "metadata": {},
   "outputs": [],
   "source": [
    "for i in word_pron_char_defin_cate:\n",
    "    if i[2] == 'Noun':\n",
    "        i[2] = 'n.'\n",
    "    if i[2] == 'Adjective':\n",
    "        i[2] = 'adj.'\n",
    "    if i[2] == 'Verb':\n",
    "        i[2] = 'v.'\n",
    "    if i[2] == 'Adverb':\n",
    "        i[2] = 'adv.'\n"
   ]
  },
  {
   "cell_type": "code",
   "execution_count": null,
   "metadata": {},
   "outputs": [],
   "source": [
    "fileObject = open('The Heart is a Lonely Hunter_VocabCount_v5.txt', 'w',encoding='utf-8')\n",
    "for i in word_pron_char_defin_cate:\n",
    "    for j in i:\n",
    "        fileObject.write(j)\n",
    "        fileObject.write('|')\n",
    "    fileObject.write('\\n')\n",
    "fileObject.close()"
   ]
  },
  {
   "cell_type": "markdown",
   "metadata": {},
   "source": [
    "# 3. Find phrases in text"
   ]
  },
  {
   "cell_type": "markdown",
   "metadata": {},
   "source": [
    "#### 3.1 test"
   ]
  },
  {
   "cell_type": "code",
   "execution_count": null,
   "metadata": {},
   "outputs": [],
   "source": [
    "bigram_measures = nltk.collocations.BigramAssocMeasures()\n",
    "trigram_measures = nltk.collocations.TrigramAssocMeasures()\n",
    "finder = BigramCollocationFinder.from_words(word_list)\n",
    "scored = finder.score_ngrams(bigram_measures.raw_freq)\n",
    "sorted(bigram for bigram, score in scored)"
   ]
  },
  {
   "cell_type": "code",
   "execution_count": null,
   "metadata": {},
   "outputs": [],
   "source": [
    "text = \"The Omnibus Crime Control and Safe Streets Act of 1968 was signed into law by President Lyndon B. Johnson.so as James\"\n",
    "phrasemachine.get_phrases(text)"
   ]
  },
  {
   "cell_type": "code",
   "execution_count": null,
   "metadata": {},
   "outputs": [],
   "source": [
    "phrase_list=[['bring','out'],['look','in','the','eye'],['dream','of'],['want','to'],['had','it','in']]\n",
    "raw_phrase_list = []"
   ]
  },
  {
   "cell_type": "markdown",
   "metadata": {},
   "source": [
    "#### 3.2 full version"
   ]
  },
  {
   "cell_type": "code",
   "execution_count": 43,
   "metadata": {},
   "outputs": [],
   "source": [
    "# Pharase with space\n",
    "csvFile = open(\"Phrase Book With Space.csv\", \"r\",encoding = 'utf-8-sig')\n",
    "reader = csv.reader(csvFile)\n",
    "phrase = []\n",
    "phrase_with_space_list = []\n",
    "for i in reader:\n",
    "    phrase.append(i)\n",
    "for i in phrase:\n",
    "    i = [j for j in i if j !=  '']\n",
    "    phrase_with_space_list.append(i)"
   ]
  },
  {
   "cell_type": "code",
   "execution_count": 27,
   "metadata": {},
   "outputs": [],
   "source": [
    "# Pharase without space\n",
    "csvfile = open(\"Phrase Book No Space_v2.csv\", \"r\",encoding = 'utf-8-sig')\n",
    "reader = csv.reader(csvfile)\n",
    "phrase = []\n",
    "phrase_no_space_list = []\n",
    "for i in reader:\n",
    "    phrase.append(i)\n",
    "for i in phrase:\n",
    "    i = [j for j in i if j !=  '']\n",
    "    phrase_no_space_list.append(i)"
   ]
  },
  {
   "cell_type": "code",
   "execution_count": 18,
   "metadata": {},
   "outputs": [],
   "source": [
    "# select pharses appeared with spaces\n",
    "raw_phrase_with_space_list = []\n",
    "\n",
    "for i in range(0,len(word_list)):\n",
    "    for j in phrase_with_space_list:\n",
    "        try:\n",
    "            if word_list[i] == j[0] and j[-1] in word_list[i+1:i+6]:\n",
    "                if j[-2] in word_list[i+1:i+5]:\n",
    "                    raw_phrase_with_space_list.append(j)\n",
    "                else:\n",
    "                    continue                \n",
    "            else:\n",
    "                continue\n",
    "        except IndexError:\n",
    "            pass\n",
    "        continue\n",
    "  "
   ]
  },
  {
   "cell_type": "code",
   "execution_count": 33,
   "metadata": {},
   "outputs": [],
   "source": [
    "# select pharses appeared without spaces\n",
    "raw_phrase_no_space_list = []\n",
    "correct = 0\n",
    "for i in range(0,len(word_list)):\n",
    "    for j in phrase_no_space_list:\n",
    "        try:\n",
    "            length = len(j)\n",
    "            for h in range(0,length):\n",
    "                if word_list[i+h] == j[h]:\n",
    "                    correct += 1\n",
    "            if correct == length:\n",
    "                raw_phrase_no_space_list.append(j)\n",
    "                correct = 0\n",
    "            else:\n",
    "                correct = 0\n",
    "        except IndexError:\n",
    "            pass\n",
    "        continue\n",
    "            \n",
    "\n",
    "        \n",
    "            "
   ]
  },
  {
   "cell_type": "code",
   "execution_count": 41,
   "metadata": {},
   "outputs": [],
   "source": [
    "for i in raw_phrase_no_space_list:\n",
    "    raw_phrase_with_space_list.append(i)"
   ]
  },
  {
   "cell_type": "code",
   "execution_count": 42,
   "metadata": {},
   "outputs": [],
   "source": [
    "phrase_count = pd.value_counts(raw_phrase_with_space_list)\n",
    "data = pd.DataFrame({'Phrase':phrase_count.index, 'counts':phrase_count.values})\n",
    "data.to_csv(\"phrasecounts.csv\",index=False,header=True)"
   ]
  },
  {
   "cell_type": "markdown",
   "metadata": {},
   "source": [
    "# 4. Scrape Booklist"
   ]
  },
  {
   "cell_type": "markdown",
   "metadata": {},
   "source": [
    "#### bookerprize"
   ]
  },
  {
   "cell_type": "code",
   "execution_count": null,
   "metadata": {},
   "outputs": [],
   "source": [
    "url = []\n",
    "for i in range(2010,2020):\n",
    "    url.append('https://thebookerprizes.com/fiction/backlist/'+str(i))"
   ]
  },
  {
   "cell_type": "code",
   "execution_count": null,
   "metadata": {},
   "outputs": [],
   "source": [
    "name_author_list = []\n",
    "for i in url:\n",
    "    hdr = {'User-Agent': 'Mozilla/5.0'}\n",
    "    req = Request(i,headers=hdr)\n",
    "    html= urlopen(req)\n",
    "    soup = BeautifulSoup(html, 'html.parser')\n",
    "    shortlist = soup.find('div',class_=\"flexslider bookCarousel\")\n",
    "    name_author=shortlist.find_all('h4',class_=\"title\")\n",
    "    for k in name_author:\n",
    "        try:\n",
    "            name = k.get_text()\n",
    "            author = re.findall('\\-by\\-(\\S+)',k.a['href'])[0].replace('-',' ')\n",
    "            name_author_list.append([name,author])\n",
    "        except IndexError:\n",
    "            pass\n",
    "        continue"
   ]
  },
  {
   "cell_type": "code",
   "execution_count": null,
   "metadata": {
    "scrolled": true
   },
   "outputs": [],
   "source": [
    "name_author_list"
   ]
  },
  {
   "cell_type": "code",
   "execution_count": null,
   "metadata": {
    "scrolled": true
   },
   "outputs": [],
   "source": [
    "word = 'https://mmbiz.qpic.cn/mmbiz_jpg/B0OT7bl3qeH6X79DA4grDtmR9MYSCWzcaJnXUm70lia7Ot4h9L21OZFUzeNic40wicevPiajFuXlf3K65PNgiaPbtzg/0?wx_fmt=jpeg'\n",
    "defination = 'https://mmbiz.qpic.cn/mmbiz_jpg/B0OT7bl3qeH6X79DA4grDtmR9MYSCWzcxUoRJ1YErqXYmesqTaxPnpJ7icDbyLat6tDUlQIeHFpo0fEdOcXJtFw/0?wx_fmt=jpeg'\n",
    "css = \"\"\"<section data-width=\"100%\" style=\"display: inline-block; width: 100%; font-size: -3px; background-image: url(&quot;\"\"\" + defination + \"\"\"&quot;); background-size: cover; vertical-align: top; background-attachment: scroll; box-sizing: border-box; text-align: center; background-position: 0% 0%; background-repeat: no-repeat; max-width: 100% !important;\">\n",
    "<svg data-width=\"100%\" enable-background=\"new 0 0 1067 212\" space=\"preserve\" style=\"display: inline-block;outline: none;width: 100%;margin-top: -1px;border-width: initial;border-style: none;border-color: initial;vertical-align: top;background-position: 0% 0%;background-repeat: no-repeat;background-size: 100%;background-attachment: scroll;background-image: url(&quot;\"\"\" + word + \"\"\"&quot;);-webkit-tap-highlight-color: transparent;\" viewBox=\"0 0 1067 212\" x=\"0px\" xml=\"\" y=\"0px\">\n",
    "<set attributeName=\"visibility\" from=\"visible\" to=\"hidden\" begin=\"click+0.5\"></set>\n",
    "<animate attributeName=\"opacity\" begin=\"click\" dur=\"0.5s\" values=\"1;0\" restart=\"never\" fill=\"freeze\">\n",
    "</animate>\n",
    "<set attributeName=\"visibility\" from=\"hidden\" to=\"visible\" begin=\"click+3\"></set>\n",
    "<animate attributeName=\"opacity\" begin=\"click+3\" dur=\"0.3s\" values=\"0;1\" restart=\"never\" fill=\"freeze\">\n",
    "</animate>\n",
    "</svg></section>\"\"\"\n",
    "print(css)"
   ]
  },
  {
   "cell_type": "markdown",
   "metadata": {},
   "source": [
    "# 5. CSS editor"
   ]
  },
  {
   "cell_type": "code",
   "execution_count": null,
   "metadata": {},
   "outputs": [],
   "source": [
    "url = 'https://mp.weixin.qq.com/cgi-bin/filepage?type=2&count=12&begin=60&group_id=1&view=1&token=1151994297&lang=zh_CN'\n",
    "html= urlopen(url)\n",
    "soup = BeautifulSoup(html, 'html.parser')"
   ]
  },
  {
   "cell_type": "code",
   "execution_count": null,
   "metadata": {},
   "outputs": [],
   "source": [
    "pic = soup.find_all('div',class_ = \"weui-desktop-media__list-wrp\")"
   ]
  },
  {
   "cell_type": "code",
   "execution_count": null,
   "metadata": {},
   "outputs": [],
   "source": [
    "soup"
   ]
  },
  {
   "cell_type": "code",
   "execution_count": null,
   "metadata": {},
   "outputs": [],
   "source": [
    "json = soup.find_all('script')[10]"
   ]
  },
  {
   "cell_type": "code",
   "execution_count": null,
   "metadata": {},
   "outputs": [],
   "source": [
    "a = json.get_text()\n",
    "fileObject = open('wechat.txt', 'w',encoding='utf-8')\n",
    "fileObject.write(a)\n",
    "fileObject.close()"
   ]
  },
  {
   "cell_type": "code",
   "execution_count": null,
   "metadata": {},
   "outputs": [],
   "source": [
    "word = ['https://mmbiz.qpic.cn/mmbiz_jpg/B0OT7bl3qeH6X79DA4grDtmR9MYSCWzc3QUBMXNvQQsQoRjxU6xmYqV7OLH7CylgWsE73cea7YfAOVdJ1ib2JPA/0?wx_fmt=jpeg','https://mmbiz.qpic.cn/mmbiz_jpg/B0OT7bl3qeH6X79DA4grDtmR9MYSCWzcoRsMRo9U9bXFoM5yhyyvcfcJatZQINibBqTEBobkeqp4v5Zbzciav8Eg/0?wx_fmt=jpeg','https://mmbiz.qpic.cn/mmbiz_jpg/B0OT7bl3qeH6X79DA4grDtmR9MYSCWzciczHtTAyiabKrJOpOpBsgQXW8jZ8yCh6BzedrOqfqBcFQnoYWWZh5iagw/0?wx_fmt=jpeg','https://mmbiz.qpic.cn/mmbiz_jpg/B0OT7bl3qeH6X79DA4grDtmR9MYSCWzc9EXBvk84NJT3iaKNhAHW111MIbfdaA5ytghGHfbYqFosGVNkGereyDQ/0?wx_fmt=jpeg','https://mmbiz.qpic.cn/mmbiz_jpg/B0OT7bl3qeH6X79DA4grDtmR9MYSCWzcUHSkglkhq77XkAYm02RXEN0mH01G4tNBiaxbvHVzCALWf7NgEgVxRbA/0?wx_fmt=jpeg','https://mmbiz.qpic.cn/mmbiz_jpg/B0OT7bl3qeH6X79DA4grDtmR9MYSCWzcVTFobGcatIqTTicWmSwx7NpPufC5wQKeFwcQCKJL3FspprohZD4euxw/0?wx_fmt=jpeg','https://mmbiz.qpic.cn/mmbiz_jpg/B0OT7bl3qeH6X79DA4grDtmR9MYSCWzcR8FbRLmJQwhkqySodvbiaNoicc5oib54dLY5HnTIAxHfHd6EnOMISgThw/0?wx_fmt=jpeg','https://mmbiz.qpic.cn/mmbiz_jpg/B0OT7bl3qeH6X79DA4grDtmR9MYSCWzczBNnA8m1DCElHibHJKhTWPP6yEkgT4WngjhJZiapwFfOmzNUZkrpicppQ/0?wx_fmt=jpeg','https://mmbiz.qpic.cn/mmbiz_jpg/B0OT7bl3qeH6X79DA4grDtmR9MYSCWzca8ueIPtubKPtQxdXcJDHn1jiaOLNBHT3tXwJJDXeARKbMW1xSMwT6SQ/0?wx_fmt=jpeg','https://mmbiz.qpic.cn/mmbiz_jpg/B0OT7bl3qeH6X79DA4grDtmR9MYSCWzcKSicwUUq4QHricCn2PPKvhwx2DRxfEE4dUxxFLcdEzK1fzu1OFwibNmhg/0?wx_fmt=jpeg','https://mmbiz.qpic.cn/mmbiz_jpg/B0OT7bl3qeH6X79DA4grDtmR9MYSCWzch3O59Z09kPr7wG4ibo3G3IFQmlJlcA6bibS1JIemPsWLCdgpPksmUJVA/0?wx_fmt=jpeg','https://mmbiz.qpic.cn/mmbiz_jpg/B0OT7bl3qeH6X79DA4grDtmR9MYSCWzcULSKL9I2ecEAuXx6agXZHgN8Ymxc5QGF7Ez31aRJImNhQYGCajvfEw/0?wx_fmt=jpeg','https://mmbiz.qpic.cn/mmbiz_jpg/B0OT7bl3qeH6X79DA4grDtmR9MYSCWzcqCpTFSOJqe29c2V8bG0nug38ic16XDsLgCsgAPzWrC6raaTtmjEyO6Q/0?wx_fmt=jpeg','https://mmbiz.qpic.cn/mmbiz_jpg/B0OT7bl3qeH6X79DA4grDtmR9MYSCWzc4P8RaKeZvAX8XDF7rhAUTCX4sH9kaVyVpteN7jLQwRuvDX6Jt7jpLw/0?wx_fmt=jpeg','https://mmbiz.qpic.cn/mmbiz_jpg/B0OT7bl3qeH6X79DA4grDtmR9MYSCWzc4jFfucS2ASnia2GnqYMhycqibWeElt0yINo0HU4XsWxM1ASwD80L3UzA/0?wx_fmt=jpeg','https://mmbiz.qpic.cn/mmbiz_jpg/B0OT7bl3qeH6X79DA4grDtmR9MYSCWzc81zeDhfpUVLD2icF8NxXh7wBRlPMEDiananOQiatyUzCpSnyvGWPdicScQ/0?wx_fmt=jpeg','https://mmbiz.qpic.cn/mmbiz_jpg/B0OT7bl3qeH6X79DA4grDtmR9MYSCWzcBEgR4iaNh8RbuMWrRL3E8t8yX4Jk4etfg74PQm6OVwowSRhYR07UTjw/0?wx_fmt=jpeg','https://mmbiz.qpic.cn/mmbiz_jpg/B0OT7bl3qeH6X79DA4grDtmR9MYSCWzcuz8le31CVjmHTk4xicCydDmkic6W3Ey0IGtbHS6N04riaKndMwRzOQINA/0?wx_fmt=jpeg','https://mmbiz.qpic.cn/mmbiz_jpg/B0OT7bl3qeH6X79DA4grDtmR9MYSCWzcuI6RyqmfOrPY9DAXH20Nsic9fzjITGQl821lOXz3WuClg1D5xbZmaNw/0?wx_fmt=jpeg','https://mmbiz.qpic.cn/mmbiz_jpg/B0OT7bl3qeH6X79DA4grDtmR9MYSCWzcY9I2fjHl2GTBvZhzaG9bI2uiccIGPKMicoKs7ia8Fs3b3fVA1zYFQ6Dyw/0?wx_fmt=jpeg','https://mmbiz.qpic.cn/mmbiz_jpg/B0OT7bl3qeH6X79DA4grDtmR9MYSCWzcqaCO8gKpeiaPpTJDFoqtPcq4S0TNOyjRkY1ZViahPq9ZsANr5wHHaPyw/0?wx_fmt=jpeg','https://mmbiz.qpic.cn/mmbiz_jpg/B0OT7bl3qeH6X79DA4grDtmR9MYSCWzccqCmhhLe1082mbvHhtXPkdTfwiaNSgfApjwka1A0oTicyicFib0hO3L0eQ/0?wx_fmt=jpeg','https://mmbiz.qpic.cn/mmbiz_jpg/B0OT7bl3qeH6X79DA4grDtmR9MYSCWzcEicSJv2ynIKYX5J6ib5fqCjuNicIVeuGMAvkylUBzeiamLXbAx1ZboJj5A/0?wx_fmt=jpeg','https://mmbiz.qpic.cn/mmbiz_jpg/B0OT7bl3qeH6X79DA4grDtmR9MYSCWzcn8EUreScs5NPmZ7kkEwVV9zgpicoWibf4WNzplPFiapkloFNH5xWvwbeA/0?wx_fmt=jpeg','https://mmbiz.qpic.cn/mmbiz_jpg/B0OT7bl3qeH6X79DA4grDtmR9MYSCWzcs89lmBficmVHnvxibDTylMcOW6tyWuxnJctywOvwtHoDiafxyBSg8yFzQ/0?wx_fmt=jpeg','https://mmbiz.qpic.cn/mmbiz_jpg/B0OT7bl3qeH6X79DA4grDtmR9MYSCWzc37XkHWWjbJWhy4pqu7VSlqB2fkut6pfnn1dFuNoDthmygBhBj1Xt7g/0?wx_fmt=jpeg','https://mmbiz.qpic.cn/mmbiz_jpg/B0OT7bl3qeH6X79DA4grDtmR9MYSCWzcg00gw7domajRIggMmic27pqpcdquMouK3g1uPibIOibLgmEEBMgopKDRQ/0?wx_fmt=jpeg','https://mmbiz.qpic.cn/mmbiz_jpg/B0OT7bl3qeH6X79DA4grDtmR9MYSCWzcdnLnut0vBN3wf3PJ7fDWyS3IRjXHRWauQuGroxG1awwRWOINb03Jrg/0?wx_fmt=jpeg','https://mmbiz.qpic.cn/mmbiz_jpg/B0OT7bl3qeH6X79DA4grDtmR9MYSCWzcO0mSVURtkGd9TINjWs4mnZeQA0iciaL6Ink9JbbvcPrFgbbPZ5PEPp5w/0?wx_fmt=jpeg','https://mmbiz.qpic.cn/mmbiz_jpg/B0OT7bl3qeH6X79DA4grDtmR9MYSCWzcxkAibFDDDQrFtkDvUePUuicvBJcby7q7uWcIibgUCLbdyl5Gjla8WnRrw/0?wx_fmt=jpeg','https://mmbiz.qpic.cn/mmbiz_jpg/B0OT7bl3qeH6X79DA4grDtmR9MYSCWzczWrx7rkHJnBomsEhquRwbJLwqiaxeoM1vg8QSFVMf68UIL0G3iaUu8IA/0?wx_fmt=jpeg','https://mmbiz.qpic.cn/mmbiz_jpg/B0OT7bl3qeH6X79DA4grDtmR9MYSCWzcrygaNeLkGa8Nt5CQ4vI0SOKawIB1Ap7IAOicpticITPw4ouZicwqiaHZxg/0?wx_fmt=jpeg','https://mmbiz.qpic.cn/mmbiz_jpg/B0OT7bl3qeH6X79DA4grDtmR9MYSCWzcLsYZeFMVwLg4Ixmibcf2ZQuWK5iccfcSGJ3efqUyXCr9IFRxxVYrgdAw/0?wx_fmt=jpeg','https://mmbiz.qpic.cn/mmbiz_jpg/B0OT7bl3qeH6X79DA4grDtmR9MYSCWzcs6V6kMw9rTUaA9cWiaJjcZJtjOwtnn84tXicelB1UMBc2xml9Gwmw37g/0?wx_fmt=jpeg','https://mmbiz.qpic.cn/mmbiz_jpg/B0OT7bl3qeH6X79DA4grDtmR9MYSCWzccZZdwnRtibTRnhB0nF1qWNU0oXIRQiawhPo7S3RMPkGCunADMZSNm2QQ/0?wx_fmt=jpeg','https://mmbiz.qpic.cn/mmbiz_jpg/B0OT7bl3qeH6X79DA4grDtmR9MYSCWzcSic5kaCx7133cVY5aEuV6icJ0bqsKjnBHSe7icQ4dzKjNf2rFQnOhogibA/0?wx_fmt=jpeg','https://mmbiz.qpic.cn/mmbiz_jpg/B0OT7bl3qeH6X79DA4grDtmR9MYSCWzcLSWUxymYicY7KpvT4r4gLSBtiaqiaK7t4MFZtjmIUThLsdIwrjEM3CAgg/0?wx_fmt=jpeg','https://mmbiz.qpic.cn/mmbiz_jpg/B0OT7bl3qeH6X79DA4grDtmR9MYSCWzcA6kP85WrcBYiasARIp31sIBLkz6ianyxrUNjM4gMfph2XicHkOaUiaPazw/0?wx_fmt=jpeg','https://mmbiz.qpic.cn/mmbiz_jpg/B0OT7bl3qeH6X79DA4grDtmR9MYSCWzcY0HcDNhdtlOnWaLpVYticPhVzI0IfqkYlxbtmpk3icprqcmMIHSKbAqg/0?wx_fmt=jpeg','https://mmbiz.qpic.cn/mmbiz_jpg/B0OT7bl3qeH6X79DA4grDtmR9MYSCWzcdnrjs49VtwbLUo67sPxnMflsuQzHjPzU0CmcmluyE4NwMHcMp3pW2Q/0?wx_fmt=jpeg','https://mmbiz.qpic.cn/mmbiz_jpg/B0OT7bl3qeH6X79DA4grDtmR9MYSCWzcFzOiay1IXma7HltPHqz2vC6icIfgDSSXcXGBfpibSu6q4Xnvqlr8rVHHA/0?wx_fmt=jpeg','https://mmbiz.qpic.cn/mmbiz_jpg/B0OT7bl3qeH6X79DA4grDtmR9MYSCWzcN0supfkBqhQvLiboVnv61YUaUcARt4ZRBqaYLTNiaqbfibAsKpGJwzgYw/0?wx_fmt=jpeg','https://mmbiz.qpic.cn/mmbiz_jpg/B0OT7bl3qeH6X79DA4grDtmR9MYSCWzcBsgT2iamsfJ3pLo32suyVl92gibBWTba5LnIibyYpzfOR9Kmvurodarnw/0?wx_fmt=jpeg','https://mmbiz.qpic.cn/mmbiz_jpg/B0OT7bl3qeH6X79DA4grDtmR9MYSCWzcempTGtN1dicxJJkibg0ibWrAuSBaCmAu98gscU3RxoYgK2qrO5XaXE7Tw/0?wx_fmt=jpeg','https://mmbiz.qpic.cn/mmbiz_jpg/B0OT7bl3qeH6X79DA4grDtmR9MYSCWzcbO0csKBJjsbEJEkLUjz9hKn6vicHtJSsvYUNfcgOemIJju9WQfgxibYg/0?wx_fmt=jpeg','https://mmbiz.qpic.cn/mmbiz_jpg/B0OT7bl3qeH6X79DA4grDtmR9MYSCWzcU3PheZ8MfusdxpEicicyfyWX0sScPt25cWsTUaXcMBoiaAzEEl9sCrGBw/0?wx_fmt=jpeg','https://mmbiz.qpic.cn/mmbiz_jpg/B0OT7bl3qeH6X79DA4grDtmR9MYSCWzcYe0HIlrP3wxicyyoZXeyVmkhaYicNibPbrTjQ9j0oJZnIfiaxYzbVU17KQ/0?wx_fmt=jpeg','https://mmbiz.qpic.cn/mmbiz_jpg/B0OT7bl3qeH6X79DA4grDtmR9MYSCWzcAzQ8DpvS0EM9XUibEVQ5nPkeLveibDo7AMsVvYB1nWgQeJibbtfCh78pQ/0?wx_fmt=jpeg','https://mmbiz.qpic.cn/mmbiz_jpg/B0OT7bl3qeH6X79DA4grDtmR9MYSCWzcalIxDPRasBYqhPwqWVZMktNHN0Wvhnamumknt3ic1tGEiacSI0QqjnHw/0?wx_fmt=jpeg','https://mmbiz.qpic.cn/mmbiz_jpg/B0OT7bl3qeH6X79DA4grDtmR9MYSCWzcrpBwZ9wU7TeSJOkP6rBxVUEYyCmeBnL0icBstMCrKnQhtGIqnnqfJoA/0?wx_fmt=jpeg','https://mmbiz.qpic.cn/mmbiz_jpg/B0OT7bl3qeH6X79DA4grDtmR9MYSCWzcTCO4kHwNqVDbHVR40ayEoqhL9ZvPBvkdic4V6wd5czhaFJ7I4FibvNuA/0?wx_fmt=jpeg']"
   ]
  },
  {
   "cell_type": "code",
   "execution_count": null,
   "metadata": {},
   "outputs": [],
   "source": [
    "definition = ['https://mmbiz.qpic.cn/mmbiz_jpg/B0OT7bl3qeH6X79DA4grDtmR9MYSCWzcS7yibsjaNibbzgR3GGg9Ty440hbOqqmb1CFRvwJWJOflriaONneqcFOFg/0?wx_fmt=jpeg','https://mmbiz.qpic.cn/mmbiz_jpg/B0OT7bl3qeH6X79DA4grDtmR9MYSCWzc8tCm8IjuJIBLj5RHJiarXTgAJRYBBUldBtbiaasaxcxIAMz8MsoiaFL9w/0?wx_fmt=jpeg','https://mmbiz.qpic.cn/mmbiz_jpg/B0OT7bl3qeH6X79DA4grDtmR9MYSCWzcVdpTB2qR8w9zeLicO3e6QBGDRCsch1nKlRxxjk4UQRwKpB3nSlUhlAQ/0?wx_fmt=jpeg','https://mmbiz.qpic.cn/mmbiz_jpg/B0OT7bl3qeH6X79DA4grDtmR9MYSCWzcfTkUBkjicibPNVrU0KvC9mlBqsoQHlPI61J6dnpqCbicyRUic3hiaeuhmTw/0?wx_fmt=jpeg','https://mmbiz.qpic.cn/mmbiz_jpg/B0OT7bl3qeH6X79DA4grDtmR9MYSCWzcYhbGmOHwvOlCf34aFib8lF9HQPJNkjYZlzjPn8TQbWI5IC5rMpRUA2A/0?wx_fmt=jpeg','https://mmbiz.qpic.cn/mmbiz_jpg/B0OT7bl3qeH6X79DA4grDtmR9MYSCWzcl8YvrF0wI73A73Xs87Rgkh0kL0kgjicWIMOwPia3wXF1hR7nkddm0O8Q/0?wx_fmt=jpeg','https://mmbiz.qpic.cn/mmbiz_jpg/B0OT7bl3qeH6X79DA4grDtmR9MYSCWzcZ1SYfUcEy5UwUAsrw9twjTS1PHWQSWsBZia2BiaavUDCiajsgbmu4uSIw/0?wx_fmt=jpeg','https://mmbiz.qpic.cn/mmbiz_jpg/B0OT7bl3qeH6X79DA4grDtmR9MYSCWzcrg7VRqicicQTVj9yQGCDR6AesCmnCib2668VW4y13WUKNOeoT2ccngUtw/0?wx_fmt=jpeg','https://mmbiz.qpic.cn/mmbiz_jpg/B0OT7bl3qeH6X79DA4grDtmR9MYSCWzckzQaib3qGPngTMU0JtaBMJMvEicThhCqO9bSgXfhVtLZUdFvyCgOHoBQ/0?wx_fmt=jpeg','https://mmbiz.qpic.cn/mmbiz_jpg/B0OT7bl3qeH6X79DA4grDtmR9MYSCWzc3gBESlFPdujgt6vbfibolS3u19HXLErDm9jBvmggqXfBLwAoRSrxoqQ/0?wx_fmt=jpeg','https://mmbiz.qpic.cn/mmbiz_jpg/B0OT7bl3qeH6X79DA4grDtmR9MYSCWzcicw1n2GFLFmrGAbgOsPrE5hNXll3KSTXOu5ydgDw33qhYzpb4tz4RHw/0?wx_fmt=jpeg','https://mmbiz.qpic.cn/mmbiz_jpg/B0OT7bl3qeH6X79DA4grDtmR9MYSCWzc9XKiaicr4UVaLSI5libibKiazRqoHQeBbnZfx2Ive3ucJuP8NbwXa67kcQQ/0?wx_fmt=jpeg','https://mmbiz.qpic.cn/mmbiz_jpg/B0OT7bl3qeH6X79DA4grDtmR9MYSCWzcxicWYpoOQGVrXKjyNdPKeTPu4MibJB7CgZ5Fkxhq4VITwUhzD1CGRIhQ/0?wx_fmt=jpeg','https://mmbiz.qpic.cn/mmbiz_jpg/B0OT7bl3qeH6X79DA4grDtmR9MYSCWzcicEiaKN3Fib0vhoMpFZgbNBxm6IcA28BWXZbBhdAkyTEDoXaHcBWABVag/0?wx_fmt=jpeg','https://mmbiz.qpic.cn/mmbiz_jpg/B0OT7bl3qeH6X79DA4grDtmR9MYSCWzcUhQZ1fdvfUHyndPlIe7jNNU38c36IibI2lLMP8Fv6dvc2oPfs1FGH2A/0?wx_fmt=jpeg','https://mmbiz.qpic.cn/mmbiz_jpg/B0OT7bl3qeH6X79DA4grDtmR9MYSCWzcrFxcUPd3FcV3dUqviaPWA0kaQzlLBTp6PQLdZeUdFib3PeTJTCvVlRCw/0?wx_fmt=jpeg','https://mmbiz.qpic.cn/mmbiz_jpg/B0OT7bl3qeH6X79DA4grDtmR9MYSCWzclDZiaRs5V0GLib7kQF4Ut0VNxGzCiaQhmpg4wF94aPPOFia5YANm6cMLMQ/0?wx_fmt=jpeg','https://mmbiz.qpic.cn/mmbiz_jpg/B0OT7bl3qeH6X79DA4grDtmR9MYSCWzcQdcNLzm3JaL32bMQdnVr6MvR7dkGHBH0nAOqg4ibIQm3cia1bDxn8x8Q/0?wx_fmt=jpeg','https://mmbiz.qpic.cn/mmbiz_jpg/B0OT7bl3qeH6X79DA4grDtmR9MYSCWzc09icNKFRVdYBdA9JDlVf3HicRAV8Xf0QcNNick9Zc3xScVQGRvA0ZGRcg/0?wx_fmt=jpeg','https://mmbiz.qpic.cn/mmbiz_jpg/B0OT7bl3qeH6X79DA4grDtmR9MYSCWzcRpibt8mAoLAoSovXWAQIsbnNpJ4rzBY5wHWXM6EiabbHw3H3rVRZ8rBA/0?wx_fmt=jpeg','https://mmbiz.qpic.cn/mmbiz_jpg/B0OT7bl3qeH6X79DA4grDtmR9MYSCWzcpPTNay2dXmkWQ3HT6eUwXoZDCG89HZX06uAtlrRw6tcybdKMIQSZqg/0?wx_fmt=jpeg','https://mmbiz.qpic.cn/mmbiz_jpg/B0OT7bl3qeH6X79DA4grDtmR9MYSCWzcFjLR1m6JR7OHia5c6Ec815xL0tmFFoibhoLQH2MtsTibRRyun1NyTXiaRQ/0?wx_fmt=jpeg','https://mmbiz.qpic.cn/mmbiz_jpg/B0OT7bl3qeH6X79DA4grDtmR9MYSCWzc0xfo171aaCbcicSQUCthiaywicHDZWATl730PnxCeZIz6E5Z4I843k78g/0?wx_fmt=jpeg','https://mmbiz.qpic.cn/mmbiz_jpg/B0OT7bl3qeH6X79DA4grDtmR9MYSCWzchvg873GRM8XdwgDjgZxWgpKjSnLicpsaicic539iahnSwAyria4rPPy2FDw/0?wx_fmt=jpeg','https://mmbiz.qpic.cn/mmbiz_jpg/B0OT7bl3qeH6X79DA4grDtmR9MYSCWzcBDb1Jg4s7NBd7Kiau9Jvlic77ibz8pd98f9JuY8juQKY7UmIRmSRZ2cjg/0?wx_fmt=jpeg','https://mmbiz.qpic.cn/mmbiz_jpg/B0OT7bl3qeH6X79DA4grDtmR9MYSCWzc7KUe7tx9MZRJ6kCABaaYeJAlicibdqzzUakAaB5aK6PDG3Gk6TZITaFA/0?wx_fmt=jpeg','https://mmbiz.qpic.cn/mmbiz_jpg/B0OT7bl3qeH6X79DA4grDtmR9MYSCWzcehv7YYkraxWnhCU2v6RTQGPoKyPzia1IwtiaC4fbkVPxd87QX7HxEibMg/0?wx_fmt=jpeg','https://mmbiz.qpic.cn/mmbiz_jpg/B0OT7bl3qeH6X79DA4grDtmR9MYSCWzcQpMDZuXMcQN0NoAxq36qXgChPic4xGiabuD5hetyfX2K6bew1dAuZt7g/0?wx_fmt=jpeg','https://mmbiz.qpic.cn/mmbiz_jpg/B0OT7bl3qeH6X79DA4grDtmR9MYSCWzcwUX8WDwKt5CHkVcIk0WIH1YKzR1PtLyoSW8EaHsoNlogM9jQ3fEyNw/0?wx_fmt=jpeg','https://mmbiz.qpic.cn/mmbiz_jpg/B0OT7bl3qeH6X79DA4grDtmR9MYSCWzcwCfRwICDtyibibPSRMuPiaK8YsO488uSLJmJ1XyJJxsz8rKTVKABbXTkw/0?wx_fmt=jpeg','https://mmbiz.qpic.cn/mmbiz_jpg/B0OT7bl3qeH6X79DA4grDtmR9MYSCWzcicy0CgF4fRrxg0KwG1ykXhJKo4S04bM1f3LT3OibBoqg0vhTckb0utcg/0?wx_fmt=jpeg','https://mmbiz.qpic.cn/mmbiz_jpg/B0OT7bl3qeH6X79DA4grDtmR9MYSCWzcwYBvefUGRwFpGhWheLrdeCg0IW7Q4foI6r6HMC9x98ibDV2UWc5sEAQ/0?wx_fmt=jpeg','https://mmbiz.qpic.cn/mmbiz_jpg/B0OT7bl3qeH6X79DA4grDtmR9MYSCWzcoiaETF4DibB0EOiafia1sA9PjuJS5R7VGeQiawqzpPg2QTrxxF8NbVxFzmQ/0?wx_fmt=jpeg','https://mmbiz.qpic.cn/mmbiz_jpg/B0OT7bl3qeH6X79DA4grDtmR9MYSCWzc1wh29K6BauSIVDm8U0XvtNibGewKiaGkialkr4oQcibhiaiciagC49YgILnnA/0?wx_fmt=jpeg','https://mmbiz.qpic.cn/mmbiz_jpg/B0OT7bl3qeH6X79DA4grDtmR9MYSCWzcJnwrhmGoAakiaFQPqR1C76mVMqHqqquZ0TD3GU9OjbvhwvjL0cvBjiaA/0?wx_fmt=jpeg','https://mmbiz.qpic.cn/mmbiz_jpg/B0OT7bl3qeH6X79DA4grDtmR9MYSCWzc1BAxxqUiawHlKQghnrkB4sNic09z6QXStWHHFtvS546o2t9AAhR0aHxg/0?wx_fmt=jpeg','https://mmbiz.qpic.cn/mmbiz_jpg/B0OT7bl3qeH6X79DA4grDtmR9MYSCWzcUKvxTXQcaNhdtHiavlFD1V9zAM52JQD4C6W5sat2ArKAsGgnlr2NeBQ/0?wx_fmt=jpeg','https://mmbiz.qpic.cn/mmbiz_jpg/B0OT7bl3qeH6X79DA4grDtmR9MYSCWzcKOksAte1xAiaMH9vWj8Lt5LmkJsPfknA0oCpajfE2A4CtZzGDAqXkzw/0?wx_fmt=jpeg','https://mmbiz.qpic.cn/mmbiz_jpg/B0OT7bl3qeH6X79DA4grDtmR9MYSCWzclicmEZvDicIQ5TOibM86lz1B6d9TlZEIEahleyibIdHNNaUl5qGlvag2cg/0?wx_fmt=jpeg','https://mmbiz.qpic.cn/mmbiz_jpg/B0OT7bl3qeH6X79DA4grDtmR9MYSCWzc8rRS0DCibibEwcEkg0VvVPYm711vbseuEAWqS8oYkYAqjGHd6FGy7yEQ/0?wx_fmt=jpeg','https://mmbiz.qpic.cn/mmbiz_jpg/B0OT7bl3qeH6X79DA4grDtmR9MYSCWzc6BQxernJqpsCIYic5BibZRmHYvKRl6R1jwibHoFlPXb5rdTjBIcSWbHNA/0?wx_fmt=jpeg','https://mmbiz.qpic.cn/mmbiz_jpg/B0OT7bl3qeH6X79DA4grDtmR9MYSCWzc1rgN5w5IwKIIy6b8917Nicfe0TjdJz1rYJCtN8LSlCHGuRllvrseupw/0?wx_fmt=jpeg','https://mmbiz.qpic.cn/mmbiz_jpg/B0OT7bl3qeH6X79DA4grDtmR9MYSCWzcaP6zMhBDcUorRvAHdmkgOXjVccWlMajwZJzPsDywhgxe1skMQMia8IQ/0?wx_fmt=jpeg','https://mmbiz.qpic.cn/mmbiz_jpg/B0OT7bl3qeH6X79DA4grDtmR9MYSCWzcC3RmtSNUiajmGXMFx5TAtFxL4NFmOhw2HfyicFEBZCKib4RDyr6bj1Xxg/0?wx_fmt=jpeg','https://mmbiz.qpic.cn/mmbiz_jpg/B0OT7bl3qeH6X79DA4grDtmR9MYSCWzcdOz0G6o9lEd15ejsg37ZaqZXh0UWIyCuAEjAJ6jtXckFl3ssEdKGOg/0?wx_fmt=jpeg','https://mmbiz.qpic.cn/mmbiz_jpg/B0OT7bl3qeH6X79DA4grDtmR9MYSCWzcrqd8LW8f3ppESAtcibS4qqNRKJ3qlk8pyaZw3j9uDLsS29Ss8YIcADw/0?wx_fmt=jpeg','https://mmbiz.qpic.cn/mmbiz_jpg/B0OT7bl3qeH6X79DA4grDtmR9MYSCWzcaSR8AU55h7kbEEqtYERBmB7opU5SdnoUIjibCpB7ia4g4Q2mDDtnIfUg/0?wx_fmt=jpeg','https://mmbiz.qpic.cn/mmbiz_jpg/B0OT7bl3qeH6X79DA4grDtmR9MYSCWzcb6SVQ266MSzzszLNLliaNibCceicAosJ93wA4XW3BwOppZ6DU3FAib00yg/0?wx_fmt=jpeg','https://mmbiz.qpic.cn/mmbiz_jpg/B0OT7bl3qeH6X79DA4grDtmR9MYSCWzc8Ziag2ULLQKaoD7LrGFwMZEPVmJWTue4QH08M0FmZWCTmQiaaCUnKIDw/0?wx_fmt=jpeg','https://mmbiz.qpic.cn/mmbiz_jpg/B0OT7bl3qeH6X79DA4grDtmR9MYSCWzcf6Yeqe5UmXcf1QQytoZYgy7hr7W4tiaAKu1f59tBuBNrNw1op9huUpw/0?wx_fmt=jpeg','https://mmbiz.qpic.cn/mmbiz_jpg/B0OT7bl3qeH6X79DA4grDtmR9MYSCWzcRNugIeibO2hIzdBFIlpmlmYY6UtoxBurFkXsJf4BUhCANNYehw9TMsg/0?wx_fmt=jpeg']"
   ]
  },
  {
   "cell_type": "code",
   "execution_count": null,
   "metadata": {},
   "outputs": [],
   "source": [
    "len(word)"
   ]
  },
  {
   "cell_type": "code",
   "execution_count": null,
   "metadata": {},
   "outputs": [],
   "source": [
    "len(definition)"
   ]
  },
  {
   "cell_type": "code",
   "execution_count": null,
   "metadata": {
    "scrolled": true
   },
   "outputs": [],
   "source": [
    "fileObject = open('wechat.txt', 'w',encoding='utf-8')\n",
    "for i in range(0,51):\n",
    "    css = \"\"\"<section data-width=\"100%\" style=\"display: inline-block; width: 100%; font-size: -3px; background-image: url(&quot;\"\"\" + definition[i] + \"\"\"&quot;); background-size: cover; vertical-align: top; background-attachment: scroll; box-sizing: border-box; text-align: center; background-position: 0% 0%; background-repeat: no-repeat; max-width: 100% !important;\">\n",
    "<svg data-width=\"100%\" enable-background=\"new 0 0 1067 212\" space=\"preserve\" style=\"display: inline-block;outline: none;width: 100%;margin-top: -1px;border-width: initial;border-style: none;border-color: initial;vertical-align: top;background-position: 0% 0%;background-repeat: no-repeat;background-size: 100%;background-attachment: scroll;background-image: url(&quot;\"\"\" + word[i] + \"\"\"&quot;);-webkit-tap-highlight-color: transparent;\" viewBox=\"0 0 1067 212\" x=\"0px\" xml=\"\" y=\"0px\">\n",
    "<set attributeName=\"visibility\" from=\"visible\" to=\"hidden\" begin=\"click+0.5\"></set>\n",
    "<animate attributeName=\"opacity\" begin=\"click\" dur=\"0.5s\" values=\"1;0\" restart=\"never\" fill=\"freeze\">\n",
    "</animate>\n",
    "<set attributeName=\"visibility\" from=\"hidden\" to=\"visible\" begin=\"click+3\"></set>\n",
    "<animate attributeName=\"opacity\" begin=\"click+3\" dur=\"0.3s\" values=\"0;1\" restart=\"never\" fill=\"freeze\">\n",
    "</animate>\n",
    "</svg></section>\"\"\"\n",
    "    fileObject.write(css)\n",
    "fileObject.close()\n",
    "    "
   ]
  },
  {
   "cell_type": "markdown",
   "metadata": {},
   "source": [
    "# 6. Similar words"
   ]
  },
  {
   "cell_type": "markdown",
   "metadata": {},
   "source": [
    "#### test"
   ]
  },
  {
   "cell_type": "code",
   "execution_count": null,
   "metadata": {},
   "outputs": [],
   "source": [
    "csvFile = open(\"The Heart is a Lonely Hunter_VocabCount_v4.csv\", \"r\")\n",
    "reader = csv.reader(csvFile)\n",
    "match_word_list = []"
   ]
  },
  {
   "cell_type": "code",
   "execution_count": null,
   "metadata": {},
   "outputs": [],
   "source": [
    "for i in reader:\n",
    "    match_word = difflib.get_close_matches(i[0], set(word_list),10,0.2)\n",
    "    match_word_list.append(match_word)   "
   ]
  },
  {
   "cell_type": "code",
   "execution_count": null,
   "metadata": {},
   "outputs": [],
   "source": [
    "with open(\"The Heart is a Lonely Hunter_VocabCount_v7.csv\",\"w\",newline = '') as csvfile:\n",
    "    writer = csv.writer(csvfile)\n",
    "    writer.writerows(match_word_list)"
   ]
  },
  {
   "cell_type": "code",
   "execution_count": null,
   "metadata": {},
   "outputs": [],
   "source": [
    "difflib.get_close_matches('prop', ['plup','prop','happy','pp','plop','pulp'],10,0.2)"
   ]
  },
  {
   "cell_type": "markdown",
   "metadata": {},
   "source": [
    "# 8. StarDict"
   ]
  },
  {
   "cell_type": "code",
   "execution_count": null,
   "metadata": {},
   "outputs": [],
   "source": [
    "import stardict\n",
    "from stardict import LemmaDB\n",
    "lemma = LemmaDB()\n",
    "lemma.load('lemma.en.txt')"
   ]
  },
  {
   "cell_type": "code",
   "execution_count": null,
   "metadata": {},
   "outputs": [],
   "source": [
    "l = lemma.word_stem(\"hasn't\")\n",
    "print(l[0])"
   ]
  },
  {
   "cell_type": "markdown",
   "metadata": {},
   "source": [
    "# 9. wordlist 50 words"
   ]
  },
  {
   "cell_type": "code",
   "execution_count": null,
   "metadata": {},
   "outputs": [],
   "source": [
    "df = pd.read_csv(\"stardict.csv\",encoding = 'utf-8')"
   ]
  },
  {
   "cell_type": "code",
   "execution_count": null,
   "metadata": {},
   "outputs": [],
   "source": [
    "df.loc[df['word']=='abandon','tag'].to_string()"
   ]
  },
  {
   "cell_type": "code",
   "execution_count": null,
   "metadata": {},
   "outputs": [],
   "source": [
    "GMAT_list = []\n",
    "\n",
    "with open('GMAT_edited.txt','r',encoding='utf-8') as fhandle:\n",
    "    for line in fhandle:\n",
    "        GMAT_list.append(line.lower().rstrip())"
   ]
  },
  {
   "cell_type": "code",
   "execution_count": null,
   "metadata": {},
   "outputs": [],
   "source": [
    "csvfile = open(\"The Heart is a Lonely Hunter_VocabCount_v4.csv\", \"r\")\n",
    "reader = csv.reader(csvfile)"
   ]
  },
  {
   "cell_type": "code",
   "execution_count": null,
   "metadata": {},
   "outputs": [],
   "source": [
    "word_category = []\n",
    "for i in reader:\n",
    "    category = re.findall(\"[a-z]+\\-?[a-z]+\", df.loc[df['word']== i[0] ,'tag'].to_string())\n",
    "    if i[0] in GMAT_list:\n",
    "        category.append('gmat')\n",
    "    word_category.append(category)"
   ]
  },
  {
   "cell_type": "code",
   "execution_count": null,
   "metadata": {},
   "outputs": [],
   "source": [
    "word_category"
   ]
  },
  {
   "cell_type": "code",
   "execution_count": null,
   "metadata": {},
   "outputs": [],
   "source": [
    "import json\n",
    "import pickle\n",
    "json_handle = open('PEPChuZhong7_1.json', 'rb')\n",
    "json_string = json_handle.read()\n",
    "json_dict = json.loads(json_string)\n",
    "type(json_dict)\n"
   ]
  },
  {
   "cell_type": "code",
   "execution_count": null,
   "metadata": {},
   "outputs": [],
   "source": []
  }
 ],
 "metadata": {
  "kernelspec": {
   "display_name": "Python 3",
   "language": "python",
   "name": "python3"
  },
  "language_info": {
   "codemirror_mode": {
    "name": "ipython",
    "version": 3
   },
   "file_extension": ".py",
   "mimetype": "text/x-python",
   "name": "python",
   "nbconvert_exporter": "python",
   "pygments_lexer": "ipython3",
   "version": "3.7.3"
  }
 },
 "nbformat": 4,
 "nbformat_minor": 4
}
