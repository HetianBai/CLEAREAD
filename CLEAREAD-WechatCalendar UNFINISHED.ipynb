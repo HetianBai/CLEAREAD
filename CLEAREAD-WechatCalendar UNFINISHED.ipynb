{
 "cells": [
  {
   "cell_type": "code",
   "execution_count": 6,
   "metadata": {
    "ExecuteTime": {
     "end_time": "2020-07-11T09:28:00.570548Z",
     "start_time": "2020-07-11T09:28:00.142622Z"
    }
   },
   "outputs": [],
   "source": [
    "from wechatpy.client import WeChatClient\n",
    "import time"
   ]
  },
  {
   "cell_type": "code",
   "execution_count": 7,
   "metadata": {
    "ExecuteTime": {
     "end_time": "2020-07-11T09:28:00.578527Z",
     "start_time": "2020-07-11T09:28:00.573542Z"
    }
   },
   "outputs": [],
   "source": [
    "app = {\n",
    "    \"appid\": \"wx72b0cc170a66fe7b\",\n",
    "    \"appsecret\": \"9e9ef69b54fd1688376dc82b130f4bf9\"\n",
    "}\n",
    "wx = WeChatClient(app.get(\"appid\"), app.get(\"appsecret\"))"
   ]
  },
  {
   "cell_type": "code",
   "execution_count": 34,
   "metadata": {
    "ExecuteTime": {
     "end_time": "2020-07-15T09:22:17.286772Z",
     "start_time": "2020-07-15T09:22:17.280784Z"
    }
   },
   "outputs": [],
   "source": [
    "section_title = \"\"\"<section style=\"margin-right: 0%; margin-left: 0%; box-sizing: border-box;\">\"\"\"\n",
    "section_bottom = \"\"\"</section>\"\"\"\n",
    "sub_section_title = \"\"\"\n",
    "\n",
    "<section style=\"display: inline-block; vertical-align: top; letter-spacing: 0px; line-height: 0; width: 14.29%; height: auto; border-style: none; border-width: 1px; border-radius: 0px; border-color: rgb(62, 62, 62); box-sizing: border-box;\"><section style=\"height: 100%; width: 100%;\">\n",
    "\n",
    "\"\"\"\n",
    "sub_section_bottom = \"\"\"\n",
    "\n",
    "</section></section>\n",
    "\n",
    "\"\"\"\n",
    "img_part1 = \"\"\"\n",
    "\n",
    "<img class=\"rich_pages\" data-ratio=\"1\" src=\"\n",
    "\n",
    "\"\"\"\n",
    "img_part2 = \"\"\"\n",
    "\n",
    "\" data-type=\"jpeg\" data-w=\"108\">\n",
    "\n",
    "\"\"\""
   ]
  },
  {
   "cell_type": "code",
   "execution_count": 9,
   "metadata": {
    "ExecuteTime": {
     "end_time": "2020-07-11T09:28:41.530208Z",
     "start_time": "2020-07-11T09:28:02.976494Z"
    }
   },
   "outputs": [
    {
     "name": "stdout",
     "output_type": "stream",
     "text": [
      "please enter the file name7\n",
      "please enter the start weekday number3\n",
      "please enter the number of img or days in this month31\n"
     ]
    }
   ],
   "source": [
    "filename = input('please enter the file name')\n",
    "startdate = input ('please enter the start weekday number')\n",
    "monthdays = input ('please enter the number of img or days in this month')"
   ]
  },
  {
   "cell_type": "code",
   "execution_count": 10,
   "metadata": {
    "ExecuteTime": {
     "end_time": "2020-07-11T09:30:01.501537Z",
     "start_time": "2020-07-11T09:28:42.227320Z"
    }
   },
   "outputs": [],
   "source": [
    "#Get the images url\n",
    "pic_link = []\n",
    "\n",
    "for i in range (1,int(monthdays)+1):\n",
    "    pic = \"D://\" + filename + \"/幻灯片\" + str(i) + \".JPG\"\n",
    "    pic_link.append(pic)\n",
    "    \n",
    "pic_url = []\n",
    "\n",
    "for i in pic_link:\n",
    "    resp = wx.material.add(\"image\",open(i,\"rb\"))\n",
    "    pic_url.append(resp['url'])\n",
    "    time.sleep(2)"
   ]
  },
  {
   "cell_type": "code",
   "execution_count": 35,
   "metadata": {
    "ExecuteTime": {
     "end_time": "2020-07-15T09:22:22.542065Z",
     "start_time": "2020-07-15T09:22:22.537112Z"
    }
   },
   "outputs": [],
   "source": [
    "week_html = ''\n",
    "count = 0\n",
    "for i in range(1,int(monthdays)+1,7):\n",
    "    week_html += section_title\n",
    "    for j in range(i,i+7):\n",
    "        if j < int(startdate):\n",
    "            week_html += sub_section_title + sub_section_bottom\n",
    "        else:\n",
    "            if j <= int(monthdays):\n",
    "                week_html = sub_section_title + img_par1 + pic_url[count] + img_par2 + sub_section_bottom\n",
    "                calendar_html += section_html\n",
    "                count += 1\n",
    "            else:\n",
    "                week_html = sub_section_title + sub_section_bottom\n",
    "    week_html += section_bottom"
   ]
  },
  {
   "cell_type": "code",
   "execution_count": 29,
   "metadata": {
    "ExecuteTime": {
     "end_time": "2020-07-11T09:42:29.084399Z",
     "start_time": "2020-07-11T09:42:29.078415Z"
    }
   },
   "outputs": [],
   "source": [
    "fileObject = open('WechatCalendarHTML.txt', 'w',encoding='utf-8')\n",
    "fileObject.write(calendar_html)\n",
    "fileObject.close()"
   ]
  },
  {
   "cell_type": "code",
   "execution_count": 32,
   "metadata": {
    "ExecuteTime": {
     "end_time": "2020-07-15T09:16:36.009230Z",
     "start_time": "2020-07-15T09:16:35.979310Z"
    }
   },
   "outputs": [
    {
     "name": "stdout",
     "output_type": "stream",
     "text": [
      "1\n",
      "8\n",
      "15\n",
      "22\n",
      "29\n"
     ]
    }
   ],
   "source": [
    "week_html = ''\n",
    "count = 0\n",
    "for i in range(1,int(monthdays)+1,7):\n",
    "    print(i)"
   ]
  },
  {
   "cell_type": "code",
   "execution_count": 36,
   "metadata": {
    "ExecuteTime": {
     "end_time": "2020-07-15T09:22:29.460901Z",
     "start_time": "2020-07-15T09:22:29.454919Z"
    }
   },
   "outputs": [
    {
     "data": {
      "text/plain": [
       "'\\n\\n<section style=\"display: inline-block; vertical-align: top; letter-spacing: 0px; line-height: 0; width: 14.29%; height: auto; border-style: none; border-width: 1px; border-radius: 0px; border-color: rgb(62, 62, 62); box-sizing: border-box;\"><section style=\"height: 100%; width: 100%;\">\\n\\n\\n\\n</section></section>\\n\\n</section>'"
      ]
     },
     "execution_count": 36,
     "metadata": {},
     "output_type": "execute_result"
    }
   ],
   "source": [
    "week_html"
   ]
  },
  {
   "cell_type": "code",
   "execution_count": null,
   "metadata": {},
   "outputs": [],
   "source": []
  }
 ],
 "metadata": {
  "kernelspec": {
   "display_name": "Python 3",
   "language": "python",
   "name": "python3"
  },
  "language_info": {
   "codemirror_mode": {
    "name": "ipython",
    "version": 3
   },
   "file_extension": ".py",
   "mimetype": "text/x-python",
   "name": "python",
   "nbconvert_exporter": "python",
   "pygments_lexer": "ipython3",
   "version": "3.7.3"
  },
  "toc": {
   "base_numbering": 1,
   "nav_menu": {},
   "number_sections": true,
   "sideBar": true,
   "skip_h1_title": false,
   "title_cell": "Table of Contents",
   "title_sidebar": "Contents",
   "toc_cell": false,
   "toc_position": {},
   "toc_section_display": true,
   "toc_window_display": false
  }
 },
 "nbformat": 4,
 "nbformat_minor": 4
}
