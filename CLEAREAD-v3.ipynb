{
 "cells": [
  {
   "cell_type": "code",
   "execution_count": 1,
   "metadata": {
    "ExecuteTime": {
     "end_time": "2020-07-09T15:22:19.108487Z",
     "start_time": "2020-07-09T15:22:06.797516Z"
    }
   },
   "outputs": [],
   "source": [
    "import numpy as np\n",
    "import re\n",
    "import string\n",
    "import pandas as pd\n",
    "import nltk\n",
    "from nltk.collocations import *\n",
    "from pattern.en import lemma\n",
    "import requests\n",
    "import json\n",
    "import time\n",
    "import hashlib\n",
    "import uuid\n",
    "import csv\n",
    "import phrasemachine\n",
    "import time\n",
    "from urllib.request import urlopen\n",
    "from bs4 import BeautifulSoup\n",
    "from urllib.request import Request\n",
    "import difflib\n",
    "from nltk.stem import WordNetLemmatizer \n",
    "from wechatpy.client import WeChatClient\n",
    "import random\n",
    "import http.client\n",
    "import stardict\n",
    "from stardict import LemmaDB\n",
    "lemma = LemmaDB()\n",
    "lemma.load('lemma.en.txt')\n",
    "import urllib"
   ]
  },
  {
   "cell_type": "code",
   "execution_count": 2,
   "metadata": {
    "ExecuteTime": {
     "end_time": "2020-07-09T15:22:38.202609Z",
     "start_time": "2020-07-09T15:22:19.110482Z"
    }
   },
   "outputs": [
    {
     "name": "stderr",
     "output_type": "stream",
     "text": [
      "D:\\apps\\Anaconda\\lib\\site-packages\\IPython\\core\\interactiveshell.py:3063: DtypeWarning: Columns (11) have mixed types.Specify dtype option on import or set low_memory=False.\n",
      "  interactivity=interactivity, compiler=compiler, result=result)\n"
     ]
    }
   ],
   "source": [
    "GMAT_list = []\n",
    "\n",
    "with open('GMAT_edited.txt','r',encoding='utf-8') as fhandle:\n",
    "    for line in fhandle:\n",
    "        GMAT_list.append(line.lower().rstrip())\n",
    "    \n",
    "\n",
    "word_pron_char_defin_cate = []   \n",
    "df = pd.read_csv(\"stardict.csv\",encoding = 'utf-8')"
   ]
  },
  {
   "cell_type": "markdown",
   "metadata": {},
   "source": [
    "# Output v3"
   ]
  },
  {
   "cell_type": "code",
   "execution_count": 3,
   "metadata": {
    "ExecuteTime": {
     "end_time": "2020-07-09T15:23:00.092090Z",
     "start_time": "2020-07-09T15:22:38.234525Z"
    }
   },
   "outputs": [
    {
     "name": "stdout",
     "output_type": "stream",
     "text": [
      "enter the name of the v2fileTender is the Nightvocabularycounts_v2\n"
     ]
    }
   ],
   "source": [
    "filename = input('enter the name of the v2file')"
   ]
  },
  {
   "cell_type": "code",
   "execution_count": 5,
   "metadata": {
    "ExecuteTime": {
     "end_time": "2020-07-09T15:43:41.911718Z",
     "start_time": "2020-07-09T15:34:56.890722Z"
    }
   },
   "outputs": [
    {
     "name": "stdout",
     "output_type": "stream",
     "text": [
      "chauffeur\n",
      "lausanne\n",
      "mediterranean\n",
      "consulate\n",
      "quirinal\n",
      "rue\n",
      "funicular\n",
      "monte\n",
      "formidable\n",
      "detach\n",
      "phonograph\n",
      "valet\n",
      "chasseur\n",
      "buffalo\n",
      "excelsior\n",
      "slant\n",
      "belittle\n",
      "psychiatrist\n",
      "arc\n",
      "apologetically\n",
      "monocle\n",
      "menace\n",
      "peignoir\n",
      "facetious\n",
      "gendarme\n",
      "herald\n",
      "frantic\n",
      "espadrille\n",
      "sleigh\n",
      "reiterate\n",
      "stunt\n",
      "petit\n",
      "metallic\n",
      "bizarre\n",
      "exigent\n",
      "mingle\n",
      "cavalry\n",
      "neurosis\n",
      "alp\n",
      "sanitarium\n",
      "ready for chinese translation\n"
     ]
    }
   ],
   "source": [
    "csvFile = open( filename + \".csv\", \"r\",encoding = 'utf-8')\n",
    "reader = csv.reader(csvFile)\n",
    "\n",
    "# API id and key\n",
    "app_id = '491e882b'\n",
    "app_key = 'a0b004ca6b5f7f4e820832f3dc934355'\n",
    "\n",
    "word_pron_char_defin_cate=[]\n",
    "for i in reader:\n",
    "    try:\n",
    "        category = re.findall(\"[a-z]+\\-?[a-z]+\", df.loc[df['word']== i[0] ,'tag'].to_string())\n",
    "        if i[0] in GMAT_list:\n",
    "            category.append('gmat')\n",
    "        cate = \",\".join(category)\n",
    "    \n",
    "        try:\n",
    "    \n",
    "            word_id = i[0]\n",
    "            strictMatch = 'false'\n",
    "\n",
    "            url = 'https://od-api.oxforddictionaries.com:443/api/v2/entries/en-gb/' + word_id.lower() + '?strictMatch=' + strictMatch;\n",
    "\n",
    "            r = requests.get(url, headers = {'app_id': app_id, 'app_key': app_key})\n",
    "            pron = r.json()[\"results\"][0]['lexicalEntries'][0]['entries'][0]['pronunciations'][0]['phoneticSpelling']\n",
    "            char = r.json()[\"results\"][0]['lexicalEntries'][0]['lexicalCategory']['text']\n",
    "            defin = r.json()[\"results\"][0]['lexicalEntries'][0]['entries'][0]['senses'][0]['definitions'][0]\n",
    "            word_pron_char_defin_cate.append([i[0],'/'+pron+'/',char,defin,cate])\n",
    "            print(word_id)\n",
    "            time.sleep(10)\n",
    "        except KeyError :\n",
    "            pass\n",
    "        continue\n",
    "    except IndexError:\n",
    "        pass\n",
    "print('ready for chinese translation')\n",
    "\n",
    "for i in word_pron_char_defin_cate:\n",
    "    if i[2] == 'Noun':\n",
    "        i[2] = 'n.'\n",
    "    if i[2] == 'Adjective':\n",
    "        i[2] = 'adj.'\n",
    "    if i[2] == 'Verb':\n",
    "        i[2] = 'v.'\n",
    "    if i[2] == 'Adverb':\n",
    "        i[2] = 'adv.'\n",
    "\n",
    "# Baidu API for EN-CN Translate\n",
    "appid = '20200627000507736'  # 填写你的appid\n",
    "secretKey = 'G3ghonyD9dfI39NnFtGN'  # 填写你的密钥\n",
    "\n",
    "httpClient = None\n",
    "myurl = '/api/trans/vip/translate'\n",
    "\n",
    "fromLang = 'en'   #原文语种\n",
    "toLang = 'zh'   #译文语种\n",
    "\n",
    "word_pron_char_defin_cate_cn = []\n",
    "for i in word_pron_char_defin_cate:\n",
    "    salt = random.randint(32768, 65536)\n",
    "    sign = appid + i[0] + str(salt) + secretKey\n",
    "    sign = hashlib.md5(sign.encode()).hexdigest()\n",
    "    myurl = myurl + '?appid=' + appid + '&q=' + urllib.parse.quote(i[0]) + '&from=' + fromLang + '&to=' + toLang + '&salt=' + str(salt) + '&sign=' + sign\n",
    "\n",
    "    try:\n",
    "        httpClient = http.client.HTTPConnection('api.fanyi.baidu.com')\n",
    "        httpClient.request('GET', myurl)\n",
    "\n",
    "        # response是HTTPResponse对象\n",
    "        response = httpClient.getresponse()\n",
    "        result_all = response.read().decode(\"utf-8\")\n",
    "        result = json.loads(result_all)['trans_result'][0]['dst']\n",
    "        i.append(result)\n",
    "        print(result)\n",
    "        word_pron_char_defin_cate_cn.append(i)\n",
    "\n",
    "\n",
    "    except Exception as e:\n",
    "        pass\n",
    "\n",
    "fileObject = open(filename + '_v3.txt', 'w',encoding='utf-8')\n",
    "for i in word_pron_char_defin_cate_cn:\n",
    "    for j in i:\n",
    "        fileObject.write(j)\n",
    "        fileObject.write(' ')\n",
    "    fileObject.write('\\n')\n",
    "fileObject.close()"
   ]
  },
  {
   "cell_type": "code",
   "execution_count": 12,
   "metadata": {
    "ExecuteTime": {
     "end_time": "2020-07-09T16:02:09.143958Z",
     "start_time": "2020-07-09T16:01:55.063576Z"
    }
   },
   "outputs": [
    {
     "name": "stdout",
     "output_type": "stream",
     "text": [
      "司机\n",
      "洛桑\n",
      "地中海\n",
      "领事馆\n",
      "奇里纳尔\n",
      "吕\n",
      "索\n",
      "蒙特\n",
      "可怕的\n",
      "分离\n",
      "留声机\n",
      "男仆\n",
      "查瑟尔\n",
      "水牛\n",
      "精益求精\n",
      "倾斜\n",
      "轻视\n",
      "精神病医生\n",
      "弧\n",
      "抱歉地\n",
      "单眼镜\n",
      "威胁\n",
      "皮诺伊尔\n",
      "滑稽的\n",
      "宪兵\n",
      "先驱\n",
      "疯狂的\n",
      "西班牙\n",
      "雪橇\n",
      "重申\n",
      "特技\n",
      "小矮子\n",
      "金属的\n",
      "奇怪的\n",
      "急迫的\n",
      "混在一起\n",
      "骑兵\n",
      "神经症\n",
      "阿尔卑斯山\n",
      "疗养院\n"
     ]
    }
   ],
   "source": [
    "# Baidu API for EN-CN Translate\n",
    "appid = '20200627000507736'  # 填写你的appid\n",
    "secretKey = 'G3ghonyD9dfI39NnFtGN'  # 填写你的密钥\n",
    "\n",
    "httpClient = None\n",
    "myurl = '/api/trans/vip/translate'\n",
    "\n",
    "fromLang = 'en'   #原文语种\n",
    "toLang = 'zh'   #译文语种\n",
    "\n",
    "word_pron_char_defin_cate_cn = []\n",
    "for i in word_pron_char_defin_cate:\n",
    "    salt = random.randint(32768, 65536)\n",
    "    sign = appid + i[0] + str(salt) + secretKey\n",
    "    sign = hashlib.md5(sign.encode()).hexdigest()\n",
    "    myurl = myurl + '?appid=' + appid + '&q=' + urllib.parse.quote(i[0]) + '&from=' + fromLang + '&to=' + toLang + '&salt=' + str(salt) + '&sign=' + sign\n",
    "\n",
    "    try:\n",
    "        httpClient = http.client.HTTPConnection('api.fanyi.baidu.com')\n",
    "        httpClient.request('GET', myurl)\n",
    "\n",
    "        # response是HTTPResponse对象\n",
    "        response = httpClient.getresponse()\n",
    "        result_all = response.read().decode(\"utf-8\")\n",
    "        result = json.loads(result_all)['trans_result'][0]['dst']\n",
    "        i.append(result)\n",
    "        print(result)\n",
    "        word_pron_char_defin_cate_cn.append(i)\n",
    "\n",
    "\n",
    "    except Exception as e:\n",
    "        pass\n",
    "    continue\n",
    "\n",
    "fileObject = open(filename + '_v3.txt', 'w',encoding='utf-8')\n",
    "for i in word_pron_char_defin_cate_cn:\n",
    "    for j in i:\n",
    "        fileObject.write(j)\n",
    "        fileObject.write(' ')\n",
    "    fileObject.write('\\n')\n",
    "fileObject.close()"
   ]
  },
  {
   "cell_type": "code",
   "execution_count": null,
   "metadata": {},
   "outputs": [],
   "source": []
  }
 ],
 "metadata": {
  "kernelspec": {
   "display_name": "Python 3",
   "language": "python",
   "name": "python3"
  },
  "language_info": {
   "codemirror_mode": {
    "name": "ipython",
    "version": 3
   },
   "file_extension": ".py",
   "mimetype": "text/x-python",
   "name": "python",
   "nbconvert_exporter": "python",
   "pygments_lexer": "ipython3",
   "version": "3.7.3"
  },
  "toc": {
   "base_numbering": 1,
   "nav_menu": {},
   "number_sections": true,
   "sideBar": true,
   "skip_h1_title": false,
   "title_cell": "Table of Contents",
   "title_sidebar": "Contents",
   "toc_cell": false,
   "toc_position": {},
   "toc_section_display": true,
   "toc_window_display": false
  }
 },
 "nbformat": 4,
 "nbformat_minor": 4
}
