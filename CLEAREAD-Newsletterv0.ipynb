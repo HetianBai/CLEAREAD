{
 "cells": [
  {
   "cell_type": "code",
   "execution_count": 1,
   "metadata": {
    "ExecuteTime": {
     "end_time": "2020-07-14T06:59:35.890033Z",
     "start_time": "2020-07-14T06:59:34.858808Z"
    }
   },
   "outputs": [],
   "source": [
    "from stardict import LemmaDB\n",
    "lemma = LemmaDB()\n",
    "lemma.load('lemma.en.txt')\n",
    "import re\n",
    "import pandas as pd\n"
   ]
  },
  {
   "cell_type": "code",
   "execution_count": 31,
   "metadata": {
    "ExecuteTime": {
     "end_time": "2020-07-14T07:26:22.603732Z",
     "start_time": "2020-07-14T07:26:22.569811Z"
    }
   },
   "outputs": [],
   "source": [
    "# Easy word list\n",
    "CET4_list = []\n",
    "\n",
    "with open('CET-4_Vocab_v2.txt','r',encoding='utf-8') as fhandle:\n",
    "    for line in fhandle:\n",
    "        line=line.lower()\n",
    "        if line.startswith(('a','b','c','d','e','f','g','h','i','j','k','l','m','n','o','p','q','r','s','t','u','v','w','x','y','z')):\n",
    "            word = re.findall('([a-z]+)',line)\n",
    "            CET4_list.append(word[0].lower().rstrip())\n",
    "        else:\n",
    "            continue\n",
    "\n",
    "highschool_list = []\n",
    "\n",
    "with open('Highschool_Vocab.txt','r',encoding='utf-8') as fhandle:\n",
    "    for line in fhandle:\n",
    "        highschool_list.append(line.lower().rstrip())  \n",
    "\n",
    "elementary_list = []\n",
    "\n",
    "with open('Elementary_Vocab.txt','r',encoding='utf-8') as fhandle:\n",
    "    for line in fhandle:\n",
    "        elementary_list.append(line.lower().rstrip())\n",
    "\n",
    "easy_word_set = set(CET4_list) | set(highschool_list) | set(elementary_list)\n",
    "easy_word_list = list(easy_word_set)"
   ]
  },
  {
   "cell_type": "code",
   "execution_count": 15,
   "metadata": {
    "ExecuteTime": {
     "end_time": "2020-07-14T07:16:53.567526Z",
     "start_time": "2020-07-14T07:16:53.552566Z"
    }
   },
   "outputs": [],
   "source": [
    "lemma_easy_word_list = []\n",
    "\n",
    "for i in range(0,len(easy_word_list)):\n",
    "    lemma_word = lemma.get(easy_word_list[i], reverse = True)\n",
    "    if lemma_word == None:\n",
    "        lemma_easy_word_list.append(easy_word_list[i])\n",
    "    else:\n",
    "        lemma_easy_word_list.append(lemma_word[0])\n",
    "\n"
   ]
  },
  {
   "cell_type": "code",
   "execution_count": 16,
   "metadata": {
    "ExecuteTime": {
     "end_time": "2020-07-14T07:17:04.890627Z",
     "start_time": "2020-07-14T07:16:54.522339Z"
    }
   },
   "outputs": [
    {
     "name": "stderr",
     "output_type": "stream",
     "text": [
      "D:\\apps\\Anaconda\\lib\\site-packages\\IPython\\core\\interactiveshell.py:3063: DtypeWarning: Columns (11) have mixed types.Specify dtype option on import or set low_memory=False.\n",
      "  interactivity=interactivity, compiler=compiler, result=result)\n"
     ]
    }
   ],
   "source": [
    "# word category\n",
    "GMAT_list = []\n",
    "\n",
    "with open('GMAT_edited.txt','r',encoding='utf-8') as fhandle:\n",
    "    for line in fhandle:\n",
    "        GMAT_list.append(line.lower().rstrip())\n",
    "    \n",
    "stardict = pd.read_csv(\"stardict.csv\",encoding = 'utf-8')\n"
   ]
  },
  {
   "cell_type": "code",
   "execution_count": 17,
   "metadata": {
    "ExecuteTime": {
     "end_time": "2020-07-14T07:17:07.935936Z",
     "start_time": "2020-07-14T07:17:04.894582Z"
    }
   },
   "outputs": [
    {
     "name": "stdout",
     "output_type": "stream",
     "text": [
      "enter the name of the book7-15\n"
     ]
    }
   ],
   "source": [
    "bookname = input('enter the name of the book')"
   ]
  },
  {
   "cell_type": "code",
   "execution_count": 18,
   "metadata": {
    "ExecuteTime": {
     "end_time": "2020-07-14T07:17:19.657786Z",
     "start_time": "2020-07-14T07:17:07.938929Z"
    }
   },
   "outputs": [],
   "source": [
    "with open(bookname + \".txt\", 'r',encoding='utf-8') as file:\n",
    "    text = file.read().rstrip().lower()\n",
    "\n",
    "# remove puntuation\n",
    "word_list = re.findall(\"[a-z]+\\'?\\-?\\'?[a-z]+\", text)\n",
    "\n",
    "#Lemmatization\n",
    "#LemmaDB can't lemma didn't or wouldn't, etc.\n",
    "lemma_word_list = []\n",
    "\n",
    "for i in range(0,len(word_list)):\n",
    "    lemma_word = lemma.get(word_list[i], reverse = True)\n",
    "    if lemma_word == None:\n",
    "        lemma_word_list.append(word_list[i])\n",
    "    else:\n",
    "        lemma_word_list.append(lemma_word[0])\n",
    "\n",
    "\n",
    "#select unfamiliar words\n",
    "raw_word_list = []\n",
    "for word in lemma_word_list:\n",
    "    if word not in lemma_easy_word_list:\n",
    "        raw_word_list.append(word)\n",
    "    else:\n",
    "        continue    \n",
    "\n",
    "\n",
    "#count the word\n",
    "word_count = pd.value_counts(raw_word_list)\n",
    "data = pd.DataFrame({'Vocabulary':word_count.index, 'counts':word_count.values})\n",
    "        \n",
    "# point out where the replicate comes from\n",
    "def get_key (dict, value):\n",
    "    return [k for k, v in dict.items() if v == value]\n",
    "\n",
    "\n",
    "for i in range(0,len(word_count.index)):\n",
    "    try:\n",
    "        category = re.findall(\"[a-z]+\\-?[a-z]+\", stardict.loc[stardict['word']== data.loc[i,'Vocabulary'] ,'tag'].to_string())\n",
    "        if data.loc[i,'Vocabulary'] in GMAT_list:\n",
    "            category.append('gmat')\n",
    "        cate = \",\".join(category)\n",
    "        data.loc[i,'Cate'] = cate\n",
    "    except IndexError:\n",
    "        pass     \n",
    "data.to_csv( bookname + \"vocabularycounts_v0.csv\",index=False,header=True)            "
   ]
  },
  {
   "cell_type": "code",
   "execution_count": 32,
   "metadata": {
    "ExecuteTime": {
     "end_time": "2020-07-14T07:26:25.392895Z",
     "start_time": "2020-07-14T07:26:25.364973Z"
    }
   },
   "outputs": [],
   "source": [
    "lemma_CET4_list = []\n",
    "for i in range(0,len(CET4_list)):\n",
    "    lemma_word = lemma.get(CET4_list[i], reverse = True)\n",
    "    if lemma_word == None:\n",
    "        lemma_CET4_list.append(CET4_list[i])\n",
    "    else:\n",
    "        lemma_CET4_list.append(lemma_word[0])            \n",
    "\n",
    "lemma_highschool_list = []\n",
    "for i in range(0,len(highschool_list)):\n",
    "    lemma_word = lemma.get(highschool_list[i], reverse = True)\n",
    "    if lemma_word == None:\n",
    "        lemma_highschool_list.append(highschool_list[i])\n",
    "    else:\n",
    "        lemma_highschool_list.append(lemma_word[0])              \n",
    "\n",
    "lemma_elementary_list = []\n",
    "for i in range(0,len(elementary_list)):\n",
    "    lemma_word = lemma.get(elementary_list[i], reverse = True)\n",
    "    if lemma_word == None:\n",
    "        lemma_elementary_list.append(elementary_list[i])\n",
    "    else:\n",
    "        lemma_elementary_list.append(lemma_word[0])   \n",
    "        \n",
    "lemma_CET4_list = set(lemma_CET4_list) - set(lemma_highschool_list) - set(lemma_elementary_list)\n",
    "        \n",
    "CET4_appeared = []\n",
    "for word in lemma_word_list:\n",
    "    if word in lemma_CET4_list:\n",
    "        CET4_appeared.append(word)\n",
    "    else:\n",
    "        continue   "
   ]
  },
  {
   "cell_type": "code",
   "execution_count": 33,
   "metadata": {
    "ExecuteTime": {
     "end_time": "2020-07-14T07:26:25.879974Z",
     "start_time": "2020-07-14T07:26:25.874929Z"
    }
   },
   "outputs": [],
   "source": [
    "CET4_appeared = list(set(CET4_appeared))\n",
    "fileObject = open(bookname + 'CET4.txt', 'w',encoding='utf-8')\n",
    "for i in CET4_appeared:\n",
    "    fileObject.write(i)\n",
    "    fileObject.write('\\n')\n",
    "fileObject.close()"
   ]
  },
  {
   "cell_type": "code",
   "execution_count": 38,
   "metadata": {
    "ExecuteTime": {
     "end_time": "2020-07-14T08:18:02.841652Z",
     "start_time": "2020-07-14T08:18:02.836659Z"
    }
   },
   "outputs": [
    {
     "data": {
      "text/plain": [
       "['cues', 'cued', 'cueing']"
      ]
     },
     "execution_count": 38,
     "metadata": {},
     "output_type": "execute_result"
    }
   ],
   "source": [
    "lemma.get(\"cue\", reverse = False)"
   ]
  },
  {
   "cell_type": "code",
   "execution_count": null,
   "metadata": {},
   "outputs": [],
   "source": [
    "w"
   ]
  }
 ],
 "metadata": {
  "kernelspec": {
   "display_name": "Python 3",
   "language": "python",
   "name": "python3"
  },
  "language_info": {
   "codemirror_mode": {
    "name": "ipython",
    "version": 3
   },
   "file_extension": ".py",
   "mimetype": "text/x-python",
   "name": "python",
   "nbconvert_exporter": "python",
   "pygments_lexer": "ipython3",
   "version": "3.7.3"
  },
  "toc": {
   "base_numbering": 1,
   "nav_menu": {},
   "number_sections": true,
   "sideBar": true,
   "skip_h1_title": false,
   "title_cell": "Table of Contents",
   "title_sidebar": "Contents",
   "toc_cell": false,
   "toc_position": {},
   "toc_section_display": true,
   "toc_window_display": false
  }
 },
 "nbformat": 4,
 "nbformat_minor": 4
}
