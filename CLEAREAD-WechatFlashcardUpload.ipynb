{
 "cells": [
  {
   "cell_type": "code",
   "execution_count": 17,
   "metadata": {
    "ExecuteTime": {
     "end_time": "2020-07-16T08:20:36.022631Z",
     "start_time": "2020-07-16T08:20:35.956808Z"
    }
   },
   "outputs": [],
   "source": [
    "from wechatpy.client import WeChatClient\n",
    "import time"
   ]
  },
  {
   "cell_type": "code",
   "execution_count": 18,
   "metadata": {
    "ExecuteTime": {
     "end_time": "2020-07-16T08:20:36.332419Z",
     "start_time": "2020-07-16T08:20:36.301503Z"
    }
   },
   "outputs": [],
   "source": [
    "app = {\n",
    "    \"appid\": \"wx72b0cc170a66fe7b\",\n",
    "    \"appsecret\": \"9e9ef69b54fd1688376dc82b130f4bf9\"\n",
    "}\n",
    "wx = WeChatClient(app.get(\"appid\"), app.get(\"appsecret\"))"
   ]
  },
  {
   "cell_type": "code",
   "execution_count": 19,
   "metadata": {
    "ExecuteTime": {
     "end_time": "2020-07-16T08:20:46.845059Z",
     "start_time": "2020-07-16T08:20:36.726834Z"
    }
   },
   "outputs": [
    {
     "name": "stdout",
     "output_type": "stream",
     "text": [
      "please enter the name of the FC fileFC-1\n",
      "please enter the counts of the images108\n"
     ]
    }
   ],
   "source": [
    "filename = input('please enter the name of the FC file')\n",
    "counts = input(\"please enter the counts of the images\")"
   ]
  },
  {
   "cell_type": "code",
   "execution_count": 20,
   "metadata": {
    "ExecuteTime": {
     "end_time": "2020-07-16T08:25:14.484636Z",
     "start_time": "2020-07-16T08:20:47.341731Z"
    }
   },
   "outputs": [],
   "source": [
    "#Get the title and bottom url\n",
    "pic_title_link = \"D://\" + filename + \"/Title.JPG\"\n",
    "pic_bottom_link = \"D://\" + filename + \"/Bottom.JPG\"\n",
    "pic_title_url =  wx.material.add(\"image\",open(pic_title_link,\"rb\"))['url']\n",
    "pic_bottom_url =  wx.material.add(\"image\",open(pic_bottom_link,\"rb\"))['url']\n",
    "\n",
    "\n",
    "#Get the images url\n",
    "pic_word_link = []\n",
    "pic_defin_link = []\n",
    "\n",
    "for i in range (1,int(counts)+1):\n",
    "    if i % 2 != 0:\n",
    "        pic = \"D://\" + filename + \"/幻灯片\" + str(i) + \".JPG\"\n",
    "        pic_word_link.append(pic)\n",
    "    else:\n",
    "        pic = \"D://\" + filename + \"/幻灯片\" + str(i) + \".JPG\"\n",
    "        pic_defin_link.append(pic)\n",
    "\n",
    "\n",
    "pic_word_url = []\n",
    "pic_defin_url = []\n",
    "\n",
    "for i in pic_word_link:\n",
    "    resp = wx.material.add(\"image\",open(i,\"rb\"))\n",
    "    pic_word_url.append(resp['url'])\n",
    "    time.sleep(2)\n",
    "\n",
    "\n",
    "for i in pic_defin_link:\n",
    "    resp = wx.material.add(\"image\",open(i,\"rb\"))\n",
    "    pic_defin_url.append(resp['url'])\n",
    "    time.sleep(2)\n",
    "    \n",
    "pic_html = []\n",
    "\n",
    "\n",
    "#Add Wechat Title\n",
    "wechat_title=\"\"\"<p style=\"text-align: center;\"><img class=\"rich_pages\" data-cropselx1=\"0\" data-cropselx2=\"578\" data-cropsely1=\"0\" data-cropsely2=\"94\" data-ratio=\"0.16300940438871472\" data-s=\"300,640\" src=\"https://mmbiz.qpic.cn/mmbiz_gif/B0OT7bl3qeG68IvzLJWKglDFJxVibSULhxdK2JdtaGdjuiayKfx4NqZFHeDlk5qRdflN1rY4MuQOuUC3DibS2UfAg/640?wx_fmt=gif\" data-type=\"gif\" data-w=\"638\" style=\"margin-top: 15px;width: 578px;height: 94px;margin-bottom: 18px;\"></p>\n",
    "<p style=\"margin-bottom: 0px; margin-top: 0px; max-width: 100%; min-height: 1em; font-family: -apple-system-font, BlinkMacSystemFont, &quot;Helvetica Neue&quot;, &quot;PingFang SC&quot;, &quot;Hiragino Sans GB&quot;, &quot;Microsoft YaHei UI&quot;, &quot;Microsoft YaHei&quot;, Arial, sans-serif; white-space: normal; background-color: rgb(255, 255, 255); text-align: center; letter-spacing: 0.54px; line-height: normal; box-sizing: border-box !important; overflow-wrap: break-word !important;\"><text><em><span style=\"max-width: 100%;color: rgb(136, 136, 136);letter-spacing: 0.54px;font-family: Optima-Regular, PingFangTC-light;font-size: 12px;overflow-wrap: break-word;box-sizing: border-box !important;word-wrap: break-word !important;\">&#8203;公众号内回复\"原则\" 获取原版书下载链接</span></em></text></p>\n",
    "<p style=\"text-align: left; margin-left: 20px; margin-top: 15px; margin-bottom: 15px;\"><span style=\"letter-spacing: 2px;\"><strong><span style=\"color: rgb(107, 46, 15);\">&#8203;▍内容简介<mpchecktext contenteditable=\"false\" id=\"1593610357970_0.39864090596811796\"></mpchecktext></span></strong></span><strong><span style=\"color: rgb(107, 46, 15);letter-spacing: 2px;\"><strong style=\"text-align: left;white-space: normal;\"><span style=\"color: rgb(107, 46, 15);\"></span></strong></span></strong><span style=\"color: rgb(107, 46, 15);\"><br></span></p>\n",
    "<p style=\"line-height: 1.75em; margin-left: 20px; margin-right: 20px; text-indent: 0em; text-align: justify; margin-bottom: 5px;\"><span style=\"letter-spacing: 2px;\"><span style=\"font-size: 13px;font-family: STZhongsong;color: rgb(17, 17, 17);\">一岁的哈利</span><span style=\"font-size: 13px;font-family: 微软雅黑, sans-serif;color: rgb(17, 17, 17);\">・</span><span style=\"font-size: 13px;font-family: STZhongsong;color: rgb(17, 17, 17);\">波特失去父母后，神秘地出现在姨父姨妈家的门前，度过了寄人篱下、极其痛苦的十年。<mpchecktext contenteditable=\"false\" id=\"1593610357971_0.9702775024198502\"></mpchecktext></span></span></p>\n",
    "<p style=\"line-height: 1.75em; margin-left: 20px; margin-right: 20px; text-indent: 0em; text-align: justify; margin-bottom: 5px;\"><span style=\"letter-spacing: 2px;\"><span style=\"font-size: 13px;font-family: STZhongsong;color: rgb(17, 17, 17);\">生活</span></span><span style=\"color: rgb(17, 17, 17);font-family: STZhongsong;font-size: 13px;letter-spacing: 2px;text-indent: 0em;\">在</span><span style=\"color: rgb(17, 17, 17);font-family: STZhongsong;font-size: 13px;letter-spacing: 2px;text-indent: 0em;\">他十一岁生日那天发生了变化，信使猫头鹰带来了一封神秘的信：<mpchecktext contenteditable=\"false\" id=\"1593610357972_0.554743536010708\"></mpchecktext></span><span style=\"color: rgb(17, 17, 17);font-family: STZhongsong;font-size: 13px;letter-spacing: 2px;text-indent: 0em;\">邀请哈利去一个会使他永远难忘、不可思议的地方——霍格沃茨魔法学校。<mpchecktext contenteditable=\"false\" id=\"1593610357973_0.2932260322692204\"></mpchecktext></span></p>\n",
    "<section style=\"text-align: left; margin-left: 20px; margin-top: 15px; margin-bottom: 15px;\"><span style=\"letter-spacing: 2px;\"><strong><span style=\"color: rgb(107, 46, 15);\">▍作者简介<mpchecktext contenteditable=\"false\" id=\"1593610357975_0.2730164792206966\"></mpchecktext></span></strong></span><span style=\"color: rgb(107, 46, 15);\"></span></section>\n",
    "<section style=\"text-align: justify; line-height: 1.75em; margin-left: 20px; margin-right: 20px; text-indent: 0em;\"><span style=\"letter-spacing: 2px;font-size: 13px;font-family: STZhongsong;color: rgb(17, 17, 17);\">J. K. 罗琳（<span style=\"font-size: 13px;font-family: STZhongsong;color: rgb(17, 17, 17);letter-spacing: 0.5px;\">J. K. Rowling,1965- </span>），英国作家。<mpchecktext contenteditable=\"false\" id=\"1593610357976_0.12094276265280746\"></mpchecktext>福布斯2017年度全球百位名人榜第三位；<mpchecktext contenteditable=\"false\" id=\"1593610357978_0.03949907050363244\"></mpchecktext>2020胡润全球白手起家女富豪榜第87位。<mpchecktext contenteditable=\"false\" id=\"1593610357977_0.17550783976238749\"></mpchecktext></span></section>\n",
    "<section style=\"margin-bottom: 0px; margin-top: 15px; max-width: 100%; min-height: 1em; font-family: -apple-system-font, BlinkMacSystemFont, &quot;Helvetica Neue&quot;, &quot;PingFang SC&quot;, &quot;Hiragino Sans GB&quot;, &quot;Microsoft YaHei UI&quot;, &quot;Microsoft YaHei&quot;, Arial, sans-serif; white-space: normal; background-color: rgb(255, 255, 255); text-align: center; letter-spacing: 0.54px; line-height: normal; box-sizing: border-box !important; overflow-wrap: break-word !important;\"><text><em><span style=\"max-width: 100%;color: rgb(136, 136, 136);letter-spacing: 0.54px;font-family: Optima-Regular, PingFangTC-light;font-size: 12px;overflow-wrap: break-word;box-sizing: border-box !important;word-wrap: break-word !important;\">Flashcard-单词卡&nbsp;用于单词记忆和单词自测<mpchecktext contenteditable=\"false\" id=\"1593610357979_0.8147345736523024\"></mpchecktext></span></em></text></section>\n",
    "<section style=\"margin: 0px; max-width: 100%; min-height: 1em; font-family: -apple-system-font, BlinkMacSystemFont, &quot;Helvetica Neue&quot;, &quot;PingFang SC&quot;, &quot;Hiragino Sans GB&quot;, &quot;Microsoft YaHei UI&quot;, &quot;Microsoft YaHei&quot;, Arial, sans-serif; white-space: normal; background-color: rgb(255, 255, 255); text-align: center; letter-spacing: 0.54px; line-height: normal; box-sizing: border-box !important; overflow-wrap: break-word !important;\"><em><span style=\"max-width: 100%;color: rgb(136, 136, 136);letter-spacing: 0.54px;font-family: Optima-Regular, PingFangTC-light;font-size: 12px;overflow-wrap: break-word;box-sizing: border-box !important;word-wrap: break-word !important;\">点击单词图片 单词释义会短暂显示 可反复点击<mpchecktext contenteditable=\"false\" id=\"1593610357980_0.887330320501097\"></mpchecktext></span></em></section>\n",
    "<section style=\"margin: 0px; max-width: 100%; min-height: 1em; font-family: -apple-system-font, BlinkMacSystemFont, &quot;Helvetica Neue&quot;, &quot;PingFang SC&quot;, &quot;Hiragino Sans GB&quot;, &quot;Microsoft YaHei UI&quot;, &quot;Microsoft YaHei&quot;, Arial, sans-serif; white-space: normal; background-color: rgb(255, 255, 255); text-align: center; letter-spacing: 0.54px; line-height: normal; box-sizing: border-box !important; overflow-wrap: break-word !important;color: rgb(136, 136, 136);\"><span style=\"font-size: 12px;\">▼<mpchecktext contenteditable=\"false\" id=\"1593610357981_0.29943269450065557\"></mpchecktext></span></section>\"\"\"\n",
    "\n",
    "\n",
    "pic_html.append(wechat_title)\n",
    "pic_html.append(\"<img src=\" + pic_title_url + \"\"\"data-type=\"jpg\" style=\"float: left;\">\"\"\")\n",
    "\n",
    "\n",
    "#Format HTML language\n",
    "for i in range(0,(int(counts)//2)):\n",
    "    css = \"\"\"<section data-width=\"100%\" style=\"display: inline-block; width: 100%; font-size: 0px; background-image: url(&quot;\"\"\" + pic_defin_url[i] + \"\"\"&quot;); background-size: cover; vertical-align: top; background-attachment: scroll; box-sizing: border-box; text-align: center; background-position: 0% 0%; background-repeat: no-repeat; max-width: 100% !important;\">\n",
    "<svg data-width=\"100%\" enable-background=\"new 0 0 1067 189\" space=\"preserve\" style=\"display: inline-block;outline: none;width: 100%;margin-top: -1px;border-width: initial;border-style: none;border-color: initial;vertical-align: top;background-position: 0% 0%;background-repeat: no-repeat;background-size: 100%;background-attachment: scroll;background-image: url(&quot;\"\"\" + pic_word_url[i] + \"\"\"&quot;);-webkit-tap-highlight-color: transparent;\" viewBox=\"0 0 1067 189\" x=\"0px\" xml=\"\" y=\"0px\">\n",
    "<set attributeName=\"visibility\" from=\"visible\" to=\"hidden\" begin=\"click+0.3\"></set>\n",
    "<animate attributeName=\"opacity\" begin=\"click\" dur=\"0.2s\" values=\"1;0\" restart=\"never\" fill=\"freeze\">\n",
    "</animate>\n",
    "<set attributeName=\"visibility\" from=\"hidden\" to=\"visible\" begin=\"click+4\"></set>\n",
    "<animate attributeName=\"opacity\" begin=\"click+4\" dur=\"0.2s\" values=\"0;1\" restart=\"never\" fill=\"freeze\">\n",
    "</animate>\n",
    "</svg>\n",
    "</section>\"\"\" \n",
    "    pic_html.append(css)\n",
    "    \n",
    "pic_html.append(\"<img src=\" + pic_bottom_url + \"\"\"data-type=\"jpg\" >\"\"\")\n",
    "\n",
    "\n",
    "#Add Wechat Bottom\n",
    "wechat_bottom = \"\"\"<p style=\"margin-right: 8px; margin-bottom: 0px; margin-left: 8px; max-width: 100%; min-height: 1em; font-family: -apple-system-font, BlinkMacSystemFont, &quot;Helvetica Neue&quot;, &quot;PingFang SC&quot;, &quot;Hiragino Sans GB&quot;, &quot;Microsoft YaHei UI&quot;, &quot;Microsoft YaHei&quot;, Arial, sans-serif; white-space: normal; background-color: rgb(255, 255, 255); text-align: center; line-height: 27.2px; letter-spacing: 0.54px; box-sizing: border-box !important; overflow-wrap: break-word !important;\"><span style=\"max-width: 100%;color: rgb(136, 136, 136);letter-spacing: 0.54px;font-family: Optima-Regular, PingFangTC-light;font-size: 12px;overflow-wrap: break-word;box-sizing: border-box !important;word-wrap: break-word !important;\">长按上方 ▲ 关注我们<mpchecktext contenteditable=\"false\" id=\"1593610357982_0.8391312925934049\"></mpchecktext></span><br style=\"max-width: 100%;box-sizing: border-box !important;word-wrap: break-word !important;\"></p>\n",
    "<blockquote style=\"margin-top: 15px; margin-bottom: 15px; color: rgba(0, 0, 0, 0.5); max-width: 100%; font-family: -apple-system-font, BlinkMacSystemFont, &quot;Helvetica Neue&quot;, &quot;PingFang SC&quot;, &quot;Hiragino Sans GB&quot;, &quot;Microsoft YaHei UI&quot;, &quot;Microsoft YaHei&quot;, Arial, sans-serif; white-space: normal; background-color: rgb(255, 255, 255); line-height: 235px; letter-spacing: 0.54px; box-sizing: border-box !important; overflow-wrap: break-word !important;\"><section data-role=\"outer\" label=\"Powered by 135editor.com\" style=\"max-width: 100%;line-height: 27.2px;letter-spacing: 0.54px;box-sizing: border-box !important;word-wrap: break-word !important;\"><section style=\"max-width: 100%;box-sizing: border-box !important;word-wrap: break-word !important;\"><section data-id=\"86005\" data-tools=\"135编辑器\" style=\"max-width: 100%;box-sizing: border-box !important;word-wrap: break-word !important;\"><section style=\"max-width: 100%;box-sizing: border-box !important;word-wrap: break-word !important;\"><p style=\"margin-right: 8px;margin-bottom: 5px;margin-left: 8px;max-width: 100%;min-height: 1em;font-family: &quot;Helvetica Neue&quot;, Helvetica, &quot;Hiragino Sans GB&quot;, &quot;Microsoft YaHei&quot;, Arial, sans-serif;letter-spacing: 1px;box-sizing: border-box !important;word-wrap: break-word !important;\"><span style=\"color: rgb(136, 136, 136);font-family: 微软雅黑;font-size: 14px;letter-spacing: 0.54px;text-align: center;text-indent: 32px;\">是</span><span style=\"color: rgb(136, 136, 136);font-family: 微软雅黑;font-size: 14px;letter-spacing: 0.54px;text-align: center;text-indent: 32px;\">它</span><span style=\"color: rgb(136, 136, 136);font-family: 微软雅黑;font-size: 14px;letter-spacing: 0.54px;text-align: center;text-indent: 32px;\">，让我进入了一个神奇的世界……<mpchecktext contenteditable=\"false\" id=\"1593610357983_0.1728900327363505\"></mpchecktext></span></p><p style=\"margin-right: 8px;margin-bottom: 5px;margin-left: 8px;max-width: 100%;min-height: 1em;font-family: &quot;Helvetica Neue&quot;, Helvetica, &quot;Hiragino Sans GB&quot;, &quot;Microsoft YaHei&quot;, Arial, sans-serif;letter-spacing: 1px;box-sizing: border-box !important;word-wrap: break-word !important;\"><span style=\"color: rgb(136, 136, 136);font-family: 微软雅黑;font-size: 14px;letter-spacing: 0.54px;text-align: center;text-indent: 32px;\">豆瓣网友</span><span style=\"color: rgb(136, 136, 136);font-family: 微软雅黑;font-size: 14px;letter-spacing: 0.54px;text-align: center;text-indent: 32px;\"> 放开那个浪味仙&nbsp;</span><span style=\"color: rgb(136, 136, 136);font-family: 微软雅黑;font-size: 14px;letter-spacing: 0.54px;text-align: center;text-indent: 32px;\">2008-02-23</span></p></section></section></section></section></blockquote><p style=\"margin-top: 20px; text-align: center;\"><span style=\"color: rgb(136, 136, 136);font-family: -apple-system-font, BlinkMacSystemFont, &quot;Helvetica Neue&quot;, &quot;PingFang SC&quot;, &quot;Hiragino Sans GB&quot;, &quot;Microsoft YaHei UI&quot;, &quot;Microsoft YaHei&quot;, Arial, sans-serif;font-size: 12px;letter-spacing: 0.54px;text-align: center;background-color: rgb(255, 255, 255);\">点击下方图片 ▼ 查阅过往书单<mpchecktext contenteditable=\"false\" id=\"1593881567624_0.7655843026292393\"></mpchecktext></span></p>\n",
    "<p style=\"text-align: center;\"><a target=\"_blank\" href=\"https://mp.weixin.qq.com/s/TxwKn_ItbFfoBMIRxzFD9A\" textvalue=\"你已选中了添加链接的内容\" tab=\"innerlink\"><span class=\"js_jump_icon h5_image_link\" data-positionback=\"static\" style=\"top: auto; left: auto; margin: 0px; right: auto; bottom: auto;\"><img class=\"rich_pages\" data-s=\"300,640\" src=\"https://mmbiz.qpic.cn/mmbiz_jpg/B0OT7bl3qeEGzEiaf0FkmAWBIhKnmYODgbaJicS5UhcJfCDtIQhsNeibBWnNLEGrRsU3fmpjVGgXDjWHzgl8HRAmQ/640?wx_fmt=jpeg\" data-type=\"jpeg\" style=\"margin: 0px; position: static;\" data-ratio=\"0.21274601686972822\" data-w=\"1067\"></span></a>&#8203;</p>\n",
    "\n",
    "<p><span style=\"color: rgb(136, 136, 136);font-family: -apple-system-font, BlinkMacSystemFont, &quot;Helvetica Neue&quot;, &quot;PingFang SC&quot;, &quot;Hiragino Sans GB&quot;, &quot;Microsoft YaHei UI&quot;, &quot;Microsoft YaHei&quot;, Arial, sans-serif;font-size: 12px;letter-spacing: 0.54px;text-align: center;background-color: rgb(255, 255, 255);\">▼ 阅读原文 保存Notebook-单词本长图</span></p>\"\"\"\n",
    "pic_html.append(wechat_bottom)\n",
    "#Output\n",
    "fileObject = open('WechatLibraryFCHTML.txt', 'w',encoding='utf-8')\n",
    "for i in pic_html:\n",
    "    fileObject.write(i)\n",
    "    fileObject.write('\\n')\n",
    "fileObject.close()\n"
   ]
  },
  {
   "cell_type": "code",
   "execution_count": null,
   "metadata": {},
   "outputs": [],
   "source": [
    "    "
   ]
  }
 ],
 "metadata": {
  "kernelspec": {
   "display_name": "Python 3",
   "language": "python",
   "name": "python3"
  },
  "language_info": {
   "codemirror_mode": {
    "name": "ipython",
    "version": 3
   },
   "file_extension": ".py",
   "mimetype": "text/x-python",
   "name": "python",
   "nbconvert_exporter": "python",
   "pygments_lexer": "ipython3",
   "version": "3.7.3"
  },
  "toc": {
   "base_numbering": 1,
   "nav_menu": {},
   "number_sections": true,
   "sideBar": true,
   "skip_h1_title": false,
   "title_cell": "Table of Contents",
   "title_sidebar": "Contents",
   "toc_cell": false,
   "toc_position": {},
   "toc_section_display": true,
   "toc_window_display": false
  }
 },
 "nbformat": 4,
 "nbformat_minor": 4
}
