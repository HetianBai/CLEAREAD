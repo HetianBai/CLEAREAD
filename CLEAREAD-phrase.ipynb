{
 "cells": [
  {
   "cell_type": "code",
   "execution_count": null,
   "metadata": {},
   "outputs": [],
   "source": [
    "import numpy as np\n",
    "import re\n",
    "import string\n",
    "import pandas as pd\n",
    "import nltk\n",
    "from nltk.collocations import *\n",
    "from pattern.en import lemma\n",
    "import requests\n",
    "import json\n",
    "import time\n",
    "import hashlib\n",
    "import uuid\n",
    "import csv\n",
    "import phrasemachine\n",
    "import time\n",
    "from urllib.request import urlopen\n",
    "from bs4 import BeautifulSoup\n",
    "from urllib.request import Request\n",
    "import difflib\n",
    "from nltk.stem import WordNetLemmatizer \n",
    "from wechatpy.client import WeChatClient\n",
    "import random\n",
    "import http.client\n",
    "import stardict\n",
    "from stardict import LemmaDB\n",
    "import urllib"
   ]
  },
  {
   "cell_type": "code",
   "execution_count": null,
   "metadata": {},
   "outputs": [],
   "source": [
    "# Pharase with space\n",
    "csvFile = open(\"Phrase Book With Space.csv\", \"r\",encoding = 'utf-8-sig')\n",
    "reader = csv.reader(csvFile)\n",
    "phrase = []\n",
    "phrase_with_space_list = []\n",
    "for i in reader:\n",
    "    phrase.append(i)\n",
    "for i in phrase:\n",
    "    i = [j for j in i if j !=  '']\n",
    "    phrase_with_space_list.append(i)\n",
    "\n",
    "# Pharase without space\n",
    "csvfile = open(\"Phrase Book No Space_v2.csv\", \"r\",encoding = 'utf-8-sig')\n",
    "reader = csv.reader(csvfile)\n",
    "phrase = []\n",
    "phrase_no_space_list = []\n",
    "for i in reader:\n",
    "    phrase.append(i)\n",
    "for i in phrase:\n",
    "    i = [j for j in i if j !=  '']\n",
    "    phrase_no_space_list.append(i)"
   ]
  },
  {
   "cell_type": "markdown",
   "metadata": {},
   "source": [
    "# Output Phrases CSVs"
   ]
  },
  {
   "cell_type": "code",
   "execution_count": null,
   "metadata": {
    "ExecuteTime": {
     "start_time": "2020-06-28T15:27:23.338Z"
    }
   },
   "outputs": [],
   "source": [
    "bookname = input('please enter the book for phrase selection')"
   ]
  },
  {
   "cell_type": "code",
   "execution_count": null,
   "metadata": {},
   "outputs": [],
   "source": [
    "with open(bookname + \".txt\", 'r',encoding='utf-8') as file:\n",
    "    text = file.read().rstrip().lower()\n",
    "# remove puntuation\n",
    "word_list = re.findall(\"[a-z]+\\-?[a-z]+\", text)\n",
    "\n",
    "# select pharses appeared with spaces\n",
    "raw_phrase_with_space_list = []\n",
    "\n",
    "for i in range(0,len(word_list)):\n",
    "    for j in phrase_with_space_list:\n",
    "        try:\n",
    "            if word_list[i] == j[0] and j[-1] in word_list[i+1:i+6]:\n",
    "                if j[-2] in word_list[i+1:i+5]:\n",
    "                    raw_phrase_with_space_list.append(j)\n",
    "                else:\n",
    "                    continue                \n",
    "            else:\n",
    "                continue\n",
    "        except IndexError:\n",
    "            pass\n",
    "        continue\n",
    "\n",
    "phrase_count = pd.value_counts(raw_phrase_with_space_list)\n",
    "data = pd.DataFrame({'Phrase':phrase_count.index, 'counts':phrase_count.values})\n",
    "data.to_csv(\"Heartisthelonelyhunter_phrase_with_space_counts.csv\",index=False,header=True)  \n",
    "\n",
    "print('ready to select phrases without spaces')\n",
    "# select pharses appeared without spaces\n",
    "raw_phrase_no_space_list = []\n",
    "correct = 0\n",
    "for i in range(0,len(word_list)):\n",
    "    for j in phrase_no_space_list:\n",
    "        try:\n",
    "            length = len(j)\n",
    "            for h in range(0,length):\n",
    "                if word_list[i+h] == j[h]:\n",
    "                    correct += 1\n",
    "            if correct == length:\n",
    "                raw_phrase_no_space_list.append(j)\n",
    "                correct = 0\n",
    "            else:\n",
    "                correct = 0\n",
    "        except IndexError:\n",
    "            pass\n",
    "        continue\n",
    "            \n",
    "phrase_count = pd.value_counts(raw_phrase_no_space_list)\n",
    "data = pd.DataFrame({'Phrase':phrase_count.index, 'counts':phrase_count.values})\n",
    "data.to_csv(\"Heartisthelonelyhunter_phrase_no_space_counts.csv\",index=False,header=True)"
   ]
  }
 ],
 "metadata": {
  "kernelspec": {
   "display_name": "Python 3",
   "language": "python",
   "name": "python3"
  },
  "language_info": {
   "codemirror_mode": {
    "name": "ipython",
    "version": 3
   },
   "file_extension": ".py",
   "mimetype": "text/x-python",
   "name": "python",
   "nbconvert_exporter": "python",
   "pygments_lexer": "ipython3",
   "version": "3.7.3"
  },
  "toc": {
   "base_numbering": 1,
   "nav_menu": {},
   "number_sections": true,
   "sideBar": true,
   "skip_h1_title": false,
   "title_cell": "Table of Contents",
   "title_sidebar": "Contents",
   "toc_cell": false,
   "toc_position": {},
   "toc_section_display": true,
   "toc_window_display": false
  }
 },
 "nbformat": 4,
 "nbformat_minor": 4
}
